{
 "cells": [
  {
   "cell_type": "markdown",
   "metadata": {},
   "source": [
    "# Load csv"
   ]
  },
  {
   "cell_type": "code",
   "execution_count": 63,
   "metadata": {},
   "outputs": [],
   "source": [
    "import csv\n",
    "import pandas as pd\n",
    "\n",
    "file_name = 'us_marriages_divorces.csv'\n",
    "df = pd.read_csv(file_name, encoding='latin-1')"
   ]
  },
  {
   "cell_type": "markdown",
   "metadata": {},
   "source": [
    "# How many rows and columns in total"
   ]
  },
  {
   "cell_type": "code",
   "execution_count": 64,
   "metadata": {},
   "outputs": [
    {
     "data": {
      "text/plain": [
       "(145, 6)"
      ]
     },
     "execution_count": 64,
     "metadata": {},
     "output_type": "execute_result"
    }
   ],
   "source": [
    "df.shape"
   ]
  },
  {
   "cell_type": "markdown",
   "metadata": {},
   "source": [
    "# Print head of DataFrame"
   ]
  },
  {
   "cell_type": "code",
   "execution_count": 65,
   "metadata": {},
   "outputs": [
    {
     "data": {
      "text/html": [
       "<div>\n",
       "<style scoped>\n",
       "    .dataframe tbody tr th:only-of-type {\n",
       "        vertical-align: middle;\n",
       "    }\n",
       "\n",
       "    .dataframe tbody tr th {\n",
       "        vertical-align: top;\n",
       "    }\n",
       "\n",
       "    .dataframe thead th {\n",
       "        text-align: right;\n",
       "    }\n",
       "</style>\n",
       "<table border=\"1\" class=\"dataframe\">\n",
       "  <thead>\n",
       "    <tr style=\"text-align: right;\">\n",
       "      <th></th>\n",
       "      <th>Year</th>\n",
       "      <th>Marriages</th>\n",
       "      <th>Divorces</th>\n",
       "      <th>Population</th>\n",
       "      <th>Marriages_per_1000</th>\n",
       "      <th>Divorces_per_1000</th>\n",
       "    </tr>\n",
       "  </thead>\n",
       "  <tbody>\n",
       "    <tr>\n",
       "      <th>0</th>\n",
       "      <td>1867</td>\n",
       "      <td>357000.0</td>\n",
       "      <td>10000.0</td>\n",
       "      <td>36970000</td>\n",
       "      <td>9.7</td>\n",
       "      <td>0.3</td>\n",
       "    </tr>\n",
       "    <tr>\n",
       "      <th>1</th>\n",
       "      <td>1868</td>\n",
       "      <td>345000.0</td>\n",
       "      <td>10000.0</td>\n",
       "      <td>37885000</td>\n",
       "      <td>9.1</td>\n",
       "      <td>0.3</td>\n",
       "    </tr>\n",
       "    <tr>\n",
       "      <th>2</th>\n",
       "      <td>1869</td>\n",
       "      <td>348000.0</td>\n",
       "      <td>11000.0</td>\n",
       "      <td>38870000</td>\n",
       "      <td>9.0</td>\n",
       "      <td>0.3</td>\n",
       "    </tr>\n",
       "    <tr>\n",
       "      <th>3</th>\n",
       "      <td>1870</td>\n",
       "      <td>352000.0</td>\n",
       "      <td>11000.0</td>\n",
       "      <td>39905000</td>\n",
       "      <td>8.8</td>\n",
       "      <td>0.3</td>\n",
       "    </tr>\n",
       "    <tr>\n",
       "      <th>4</th>\n",
       "      <td>1871</td>\n",
       "      <td>359000.0</td>\n",
       "      <td>12000.0</td>\n",
       "      <td>41010000</td>\n",
       "      <td>8.8</td>\n",
       "      <td>0.3</td>\n",
       "    </tr>\n",
       "  </tbody>\n",
       "</table>\n",
       "</div>"
      ],
      "text/plain": [
       "   Year  Marriages  Divorces  Population  Marriages_per_1000  \\\n",
       "0  1867   357000.0   10000.0    36970000                 9.7   \n",
       "1  1868   345000.0   10000.0    37885000                 9.1   \n",
       "2  1869   348000.0   11000.0    38870000                 9.0   \n",
       "3  1870   352000.0   11000.0    39905000                 8.8   \n",
       "4  1871   359000.0   12000.0    41010000                 8.8   \n",
       "\n",
       "   Divorces_per_1000  \n",
       "0                0.3  \n",
       "1                0.3  \n",
       "2                0.3  \n",
       "3                0.3  \n",
       "4                0.3  "
      ]
     },
     "execution_count": 65,
     "metadata": {},
     "output_type": "execute_result"
    }
   ],
   "source": [
    "df.head()"
   ]
  },
  {
   "cell_type": "markdown",
   "metadata": {},
   "source": [
    "# Print columns in DF"
   ]
  },
  {
   "cell_type": "code",
   "execution_count": 66,
   "metadata": {},
   "outputs": [
    {
     "data": {
      "text/plain": [
       "Index(['Year', 'Marriages', 'Divorces', 'Population', 'Marriages_per_1000',\n",
       "       'Divorces_per_1000'],\n",
       "      dtype='object')"
      ]
     },
     "execution_count": 66,
     "metadata": {},
     "output_type": "execute_result"
    }
   ],
   "source": [
    "df.columns"
   ]
  },
  {
   "cell_type": "markdown",
   "metadata": {},
   "source": [
    "# Slice 'Year' column"
   ]
  },
  {
   "cell_type": "code",
   "execution_count": 67,
   "metadata": {},
   "outputs": [
    {
     "data": {
      "text/plain": [
       "0    1867\n",
       "1    1868\n",
       "2    1869\n",
       "Name: Year, dtype: int64"
      ]
     },
     "execution_count": 67,
     "metadata": {},
     "output_type": "execute_result"
    }
   ],
   "source": [
    "df.Year[0:3]"
   ]
  },
  {
   "cell_type": "code",
   "execution_count": 68,
   "metadata": {},
   "outputs": [
    {
     "data": {
      "text/plain": [
       "0    1867\n",
       "1    1868\n",
       "2    1869\n",
       "Name: Year, dtype: int64"
      ]
     },
     "execution_count": 68,
     "metadata": {},
     "output_type": "execute_result"
    }
   ],
   "source": [
    "df['Year'][0:3]"
   ]
  },
  {
   "cell_type": "markdown",
   "metadata": {},
   "source": [
    "# Data Type"
   ]
  },
  {
   "cell_type": "code",
   "execution_count": 69,
   "metadata": {},
   "outputs": [
    {
     "data": {
      "text/plain": [
       "pandas.core.series.Series"
      ]
     },
     "execution_count": 69,
     "metadata": {},
     "output_type": "execute_result"
    }
   ],
   "source": [
    "type(df.Year)"
   ]
  },
  {
   "cell_type": "markdown",
   "metadata": {},
   "source": [
    "# View certain columns"
   ]
  },
  {
   "cell_type": "code",
   "execution_count": 70,
   "metadata": {},
   "outputs": [
    {
     "data": {
      "text/html": [
       "<div>\n",
       "<style scoped>\n",
       "    .dataframe tbody tr th:only-of-type {\n",
       "        vertical-align: middle;\n",
       "    }\n",
       "\n",
       "    .dataframe tbody tr th {\n",
       "        vertical-align: top;\n",
       "    }\n",
       "\n",
       "    .dataframe thead th {\n",
       "        text-align: right;\n",
       "    }\n",
       "</style>\n",
       "<table border=\"1\" class=\"dataframe\">\n",
       "  <thead>\n",
       "    <tr style=\"text-align: right;\">\n",
       "      <th></th>\n",
       "      <th>Year</th>\n",
       "      <th>Marriages</th>\n",
       "      <th>Divorces</th>\n",
       "    </tr>\n",
       "  </thead>\n",
       "  <tbody>\n",
       "    <tr>\n",
       "      <th>0</th>\n",
       "      <td>1867</td>\n",
       "      <td>357000.0</td>\n",
       "      <td>10000.0</td>\n",
       "    </tr>\n",
       "    <tr>\n",
       "      <th>1</th>\n",
       "      <td>1868</td>\n",
       "      <td>345000.0</td>\n",
       "      <td>10000.0</td>\n",
       "    </tr>\n",
       "    <tr>\n",
       "      <th>2</th>\n",
       "      <td>1869</td>\n",
       "      <td>348000.0</td>\n",
       "      <td>11000.0</td>\n",
       "    </tr>\n",
       "    <tr>\n",
       "      <th>3</th>\n",
       "      <td>1870</td>\n",
       "      <td>352000.0</td>\n",
       "      <td>11000.0</td>\n",
       "    </tr>\n",
       "  </tbody>\n",
       "</table>\n",
       "</div>"
      ],
      "text/plain": [
       "   Year  Marriages  Divorces\n",
       "0  1867   357000.0   10000.0\n",
       "1  1868   345000.0   10000.0\n",
       "2  1869   348000.0   11000.0\n",
       "3  1870   352000.0   11000.0"
      ]
     },
     "execution_count": 70,
     "metadata": {},
     "output_type": "execute_result"
    }
   ],
   "source": [
    "df[['Year','Marriages','Divorces']][:4]"
   ]
  },
  {
   "cell_type": "markdown",
   "metadata": {},
   "source": [
    "# Max, Min, Mean"
   ]
  },
  {
   "cell_type": "code",
   "execution_count": 71,
   "metadata": {},
   "outputs": [
    {
     "data": {
      "text/plain": [
       "414576.6241134752"
      ]
     },
     "execution_count": 71,
     "metadata": {},
     "output_type": "execute_result"
    }
   ],
   "source": [
    "df['Divorces'].mean()"
   ]
  },
  {
   "cell_type": "code",
   "execution_count": 72,
   "metadata": {},
   "outputs": [
    {
     "data": {
      "text/plain": [
       "2011"
      ]
     },
     "execution_count": 72,
     "metadata": {},
     "output_type": "execute_result"
    }
   ],
   "source": [
    "df['Year'].max()"
   ]
  },
  {
   "cell_type": "code",
   "execution_count": 73,
   "metadata": {},
   "outputs": [
    {
     "data": {
      "text/plain": [
       "345000.0"
      ]
     },
     "execution_count": 73,
     "metadata": {},
     "output_type": "execute_result"
    }
   ],
   "source": [
    "df['Marriages'].min()"
   ]
  },
  {
   "cell_type": "markdown",
   "metadata": {},
   "source": [
    "# Print Data Set Statistics"
   ]
  },
  {
   "cell_type": "code",
   "execution_count": 74,
   "metadata": {},
   "outputs": [
    {
     "data": {
      "text/html": [
       "<div>\n",
       "<style scoped>\n",
       "    .dataframe tbody tr th:only-of-type {\n",
       "        vertical-align: middle;\n",
       "    }\n",
       "\n",
       "    .dataframe tbody tr th {\n",
       "        vertical-align: top;\n",
       "    }\n",
       "\n",
       "    .dataframe thead th {\n",
       "        text-align: right;\n",
       "    }\n",
       "</style>\n",
       "<table border=\"1\" class=\"dataframe\">\n",
       "  <thead>\n",
       "    <tr style=\"text-align: right;\">\n",
       "      <th></th>\n",
       "      <th>Year</th>\n",
       "      <th>Marriages</th>\n",
       "      <th>Divorces</th>\n",
       "      <th>Population</th>\n",
       "      <th>Marriages_per_1000</th>\n",
       "      <th>Divorces_per_1000</th>\n",
       "    </tr>\n",
       "  </thead>\n",
       "  <tbody>\n",
       "    <tr>\n",
       "      <th>count</th>\n",
       "      <td>145.000000</td>\n",
       "      <td>1.410000e+02</td>\n",
       "      <td>1.410000e+02</td>\n",
       "      <td>1.450000e+02</td>\n",
       "      <td>141.000000</td>\n",
       "      <td>141.000000</td>\n",
       "    </tr>\n",
       "    <tr>\n",
       "      <th>mean</th>\n",
       "      <td>1939.000000</td>\n",
       "      <td>1.397450e+06</td>\n",
       "      <td>4.145766e+05</td>\n",
       "      <td>1.500917e+08</td>\n",
       "      <td>9.635461</td>\n",
       "      <td>2.118440</td>\n",
       "    </tr>\n",
       "    <tr>\n",
       "      <th>std</th>\n",
       "      <td>42.001984</td>\n",
       "      <td>6.957505e+05</td>\n",
       "      <td>4.130935e+05</td>\n",
       "      <td>8.028776e+07</td>\n",
       "      <td>1.319152</td>\n",
       "      <td>1.519615</td>\n",
       "    </tr>\n",
       "    <tr>\n",
       "      <th>min</th>\n",
       "      <td>1867.000000</td>\n",
       "      <td>3.450000e+05</td>\n",
       "      <td>1.000000e+04</td>\n",
       "      <td>3.697000e+07</td>\n",
       "      <td>6.800000</td>\n",
       "      <td>0.300000</td>\n",
       "    </tr>\n",
       "    <tr>\n",
       "      <th>25%</th>\n",
       "      <td>1903.000000</td>\n",
       "      <td>7.760000e+05</td>\n",
       "      <td>6.100000e+04</td>\n",
       "      <td>8.063200e+07</td>\n",
       "      <td>8.800000</td>\n",
       "      <td>0.800000</td>\n",
       "    </tr>\n",
       "    <tr>\n",
       "      <th>50%</th>\n",
       "      <td>1939.000000</td>\n",
       "      <td>1.369000e+06</td>\n",
       "      <td>2.440000e+05</td>\n",
       "      <td>1.310280e+08</td>\n",
       "      <td>9.600000</td>\n",
       "      <td>1.900000</td>\n",
       "    </tr>\n",
       "    <tr>\n",
       "      <th>75%</th>\n",
       "      <td>1975.000000</td>\n",
       "      <td>2.157000e+06</td>\n",
       "      <td>8.400000e+05</td>\n",
       "      <td>2.159810e+08</td>\n",
       "      <td>10.400000</td>\n",
       "      <td>2.900000</td>\n",
       "    </tr>\n",
       "    <tr>\n",
       "      <th>max</th>\n",
       "      <td>2011.000000</td>\n",
       "      <td>2.482137e+06</td>\n",
       "      <td>1.233226e+06</td>\n",
       "      <td>3.120340e+08</td>\n",
       "      <td>16.200000</td>\n",
       "      <td>5.300000</td>\n",
       "    </tr>\n",
       "  </tbody>\n",
       "</table>\n",
       "</div>"
      ],
      "text/plain": [
       "              Year     Marriages      Divorces    Population  \\\n",
       "count   145.000000  1.410000e+02  1.410000e+02  1.450000e+02   \n",
       "mean   1939.000000  1.397450e+06  4.145766e+05  1.500917e+08   \n",
       "std      42.001984  6.957505e+05  4.130935e+05  8.028776e+07   \n",
       "min    1867.000000  3.450000e+05  1.000000e+04  3.697000e+07   \n",
       "25%    1903.000000  7.760000e+05  6.100000e+04  8.063200e+07   \n",
       "50%    1939.000000  1.369000e+06  2.440000e+05  1.310280e+08   \n",
       "75%    1975.000000  2.157000e+06  8.400000e+05  2.159810e+08   \n",
       "max    2011.000000  2.482137e+06  1.233226e+06  3.120340e+08   \n",
       "\n",
       "       Marriages_per_1000  Divorces_per_1000  \n",
       "count          141.000000         141.000000  \n",
       "mean             9.635461           2.118440  \n",
       "std              1.319152           1.519615  \n",
       "min              6.800000           0.300000  \n",
       "25%              8.800000           0.800000  \n",
       "50%              9.600000           1.900000  \n",
       "75%             10.400000           2.900000  \n",
       "max             16.200000           5.300000  "
      ]
     },
     "execution_count": 74,
     "metadata": {},
     "output_type": "execute_result"
    }
   ],
   "source": [
    "df.describe()"
   ]
  },
  {
   "cell_type": "code",
   "execution_count": 75,
   "metadata": {},
   "outputs": [
    {
     "data": {
      "text/plain": [
       "count    1.410000e+02\n",
       "mean     1.397450e+06\n",
       "std      6.957505e+05\n",
       "min      3.450000e+05\n",
       "25%      7.760000e+05\n",
       "50%      1.369000e+06\n",
       "75%      2.157000e+06\n",
       "max      2.482137e+06\n",
       "Name: Marriages, dtype: float64"
      ]
     },
     "execution_count": 75,
     "metadata": {},
     "output_type": "execute_result"
    }
   ],
   "source": [
    "df['Marriages'].describe()"
   ]
  },
  {
   "cell_type": "markdown",
   "metadata": {},
   "source": [
    "# Conditionally select data"
   ]
  },
  {
   "cell_type": "code",
   "execution_count": 76,
   "metadata": {},
   "outputs": [
    {
     "data": {
      "text/html": [
       "<div>\n",
       "<style scoped>\n",
       "    .dataframe tbody tr th:only-of-type {\n",
       "        vertical-align: middle;\n",
       "    }\n",
       "\n",
       "    .dataframe tbody tr th {\n",
       "        vertical-align: top;\n",
       "    }\n",
       "\n",
       "    .dataframe thead th {\n",
       "        text-align: right;\n",
       "    }\n",
       "</style>\n",
       "<table border=\"1\" class=\"dataframe\">\n",
       "  <thead>\n",
       "    <tr style=\"text-align: right;\">\n",
       "      <th></th>\n",
       "      <th>Year</th>\n",
       "      <th>Marriages</th>\n",
       "      <th>Divorces</th>\n",
       "      <th>Population</th>\n",
       "      <th>Marriages_per_1000</th>\n",
       "      <th>Divorces_per_1000</th>\n",
       "    </tr>\n",
       "  </thead>\n",
       "  <tbody>\n",
       "    <tr>\n",
       "      <th>140</th>\n",
       "      <td>2007</td>\n",
       "      <td>2197000.0</td>\n",
       "      <td>856000.0</td>\n",
       "      <td>301696000</td>\n",
       "      <td>7.3</td>\n",
       "      <td>2.8</td>\n",
       "    </tr>\n",
       "    <tr>\n",
       "      <th>141</th>\n",
       "      <td>2008</td>\n",
       "      <td>2157000.0</td>\n",
       "      <td>844000.0</td>\n",
       "      <td>304543000</td>\n",
       "      <td>7.1</td>\n",
       "      <td>2.8</td>\n",
       "    </tr>\n",
       "    <tr>\n",
       "      <th>142</th>\n",
       "      <td>2009</td>\n",
       "      <td>2080000.0</td>\n",
       "      <td>840000.0</td>\n",
       "      <td>307240000</td>\n",
       "      <td>6.8</td>\n",
       "      <td>2.7</td>\n",
       "    </tr>\n",
       "    <tr>\n",
       "      <th>143</th>\n",
       "      <td>2010</td>\n",
       "      <td>2096000.0</td>\n",
       "      <td>872000.0</td>\n",
       "      <td>309776000</td>\n",
       "      <td>6.8</td>\n",
       "      <td>2.8</td>\n",
       "    </tr>\n",
       "    <tr>\n",
       "      <th>144</th>\n",
       "      <td>2011</td>\n",
       "      <td>2118000.0</td>\n",
       "      <td>877000.0</td>\n",
       "      <td>312034000</td>\n",
       "      <td>6.8</td>\n",
       "      <td>2.8</td>\n",
       "    </tr>\n",
       "  </tbody>\n",
       "</table>\n",
       "</div>"
      ],
      "text/plain": [
       "     Year  Marriages  Divorces  Population  Marriages_per_1000  \\\n",
       "140  2007  2197000.0  856000.0   301696000                 7.3   \n",
       "141  2008  2157000.0  844000.0   304543000                 7.1   \n",
       "142  2009  2080000.0  840000.0   307240000                 6.8   \n",
       "143  2010  2096000.0  872000.0   309776000                 6.8   \n",
       "144  2011  2118000.0  877000.0   312034000                 6.8   \n",
       "\n",
       "     Divorces_per_1000  \n",
       "140                2.8  \n",
       "141                2.8  \n",
       "142                2.7  \n",
       "143                2.8  \n",
       "144                2.8  "
      ]
     },
     "execution_count": 76,
     "metadata": {},
     "output_type": "execute_result"
    }
   ],
   "source": [
    "df[df.Year >=2007]"
   ]
  },
  {
   "cell_type": "code",
   "execution_count": 77,
   "metadata": {},
   "outputs": [
    {
     "data": {
      "text/plain": [
       "142    2080000.0\n",
       "143    2096000.0\n",
       "144    2118000.0\n",
       "Name: Marriages, dtype: float64"
      ]
     },
     "execution_count": 77,
     "metadata": {},
     "output_type": "execute_result"
    }
   ],
   "source": [
    "df['Marriages'][df.Year> 2008]"
   ]
  },
  {
   "cell_type": "code",
   "execution_count": 78,
   "metadata": {},
   "outputs": [
    {
     "data": {
      "text/html": [
       "<div>\n",
       "<style scoped>\n",
       "    .dataframe tbody tr th:only-of-type {\n",
       "        vertical-align: middle;\n",
       "    }\n",
       "\n",
       "    .dataframe tbody tr th {\n",
       "        vertical-align: top;\n",
       "    }\n",
       "\n",
       "    .dataframe thead th {\n",
       "        text-align: right;\n",
       "    }\n",
       "</style>\n",
       "<table border=\"1\" class=\"dataframe\">\n",
       "  <thead>\n",
       "    <tr style=\"text-align: right;\">\n",
       "      <th></th>\n",
       "      <th>Year</th>\n",
       "      <th>Marriages</th>\n",
       "      <th>Divorces</th>\n",
       "      <th>Population</th>\n",
       "      <th>Marriages_per_1000</th>\n",
       "      <th>Divorces_per_1000</th>\n",
       "    </tr>\n",
       "  </thead>\n",
       "  <tbody>\n",
       "    <tr>\n",
       "      <th>144</th>\n",
       "      <td>2011</td>\n",
       "      <td>2118000.0</td>\n",
       "      <td>877000.0</td>\n",
       "      <td>312034000</td>\n",
       "      <td>6.8</td>\n",
       "      <td>2.8</td>\n",
       "    </tr>\n",
       "  </tbody>\n",
       "</table>\n",
       "</div>"
      ],
      "text/plain": [
       "     Year  Marriages  Divorces  Population  Marriages_per_1000  \\\n",
       "144  2011  2118000.0  877000.0   312034000                 6.8   \n",
       "\n",
       "     Divorces_per_1000  \n",
       "144                2.8  "
      ]
     },
     "execution_count": 78,
     "metadata": {},
     "output_type": "execute_result"
    }
   ],
   "source": [
    "df[df['Year'] == df.Year.max()]"
   ]
  },
  {
   "cell_type": "code",
   "execution_count": 79,
   "metadata": {},
   "outputs": [
    {
     "data": {
      "text/html": [
       "<div>\n",
       "<style scoped>\n",
       "    .dataframe tbody tr th:only-of-type {\n",
       "        vertical-align: middle;\n",
       "    }\n",
       "\n",
       "    .dataframe tbody tr th {\n",
       "        vertical-align: top;\n",
       "    }\n",
       "\n",
       "    .dataframe thead th {\n",
       "        text-align: right;\n",
       "    }\n",
       "</style>\n",
       "<table border=\"1\" class=\"dataframe\">\n",
       "  <thead>\n",
       "    <tr style=\"text-align: right;\">\n",
       "      <th></th>\n",
       "      <th>Year</th>\n",
       "      <th>Marriages</th>\n",
       "      <th>Divorces</th>\n",
       "      <th>Population</th>\n",
       "      <th>Marriages_per_1000</th>\n",
       "      <th>Divorces_per_1000</th>\n",
       "    </tr>\n",
       "  </thead>\n",
       "  <tbody>\n",
       "    <tr>\n",
       "      <th>117</th>\n",
       "      <td>1984</td>\n",
       "      <td>2482137.0</td>\n",
       "      <td>1181970.0</td>\n",
       "      <td>236394000</td>\n",
       "      <td>10.5</td>\n",
       "      <td>5.0</td>\n",
       "    </tr>\n",
       "  </tbody>\n",
       "</table>\n",
       "</div>"
      ],
      "text/plain": [
       "     Year  Marriages   Divorces  Population  Marriages_per_1000  \\\n",
       "117  1984  2482137.0  1181970.0   236394000                10.5   \n",
       "\n",
       "     Divorces_per_1000  \n",
       "117                5.0  "
      ]
     },
     "execution_count": 79,
     "metadata": {},
     "output_type": "execute_result"
    }
   ],
   "source": [
    "df[df['Marriages'] == df.Marriages.max()]"
   ]
  },
  {
   "cell_type": "code",
   "execution_count": 80,
   "metadata": {},
   "outputs": [
    {
     "data": {
      "text/plain": [
       "112    1979\n",
       "114    1981\n",
       "Name: Year, dtype: int64"
      ]
     },
     "execution_count": 80,
     "metadata": {},
     "output_type": "execute_result"
    }
   ],
   "source": [
    "df.Year[df['Divorces_per_1000'] == df.Divorces_per_1000.max()]"
   ]
  },
  {
   "cell_type": "code",
   "execution_count": 81,
   "metadata": {},
   "outputs": [
    {
     "data": {
      "text/html": [
       "<div>\n",
       "<style scoped>\n",
       "    .dataframe tbody tr th:only-of-type {\n",
       "        vertical-align: middle;\n",
       "    }\n",
       "\n",
       "    .dataframe tbody tr th {\n",
       "        vertical-align: top;\n",
       "    }\n",
       "\n",
       "    .dataframe thead th {\n",
       "        text-align: right;\n",
       "    }\n",
       "</style>\n",
       "<table border=\"1\" class=\"dataframe\">\n",
       "  <thead>\n",
       "    <tr style=\"text-align: right;\">\n",
       "      <th></th>\n",
       "      <th>Year</th>\n",
       "      <th>Marriages_per_1000</th>\n",
       "    </tr>\n",
       "  </thead>\n",
       "  <tbody>\n",
       "    <tr>\n",
       "      <th>79</th>\n",
       "      <td>1946</td>\n",
       "      <td>16.2</td>\n",
       "    </tr>\n",
       "  </tbody>\n",
       "</table>\n",
       "</div>"
      ],
      "text/plain": [
       "    Year  Marriages_per_1000\n",
       "79  1946                16.2"
      ]
     },
     "execution_count": 81,
     "metadata": {},
     "output_type": "execute_result"
    }
   ],
   "source": [
    "df[['Year','Marriages_per_1000']][df['Marriages_per_1000'] == df.Marriages_per_1000.max()]"
   ]
  },
  {
   "cell_type": "markdown",
   "metadata": {},
   "source": [
    "# Plot Mariages vs Year and Divorces vs Year"
   ]
  },
  {
   "cell_type": "code",
   "execution_count": 82,
   "metadata": {},
   "outputs": [
    {
     "data": {
      "text/html": [
       "\n",
       "    <div class=\"bk-root\">\n",
       "        <a href=\"https://bokeh.pydata.org\" target=\"_blank\" class=\"bk-logo bk-logo-small bk-logo-notebook\"></a>\n",
       "        <span id=\"037af9bd-da1e-46c0-a10f-2be6e064a1e9\">Loading BokehJS ...</span>\n",
       "    </div>"
      ]
     },
     "metadata": {},
     "output_type": "display_data"
    },
    {
     "data": {
      "application/javascript": [
       "\n",
       "(function(root) {\n",
       "  function now() {\n",
       "    return new Date();\n",
       "  }\n",
       "\n",
       "  var force = true;\n",
       "\n",
       "  if (typeof (root._bokeh_onload_callbacks) === \"undefined\" || force === true) {\n",
       "    root._bokeh_onload_callbacks = [];\n",
       "    root._bokeh_is_loading = undefined;\n",
       "  }\n",
       "\n",
       "  var JS_MIME_TYPE = 'application/javascript';\n",
       "  var HTML_MIME_TYPE = 'text/html';\n",
       "  var EXEC_MIME_TYPE = 'application/vnd.bokehjs_exec.v0+json';\n",
       "  var CLASS_NAME = 'output_bokeh rendered_html';\n",
       "\n",
       "  /**\n",
       "   * Render data to the DOM node\n",
       "   */\n",
       "  function render(props, node) {\n",
       "    var script = document.createElement(\"script\");\n",
       "    node.appendChild(script);\n",
       "  }\n",
       "\n",
       "  /**\n",
       "   * Handle when an output is cleared or removed\n",
       "   */\n",
       "  function handleClearOutput(event, handle) {\n",
       "    var cell = handle.cell;\n",
       "\n",
       "    var id = cell.output_area._bokeh_element_id;\n",
       "    var server_id = cell.output_area._bokeh_server_id;\n",
       "    // Clean up Bokeh references\n",
       "    if (id != null && id in Bokeh.index) {\n",
       "      Bokeh.index[id].model.document.clear();\n",
       "      delete Bokeh.index[id];\n",
       "    }\n",
       "\n",
       "    if (server_id !== undefined) {\n",
       "      // Clean up Bokeh references\n",
       "      var cmd = \"from bokeh.io.state import curstate; print(curstate().uuid_to_server['\" + server_id + \"'].get_sessions()[0].document.roots[0]._id)\";\n",
       "      cell.notebook.kernel.execute(cmd, {\n",
       "        iopub: {\n",
       "          output: function(msg) {\n",
       "            var id = msg.content.text.trim();\n",
       "            if (id in Bokeh.index) {\n",
       "              Bokeh.index[id].model.document.clear();\n",
       "              delete Bokeh.index[id];\n",
       "            }\n",
       "          }\n",
       "        }\n",
       "      });\n",
       "      // Destroy server and session\n",
       "      var cmd = \"import bokeh.io.notebook as ion; ion.destroy_server('\" + server_id + \"')\";\n",
       "      cell.notebook.kernel.execute(cmd);\n",
       "    }\n",
       "  }\n",
       "\n",
       "  /**\n",
       "   * Handle when a new output is added\n",
       "   */\n",
       "  function handleAddOutput(event, handle) {\n",
       "    var output_area = handle.output_area;\n",
       "    var output = handle.output;\n",
       "\n",
       "    // limit handleAddOutput to display_data with EXEC_MIME_TYPE content only\n",
       "    if ((output.output_type != \"display_data\") || (!output.data.hasOwnProperty(EXEC_MIME_TYPE))) {\n",
       "      return\n",
       "    }\n",
       "\n",
       "    var toinsert = output_area.element.find(\".\" + CLASS_NAME.split(' ')[0]);\n",
       "\n",
       "    if (output.metadata[EXEC_MIME_TYPE][\"id\"] !== undefined) {\n",
       "      toinsert[toinsert.length - 1].firstChild.textContent = output.data[JS_MIME_TYPE];\n",
       "      // store reference to embed id on output_area\n",
       "      output_area._bokeh_element_id = output.metadata[EXEC_MIME_TYPE][\"id\"];\n",
       "    }\n",
       "    if (output.metadata[EXEC_MIME_TYPE][\"server_id\"] !== undefined) {\n",
       "      var bk_div = document.createElement(\"div\");\n",
       "      bk_div.innerHTML = output.data[HTML_MIME_TYPE];\n",
       "      var script_attrs = bk_div.children[0].attributes;\n",
       "      for (var i = 0; i < script_attrs.length; i++) {\n",
       "        toinsert[toinsert.length - 1].firstChild.setAttribute(script_attrs[i].name, script_attrs[i].value);\n",
       "      }\n",
       "      // store reference to server id on output_area\n",
       "      output_area._bokeh_server_id = output.metadata[EXEC_MIME_TYPE][\"server_id\"];\n",
       "    }\n",
       "  }\n",
       "\n",
       "  function register_renderer(events, OutputArea) {\n",
       "\n",
       "    function append_mime(data, metadata, element) {\n",
       "      // create a DOM node to render to\n",
       "      var toinsert = this.create_output_subarea(\n",
       "        metadata,\n",
       "        CLASS_NAME,\n",
       "        EXEC_MIME_TYPE\n",
       "      );\n",
       "      this.keyboard_manager.register_events(toinsert);\n",
       "      // Render to node\n",
       "      var props = {data: data, metadata: metadata[EXEC_MIME_TYPE]};\n",
       "      render(props, toinsert[toinsert.length - 1]);\n",
       "      element.append(toinsert);\n",
       "      return toinsert\n",
       "    }\n",
       "\n",
       "    /* Handle when an output is cleared or removed */\n",
       "    events.on('clear_output.CodeCell', handleClearOutput);\n",
       "    events.on('delete.Cell', handleClearOutput);\n",
       "\n",
       "    /* Handle when a new output is added */\n",
       "    events.on('output_added.OutputArea', handleAddOutput);\n",
       "\n",
       "    /**\n",
       "     * Register the mime type and append_mime function with output_area\n",
       "     */\n",
       "    OutputArea.prototype.register_mime_type(EXEC_MIME_TYPE, append_mime, {\n",
       "      /* Is output safe? */\n",
       "      safe: true,\n",
       "      /* Index of renderer in `output_area.display_order` */\n",
       "      index: 0\n",
       "    });\n",
       "  }\n",
       "\n",
       "  // register the mime type if in Jupyter Notebook environment and previously unregistered\n",
       "  if (root.Jupyter !== undefined) {\n",
       "    var events = require('base/js/events');\n",
       "    var OutputArea = require('notebook/js/outputarea').OutputArea;\n",
       "\n",
       "    if (OutputArea.prototype.mime_types().indexOf(EXEC_MIME_TYPE) == -1) {\n",
       "      register_renderer(events, OutputArea);\n",
       "    }\n",
       "  }\n",
       "\n",
       "  \n",
       "  if (typeof (root._bokeh_timeout) === \"undefined\" || force === true) {\n",
       "    root._bokeh_timeout = Date.now() + 5000;\n",
       "    root._bokeh_failed_load = false;\n",
       "  }\n",
       "\n",
       "  var NB_LOAD_WARNING = {'data': {'text/html':\n",
       "     \"<div style='background-color: #fdd'>\\n\"+\n",
       "     \"<p>\\n\"+\n",
       "     \"BokehJS does not appear to have successfully loaded. If loading BokehJS from CDN, this \\n\"+\n",
       "     \"may be due to a slow or bad network connection. Possible fixes:\\n\"+\n",
       "     \"</p>\\n\"+\n",
       "     \"<ul>\\n\"+\n",
       "     \"<li>re-rerun `output_notebook()` to attempt to load from CDN again, or</li>\\n\"+\n",
       "     \"<li>use INLINE resources instead, as so:</li>\\n\"+\n",
       "     \"</ul>\\n\"+\n",
       "     \"<code>\\n\"+\n",
       "     \"from bokeh.resources import INLINE\\n\"+\n",
       "     \"output_notebook(resources=INLINE)\\n\"+\n",
       "     \"</code>\\n\"+\n",
       "     \"</div>\"}};\n",
       "\n",
       "  function display_loaded() {\n",
       "    var el = document.getElementById(\"037af9bd-da1e-46c0-a10f-2be6e064a1e9\");\n",
       "    if (el != null) {\n",
       "      el.textContent = \"BokehJS is loading...\";\n",
       "    }\n",
       "    if (root.Bokeh !== undefined) {\n",
       "      if (el != null) {\n",
       "        el.textContent = \"BokehJS \" + root.Bokeh.version + \" successfully loaded.\";\n",
       "      }\n",
       "    } else if (Date.now() < root._bokeh_timeout) {\n",
       "      setTimeout(display_loaded, 100)\n",
       "    }\n",
       "  }\n",
       "\n",
       "\n",
       "  function run_callbacks() {\n",
       "    try {\n",
       "      root._bokeh_onload_callbacks.forEach(function(callback) { callback() });\n",
       "    }\n",
       "    finally {\n",
       "      delete root._bokeh_onload_callbacks\n",
       "    }\n",
       "    console.info(\"Bokeh: all callbacks have finished\");\n",
       "  }\n",
       "\n",
       "  function load_libs(js_urls, callback) {\n",
       "    root._bokeh_onload_callbacks.push(callback);\n",
       "    if (root._bokeh_is_loading > 0) {\n",
       "      console.log(\"Bokeh: BokehJS is being loaded, scheduling callback at\", now());\n",
       "      return null;\n",
       "    }\n",
       "    if (js_urls == null || js_urls.length === 0) {\n",
       "      run_callbacks();\n",
       "      return null;\n",
       "    }\n",
       "    console.log(\"Bokeh: BokehJS not loaded, scheduling load and callback at\", now());\n",
       "    root._bokeh_is_loading = js_urls.length;\n",
       "    for (var i = 0; i < js_urls.length; i++) {\n",
       "      var url = js_urls[i];\n",
       "      var s = document.createElement('script');\n",
       "      s.src = url;\n",
       "      s.async = false;\n",
       "      s.onreadystatechange = s.onload = function() {\n",
       "        root._bokeh_is_loading--;\n",
       "        if (root._bokeh_is_loading === 0) {\n",
       "          console.log(\"Bokeh: all BokehJS libraries loaded\");\n",
       "          run_callbacks()\n",
       "        }\n",
       "      };\n",
       "      s.onerror = function() {\n",
       "        console.warn(\"failed to load library \" + url);\n",
       "      };\n",
       "      console.log(\"Bokeh: injecting script tag for BokehJS library: \", url);\n",
       "      document.getElementsByTagName(\"head\")[0].appendChild(s);\n",
       "    }\n",
       "  };var element = document.getElementById(\"037af9bd-da1e-46c0-a10f-2be6e064a1e9\");\n",
       "  if (element == null) {\n",
       "    console.log(\"Bokeh: ERROR: autoload.js configured with elementid '037af9bd-da1e-46c0-a10f-2be6e064a1e9' but no matching script tag was found. \")\n",
       "    return false;\n",
       "  }\n",
       "\n",
       "  var js_urls = [\"https://cdn.pydata.org/bokeh/release/bokeh-0.13.0.min.js\", \"https://cdn.pydata.org/bokeh/release/bokeh-widgets-0.13.0.min.js\", \"https://cdn.pydata.org/bokeh/release/bokeh-tables-0.13.0.min.js\", \"https://cdn.pydata.org/bokeh/release/bokeh-gl-0.13.0.min.js\"];\n",
       "\n",
       "  var inline_js = [\n",
       "    function(Bokeh) {\n",
       "      Bokeh.set_log_level(\"info\");\n",
       "    },\n",
       "    \n",
       "    function(Bokeh) {\n",
       "      \n",
       "    },\n",
       "    function(Bokeh) {\n",
       "      console.log(\"Bokeh: injecting CSS: https://cdn.pydata.org/bokeh/release/bokeh-0.13.0.min.css\");\n",
       "      Bokeh.embed.inject_css(\"https://cdn.pydata.org/bokeh/release/bokeh-0.13.0.min.css\");\n",
       "      console.log(\"Bokeh: injecting CSS: https://cdn.pydata.org/bokeh/release/bokeh-widgets-0.13.0.min.css\");\n",
       "      Bokeh.embed.inject_css(\"https://cdn.pydata.org/bokeh/release/bokeh-widgets-0.13.0.min.css\");\n",
       "      console.log(\"Bokeh: injecting CSS: https://cdn.pydata.org/bokeh/release/bokeh-tables-0.13.0.min.css\");\n",
       "      Bokeh.embed.inject_css(\"https://cdn.pydata.org/bokeh/release/bokeh-tables-0.13.0.min.css\");\n",
       "    }\n",
       "  ];\n",
       "\n",
       "  function run_inline_js() {\n",
       "    \n",
       "    if ((root.Bokeh !== undefined) || (force === true)) {\n",
       "      for (var i = 0; i < inline_js.length; i++) {\n",
       "        inline_js[i].call(root, root.Bokeh);\n",
       "      }if (force === true) {\n",
       "        display_loaded();\n",
       "      }} else if (Date.now() < root._bokeh_timeout) {\n",
       "      setTimeout(run_inline_js, 100);\n",
       "    } else if (!root._bokeh_failed_load) {\n",
       "      console.log(\"Bokeh: BokehJS failed to load within specified timeout.\");\n",
       "      root._bokeh_failed_load = true;\n",
       "    } else if (force !== true) {\n",
       "      var cell = $(document.getElementById(\"037af9bd-da1e-46c0-a10f-2be6e064a1e9\")).parents('.cell').data().cell;\n",
       "      cell.output_area.append_execute_result(NB_LOAD_WARNING)\n",
       "    }\n",
       "\n",
       "  }\n",
       "\n",
       "  if (root._bokeh_is_loading === 0) {\n",
       "    console.log(\"Bokeh: BokehJS loaded, going straight to plotting\");\n",
       "    run_inline_js();\n",
       "  } else {\n",
       "    load_libs(js_urls, function() {\n",
       "      console.log(\"Bokeh: BokehJS plotting callback run at\", now());\n",
       "      run_inline_js();\n",
       "    });\n",
       "  }\n",
       "}(window));"
      ],
      "application/vnd.bokehjs_load.v0+json": "\n(function(root) {\n  function now() {\n    return new Date();\n  }\n\n  var force = true;\n\n  if (typeof (root._bokeh_onload_callbacks) === \"undefined\" || force === true) {\n    root._bokeh_onload_callbacks = [];\n    root._bokeh_is_loading = undefined;\n  }\n\n  \n\n  \n  if (typeof (root._bokeh_timeout) === \"undefined\" || force === true) {\n    root._bokeh_timeout = Date.now() + 5000;\n    root._bokeh_failed_load = false;\n  }\n\n  var NB_LOAD_WARNING = {'data': {'text/html':\n     \"<div style='background-color: #fdd'>\\n\"+\n     \"<p>\\n\"+\n     \"BokehJS does not appear to have successfully loaded. If loading BokehJS from CDN, this \\n\"+\n     \"may be due to a slow or bad network connection. Possible fixes:\\n\"+\n     \"</p>\\n\"+\n     \"<ul>\\n\"+\n     \"<li>re-rerun `output_notebook()` to attempt to load from CDN again, or</li>\\n\"+\n     \"<li>use INLINE resources instead, as so:</li>\\n\"+\n     \"</ul>\\n\"+\n     \"<code>\\n\"+\n     \"from bokeh.resources import INLINE\\n\"+\n     \"output_notebook(resources=INLINE)\\n\"+\n     \"</code>\\n\"+\n     \"</div>\"}};\n\n  function display_loaded() {\n    var el = document.getElementById(\"037af9bd-da1e-46c0-a10f-2be6e064a1e9\");\n    if (el != null) {\n      el.textContent = \"BokehJS is loading...\";\n    }\n    if (root.Bokeh !== undefined) {\n      if (el != null) {\n        el.textContent = \"BokehJS \" + root.Bokeh.version + \" successfully loaded.\";\n      }\n    } else if (Date.now() < root._bokeh_timeout) {\n      setTimeout(display_loaded, 100)\n    }\n  }\n\n\n  function run_callbacks() {\n    try {\n      root._bokeh_onload_callbacks.forEach(function(callback) { callback() });\n    }\n    finally {\n      delete root._bokeh_onload_callbacks\n    }\n    console.info(\"Bokeh: all callbacks have finished\");\n  }\n\n  function load_libs(js_urls, callback) {\n    root._bokeh_onload_callbacks.push(callback);\n    if (root._bokeh_is_loading > 0) {\n      console.log(\"Bokeh: BokehJS is being loaded, scheduling callback at\", now());\n      return null;\n    }\n    if (js_urls == null || js_urls.length === 0) {\n      run_callbacks();\n      return null;\n    }\n    console.log(\"Bokeh: BokehJS not loaded, scheduling load and callback at\", now());\n    root._bokeh_is_loading = js_urls.length;\n    for (var i = 0; i < js_urls.length; i++) {\n      var url = js_urls[i];\n      var s = document.createElement('script');\n      s.src = url;\n      s.async = false;\n      s.onreadystatechange = s.onload = function() {\n        root._bokeh_is_loading--;\n        if (root._bokeh_is_loading === 0) {\n          console.log(\"Bokeh: all BokehJS libraries loaded\");\n          run_callbacks()\n        }\n      };\n      s.onerror = function() {\n        console.warn(\"failed to load library \" + url);\n      };\n      console.log(\"Bokeh: injecting script tag for BokehJS library: \", url);\n      document.getElementsByTagName(\"head\")[0].appendChild(s);\n    }\n  };var element = document.getElementById(\"037af9bd-da1e-46c0-a10f-2be6e064a1e9\");\n  if (element == null) {\n    console.log(\"Bokeh: ERROR: autoload.js configured with elementid '037af9bd-da1e-46c0-a10f-2be6e064a1e9' but no matching script tag was found. \")\n    return false;\n  }\n\n  var js_urls = [\"https://cdn.pydata.org/bokeh/release/bokeh-0.13.0.min.js\", \"https://cdn.pydata.org/bokeh/release/bokeh-widgets-0.13.0.min.js\", \"https://cdn.pydata.org/bokeh/release/bokeh-tables-0.13.0.min.js\", \"https://cdn.pydata.org/bokeh/release/bokeh-gl-0.13.0.min.js\"];\n\n  var inline_js = [\n    function(Bokeh) {\n      Bokeh.set_log_level(\"info\");\n    },\n    \n    function(Bokeh) {\n      \n    },\n    function(Bokeh) {\n      console.log(\"Bokeh: injecting CSS: https://cdn.pydata.org/bokeh/release/bokeh-0.13.0.min.css\");\n      Bokeh.embed.inject_css(\"https://cdn.pydata.org/bokeh/release/bokeh-0.13.0.min.css\");\n      console.log(\"Bokeh: injecting CSS: https://cdn.pydata.org/bokeh/release/bokeh-widgets-0.13.0.min.css\");\n      Bokeh.embed.inject_css(\"https://cdn.pydata.org/bokeh/release/bokeh-widgets-0.13.0.min.css\");\n      console.log(\"Bokeh: injecting CSS: https://cdn.pydata.org/bokeh/release/bokeh-tables-0.13.0.min.css\");\n      Bokeh.embed.inject_css(\"https://cdn.pydata.org/bokeh/release/bokeh-tables-0.13.0.min.css\");\n    }\n  ];\n\n  function run_inline_js() {\n    \n    if ((root.Bokeh !== undefined) || (force === true)) {\n      for (var i = 0; i < inline_js.length; i++) {\n        inline_js[i].call(root, root.Bokeh);\n      }if (force === true) {\n        display_loaded();\n      }} else if (Date.now() < root._bokeh_timeout) {\n      setTimeout(run_inline_js, 100);\n    } else if (!root._bokeh_failed_load) {\n      console.log(\"Bokeh: BokehJS failed to load within specified timeout.\");\n      root._bokeh_failed_load = true;\n    } else if (force !== true) {\n      var cell = $(document.getElementById(\"037af9bd-da1e-46c0-a10f-2be6e064a1e9\")).parents('.cell').data().cell;\n      cell.output_area.append_execute_result(NB_LOAD_WARNING)\n    }\n\n  }\n\n  if (root._bokeh_is_loading === 0) {\n    console.log(\"Bokeh: BokehJS loaded, going straight to plotting\");\n    run_inline_js();\n  } else {\n    load_libs(js_urls, function() {\n      console.log(\"Bokeh: BokehJS plotting callback run at\", now());\n      run_inline_js();\n    });\n  }\n}(window));"
     },
     "metadata": {},
     "output_type": "display_data"
    },
    {
     "data": {
      "text/html": [
       "\n",
       "\n",
       "\n",
       "\n",
       "\n",
       "\n",
       "  <div class=\"bk-root\" id=\"914d9fc8-040f-49e3-b081-a2b0926cb954\"></div>\n"
      ]
     },
     "metadata": {},
     "output_type": "display_data"
    },
    {
     "data": {
      "application/javascript": [
       "(function(root) {\n",
       "  function embed_document(root) {\n",
       "    \n",
       "  var docs_json = {\"2acbae2a-4dc4-4c06-9483-c413ec624b8b\":{\"roots\":{\"references\":[{\"attributes\":{\"formatter\":{\"id\":\"d391817f-ac4e-44af-b4c2-8631337d6b39\",\"type\":\"BasicTickFormatter\"},\"plot\":{\"id\":\"4e06c6df-f00e-412e-805e-a3f03c59105a\",\"subtype\":\"Figure\",\"type\":\"Plot\"},\"ticker\":{\"id\":\"e0575c91-6905-4768-8949-4724fda0ecdf\",\"type\":\"BasicTicker\"}},\"id\":\"ac7c6b09-ee78-4b7e-8f32-c413103b20d5\",\"type\":\"LinearAxis\"},{\"attributes\":{},\"id\":\"e0575c91-6905-4768-8949-4724fda0ecdf\",\"type\":\"BasicTicker\"},{\"attributes\":{\"formatter\":{\"id\":\"2404298e-c788-4f5b-865b-30ffb52f7e7c\",\"type\":\"BasicTickFormatter\"},\"plot\":{\"id\":\"4e06c6df-f00e-412e-805e-a3f03c59105a\",\"subtype\":\"Figure\",\"type\":\"Plot\"},\"ticker\":{\"id\":\"9b4e76e9-2960-4ad7-a2b4-fb49f71f6011\",\"type\":\"BasicTicker\"}},\"id\":\"bb56a90a-5fba-4db4-9861-0e546aadc009\",\"type\":\"LinearAxis\"},{\"attributes\":{\"below\":[{\"id\":\"ac7c6b09-ee78-4b7e-8f32-c413103b20d5\",\"type\":\"LinearAxis\"}],\"left\":[{\"id\":\"bb56a90a-5fba-4db4-9861-0e546aadc009\",\"type\":\"LinearAxis\"}],\"renderers\":[{\"id\":\"ac7c6b09-ee78-4b7e-8f32-c413103b20d5\",\"type\":\"LinearAxis\"},{\"id\":\"71ab382d-92fc-4fec-9731-f4903463e7f3\",\"type\":\"Grid\"},{\"id\":\"bb56a90a-5fba-4db4-9861-0e546aadc009\",\"type\":\"LinearAxis\"},{\"id\":\"15212b40-7b6b-4196-95c8-d158b863a3d1\",\"type\":\"Grid\"},{\"id\":\"1083a101-767c-40cd-8335-685134154c71\",\"type\":\"BoxAnnotation\"},{\"id\":\"3434ca61-0a8b-4f98-af8e-a344a28cf73a\",\"type\":\"Legend\"},{\"id\":\"ed3e3303-55e3-4c76-894c-22d1c9fa3607\",\"type\":\"GlyphRenderer\"},{\"id\":\"4140f870-9fa4-4e07-8c06-5bdff139a113\",\"type\":\"GlyphRenderer\"}],\"title\":{\"id\":\"77f680b7-7409-4d44-bbb1-6f8181258e7c\",\"type\":\"Title\"},\"toolbar\":{\"id\":\"12675c42-765d-44bb-9c83-c4f1c327ada4\",\"type\":\"Toolbar\"},\"x_range\":{\"id\":\"3ccfaee9-866a-47d6-a56c-b8a33141c8d5\",\"type\":\"DataRange1d\"},\"x_scale\":{\"id\":\"b81f20be-59d6-46e3-b909-5d68af257590\",\"type\":\"LinearScale\"},\"y_range\":{\"id\":\"fe981ab6-b4d4-41cd-80de-7307f156c1a0\",\"type\":\"DataRange1d\"},\"y_scale\":{\"id\":\"5805ded8-ed65-4a7a-9730-590f0dccabe8\",\"type\":\"LinearScale\"}},\"id\":\"4e06c6df-f00e-412e-805e-a3f03c59105a\",\"subtype\":\"Figure\",\"type\":\"Plot\"},{\"attributes\":{},\"id\":\"9b4e76e9-2960-4ad7-a2b4-fb49f71f6011\",\"type\":\"BasicTicker\"},{\"attributes\":{\"dimension\":1,\"plot\":{\"id\":\"4e06c6df-f00e-412e-805e-a3f03c59105a\",\"subtype\":\"Figure\",\"type\":\"Plot\"},\"ticker\":{\"id\":\"9b4e76e9-2960-4ad7-a2b4-fb49f71f6011\",\"type\":\"BasicTicker\"}},\"id\":\"15212b40-7b6b-4196-95c8-d158b863a3d1\",\"type\":\"Grid\"},{\"attributes\":{\"fill_color\":{\"value\":\"#1f77b4\"},\"line_color\":{\"value\":\"#1f77b4\"},\"x\":{\"field\":\"Year\"},\"y\":{\"field\":\"Marriages\"}},\"id\":\"fd4d1422-eb3d-430b-a5c4-adc7bf5faf03\",\"type\":\"Circle\"},{\"attributes\":{\"source\":{\"id\":\"a10f4483-bb6d-4b81-aa75-c1704eda06ea\",\"type\":\"ColumnDataSource\"}},\"id\":\"e779fd20-e57e-44bd-a3bd-04aab98bd439\",\"type\":\"CDSView\"},{\"attributes\":{},\"id\":\"d1f98d5d-b42a-47ac-82d6-615e57442d43\",\"type\":\"PanTool\"},{\"attributes\":{\"data_source\":{\"id\":\"a10f4483-bb6d-4b81-aa75-c1704eda06ea\",\"type\":\"ColumnDataSource\"},\"glyph\":{\"id\":\"fd4d1422-eb3d-430b-a5c4-adc7bf5faf03\",\"type\":\"Circle\"},\"hover_glyph\":null,\"muted_glyph\":null,\"nonselection_glyph\":{\"id\":\"c899ba66-55fa-479b-96f4-e5bfd24d2a57\",\"type\":\"Circle\"},\"selection_glyph\":null,\"view\":{\"id\":\"e779fd20-e57e-44bd-a3bd-04aab98bd439\",\"type\":\"CDSView\"}},\"id\":\"ed3e3303-55e3-4c76-894c-22d1c9fa3607\",\"type\":\"GlyphRenderer\"},{\"attributes\":{},\"id\":\"5c5a3e82-82af-41fe-957d-4492175220ab\",\"type\":\"WheelZoomTool\"},{\"attributes\":{\"overlay\":{\"id\":\"1083a101-767c-40cd-8335-685134154c71\",\"type\":\"BoxAnnotation\"}},\"id\":\"dbee67d1-4b86-47ca-8eee-d1885c1ff419\",\"type\":\"BoxZoomTool\"},{\"attributes\":{},\"id\":\"23ecfc2e-29c9-49bb-bc62-41f13ba1b5b4\",\"type\":\"SaveTool\"},{\"attributes\":{},\"id\":\"5c91eb78-1aeb-44cc-be56-e72f1a59f0a2\",\"type\":\"ResetTool\"},{\"attributes\":{},\"id\":\"7af82d92-744d-4eca-a77d-0c01f4ef44f3\",\"type\":\"HelpTool\"},{\"attributes\":{\"bottom_units\":\"screen\",\"fill_alpha\":{\"value\":0.5},\"fill_color\":{\"value\":\"lightgrey\"},\"left_units\":\"screen\",\"level\":\"overlay\",\"line_alpha\":{\"value\":1.0},\"line_color\":{\"value\":\"black\"},\"line_dash\":[4,4],\"line_width\":{\"value\":2},\"plot\":null,\"render_mode\":\"css\",\"right_units\":\"screen\",\"top_units\":\"screen\"},\"id\":\"1083a101-767c-40cd-8335-685134154c71\",\"type\":\"BoxAnnotation\"},{\"attributes\":{},\"id\":\"2404298e-c788-4f5b-865b-30ffb52f7e7c\",\"type\":\"BasicTickFormatter\"},{\"attributes\":{\"fill_color\":{\"value\":\"red\"},\"line_color\":{\"value\":\"red\"},\"x\":{\"field\":\"Year\"},\"y\":{\"field\":\"Divorces\"}},\"id\":\"b4f64bd7-5ad6-4e62-9269-4906b5a62827\",\"type\":\"Circle\"},{\"attributes\":{\"fill_alpha\":{\"value\":0.1},\"fill_color\":{\"value\":\"#1f77b4\"},\"line_alpha\":{\"value\":0.1},\"line_color\":{\"value\":\"#1f77b4\"},\"x\":{\"field\":\"Year\"},\"y\":{\"field\":\"Divorces\"}},\"id\":\"28f5bd24-4563-4971-b06d-d927a920a98c\",\"type\":\"Circle\"},{\"attributes\":{\"data_source\":{\"id\":\"a10f4483-bb6d-4b81-aa75-c1704eda06ea\",\"type\":\"ColumnDataSource\"},\"glyph\":{\"id\":\"b4f64bd7-5ad6-4e62-9269-4906b5a62827\",\"type\":\"Circle\"},\"hover_glyph\":null,\"muted_glyph\":null,\"nonselection_glyph\":{\"id\":\"28f5bd24-4563-4971-b06d-d927a920a98c\",\"type\":\"Circle\"},\"selection_glyph\":null,\"view\":{\"id\":\"8300f8b7-37b6-4947-abcd-aee5bbce5f1f\",\"type\":\"CDSView\"}},\"id\":\"4140f870-9fa4-4e07-8c06-5bdff139a113\",\"type\":\"GlyphRenderer\"},{\"attributes\":{\"callback\":null,\"data\":{\"Divorces\":{\"__ndarray__\":\"AAAAAACIw0AAAAAAAIjDQAAAAAAAfMVAAAAAAAB8xUAAAAAAAHDHQAAAAAAAcMdAAAAAAABkyUAAAAAAAFjLQAAAAAAAWMtAAAAAAABMzUAAAAAAAEDPQAAAAAAAQM9AAAAAAACa0EAAAAAAAIjTQAAAAAAAgtRAAAAAAAB81UAAAAAAAHbWQAAAAAAAdtZAAAAAAAB21kAAAAAAAGTZQAAAAAAAWNtAAAAAAABS3EAAAAAAAEDfQAAAAAAAHeBAAAAAAACU4UAAAAAAABHiQAAAAAAAEeJAAAAAAACO4kAAAAAAAIjjQAAAAAAA/+RAAAAAAAD55UAAAAAAAHDnQAAAAAAA5+hAAAAAAABY60AAAAAAAMntQAAAAAAAye1AAAAAAAC970AAAAAAAB3wQAAAAAAAmvBAAAAAAACU8UAAAAAAgMzyQAAAAACAzPJAAAAAAACI80AAAAAAgEP0QAAAAACAuvVAAAAAAADz9kAAAAAAgDf2QAAAAACAqPhAAAAAAABk+UAAAAAAANX7QAAAAAAAyf1AAAAAAABS/EAAAAAAgFUBQQAAAADA3wRBAAAAAACIA0EAAAAAQDACQQAAAABAJARBAAAAAMDfBEEAAAAAwFwFQQAAAABAlQZBAAAAAADtB0EAAAAAAGoIQQAAAACAJQlBAAAAAADtB0EAAAAAAPMGQQAAAAAABQRBAAAAAEAkBEEAAAAAAOcIQQAAAACAnApBAAAAAADPDEEAAAAAQGUOQQAAAAAAyQ1BAAAAAMCjDkEAAAAAAB0QQQAAAAAg4hFBAAAAAKCXE0EAAAAAYOkVQQAAAAAAahhBAAAAACCaHUEAAAAAoJ0iQQAAAADgeh1BAAAAAADnGEEAAAAAIDsYQQAAAACgfxdBAAAAACBBF0EAAAAAAO0XQQAAAADAzRdBAAAAAOAhF0EAAAAAoAIXQQAAAADAUBdBAAAAACBBF0EAAAAAAHYWQQAAAADgGxhBAAAAAKD8F0EAAAAAwEQZQQAAAAAgNRlBAAAAAIAfGkEAAAAAQHcbQQAAAABgPB1BAAAAAOB0HkEAAAAA4OsfQQAAAACA0iFBAAAAADCAI0EAAAAAQJslQQAAAAAQlydBAAAAAJDJKUEAAAAAcOwrQQAAAAD2Bi5BAAAAAEqjL0EAAAAAfqMwQQAAAACFzjBBAAAAADBTMUEAAAAAZjQyQQAAAACvETJBAAAAAOKZMkEAAAAAAAD4fwAAAAAAAPh/AAAAABIJMkEAAAAAUjIyQQAAAADT/jFBAAAAAE7JMUEAAAAAK5MxQQAAAADfvTFBAAAAACvxMUEAAAAApy4yQQAAAABK0TJBAAAAAPFEMkEAAAAA9X0yQQAAAAAAAPh/AAAAAAAA+H8AAAAA+L4xQQAAAACYUTFBAAAAAJ15MUEAAAAAAM8sQQAAAADAryxBAAAAAPAkLUEAAAAAMEosQQAAAAAw0ypBAAAAADDZKUEAAAAAgJwqQQAAAACAHypBAAAAAMDBKUEAAAAAgKIpQQAAAACAnCpBAAAAAJDDKkE=\",\"dtype\":\"float64\",\"shape\":[145]},\"Divorces_per_1000\":{\"__ndarray__\":\"MzMzMzMz0z8zMzMzMzPTPzMzMzMzM9M/MzMzMzMz0z8zMzMzMzPTPzMzMzMzM9M/MzMzMzMz0z8zMzMzMzPTPzMzMzMzM9M/MzMzMzMz0z8zMzMzMzPTPzMzMzMzM9M/MzMzMzMz0z+amZmZmZnZP5qZmZmZmdk/mpmZmZmZ2T+amZmZmZnZP5qZmZmZmdk/mpmZmZmZ2T+amZmZmZnZPwAAAAAAAOA/AAAAAAAA4D8AAAAAAADgPwAAAAAAAOA/MzMzMzMz4z8zMzMzMzPjPwAAAAAAAOA/MzMzMzMz4z8zMzMzMzPjPzMzMzMzM+M/MzMzMzMz4z9mZmZmZmbmP2ZmZmZmZuY/ZmZmZmZm5j+amZmZmZnpP5qZmZmZmek/mpmZmZmZ6T+amZmZmZnpP5qZmZmZmek/mpmZmZmZ6T/NzMzMzMzsP83MzMzMzOw/zczMzMzM7D/NzMzMzMzsP83MzMzMzOw/AAAAAAAA8D/NzMzMzMzsPwAAAAAAAPA/AAAAAAAA8D+amZmZmZnxPzMzMzMzM/M/mpmZmZmZ8T9mZmZmZmb2P5qZmZmZmfk/AAAAAAAA+D9mZmZmZmb2PwAAAAAAAPg/AAAAAAAA+D8AAAAAAAD4P5qZmZmZmfk/mpmZmZmZ+T8zMzMzMzP7PzMzMzMzM/s/mpmZmZmZ+T8AAAAAAAD4P83MzMzMzPQ/zczMzMzM9D+amZmZmZn5PzMzMzMzM/s/zczMzMzM/D9mZmZmZmb+P2ZmZmZmZv4/ZmZmZmZm/j8AAAAAAAAAQJqZmZmZmQFAMzMzMzMzA0DNzMzMzMwEQDMzMzMzMwdAAAAAAAAADEAzMzMzMzMRQDMzMzMzMwtAZmZmZmZmBkCamZmZmZkFQAAAAAAAAARAAAAAAAAABEAAAAAAAAAEQDMzMzMzMwNAZmZmZmZmAkBmZmZmZmYCQGZmZmZmZgJAmpmZmZmZAUDNzMzMzMwAQJqZmZmZmQFAmpmZmZmZAUBmZmZmZmYCQJqZmZmZmQFAZmZmZmZmAkBmZmZmZmYCQAAAAAAAAARAAAAAAAAABEDNzMzMzMwEQDMzMzMzMwdAmpmZmZmZCUAAAAAAAAAMQJqZmZmZmQ1AAAAAAAAAEEAzMzMzMzMRQGZmZmZmZhJAMzMzMzMzE0AAAAAAAAAUQAAAAAAAABRAZmZmZmZmFEAzMzMzMzMVQM3MzMzMzBRAMzMzMzMzFUAAAAAAAAD4fwAAAAAAAPh/AAAAAAAAFEAAAAAAAAAUQJqZmZmZmRNAMzMzMzMzE0DNzMzMzMwSQM3MzMzMzBJAzczMzMzMEkDNzMzMzMwSQDMzMzMzMxNAZmZmZmZmEkBmZmZmZmYSQAAAAAAAAPh/AAAAAAAA+H8zMzMzMzMRQGZmZmZmZhBAZmZmZmZmEEBmZmZmZmYKQGZmZmZmZgpAZmZmZmZmCkCamZmZmZkJQAAAAAAAAAhAMzMzMzMzB0AzMzMzMzMHQGZmZmZmZgZAZmZmZmZmBkCamZmZmZkFQGZmZmZmZgZAZmZmZmZmBkA=\",\"dtype\":\"float64\",\"shape\":[145]},\"Marriages\":{\"__ndarray__\":\"AAAAACDKFUEAAAAAoA4VQQAAAACAPRVBAAAAAAB8FUEAAAAAYOkVQQAAAABAEhdBAAAAAECPF0EAAAAAoH8XQQAAAACg9hhBAAAAACC4GEEAAAAA4BUZQQAAAABg0RlBAAAAAMC7GkEAAAAAIKYbQQAAAAAAUhxBAAAAAICKHUEAAAAAIJQeQQAAAAAgmh1BAAAAAODxHkEAAAAA4EsgQQAAAACgTx9BAAAAALBTIEEAAAAAcC4hQQAAAAAgZSFBAAAAAAARIkEAAAAAUFciQQAAAABQVyJBAAAAAMDxIUEAAAAAwOsiQQAAAADwYCNBAAAAAHCfI0EAAAAAsL4jQQAAAADQiSRBAAAAABCjJUEAAAAA4KQmQQAAAACAridBAAAAAKD2KEEAAAAAMN8oQQAAAAAgsilBAAAAADBQK0EAAAAAUJgsQQAAAABQJypBAAAAANBfK0EAAAAAQO4sQQAAAADwJC1BAAAAAJCrLkEAAAAAkCgvQQAAAADQRy9BAAAAAADDLkEAAAAAIGswQQAAAADAdDFBAAAAAICELkEAAAAAMIwxQQAAAACQcDNBAAAAAODCMUEAAAAAsE0xQQAAAACwxDJBAAAAAOgUMkEAAAAAoCAyQQAAAAA4WzJBAAAAAGhTMkEAAAAAMAkyQQAAAABo0DJBAAAAAFgyMUEAAAAAiDAwQQAAAADg9y1BAAAAABDBMEEAAAAA8N0zQQAAAACYPzRBAAAAAKjjNEEAAAAA+CM2QQAAAAA4TzRBAAAAAGBsNUEAAAAAYFo4QQAAAAAA4TlBAAAAAOAJO0EAAAAAKBA4QQAAAADgJzZBAAAAAMicOEEAAAAAnHpBQQAAAABAZT5BAAAAADiiO0EAAAAA4Bs4QQAAAAC4bzlBAAAAAHhWOEEAAAAAuHs3QQAAAAAQlzdBAAAAAFC8NkEAAAAAeFw3QQAAAABoLzhBAAAAALApN0EAAAAA+CM2QQAAAADwyzZBAAAAADg9N0EAAAAA4J43QQAAAAAoEDhBAAAAAPA8OUEAAAAASFI6QQAAAABAdztBAAAAAOhVPEEAAAAAWGc9QQAAAAAIkj9BAAAAAHRdQEEAAAAAJa1AQQAAAIBItkBBAAAAAFVpQUEAAAAAJm1BQQAAAICUIkFBAAAAAGF6QEEAAACA5XhAQQAAAIB+o0BBAAAAgKt+QUEAAAAAd9xBQQAAAACkakJBAAAAgOKZQkEAAAAAAAD4fwAAAAAAAPh/AAAAgOzvQkEAAACA52BCQQAAAADXXEJBAAAAAJlXQkEAAAAAwiJCQQAAAADTTkJBAAAAAJ+0QkEAAAAApy5CQQAAAIC/OkJBAAAAAEXfQUEAAACAgEpCQQAAAAAAAPh/AAAAAAAA+H8AAAAAQDBCQQAAAADQHkFBAAAAAHj9QUEAAAAAfKlBQQAAAAD4vkFBAAAAAKh4QUEAAAAAxCBBQQAAAAAsY0FBAAAAAJQoQUEAAAAANLtAQQAAAAAEw0BBAAAAAOR0QEEAAAAAAL0/QQAAAACA+z9BAAAAALgoQEE=\",\"dtype\":\"float64\",\"shape\":[145]},\"Marriages_per_1000\":{\"__ndarray__\":\"ZmZmZmZmI0AzMzMzMzMiQAAAAAAAACJAmpmZmZmZIUCamZmZmZkhQAAAAAAAACJAzczMzMzMIUBmZmZmZmYhQAAAAAAAACJAZmZmZmZmIUBmZmZmZmYhQJqZmZmZmSFAzczMzMzMIUAAAAAAAAAiQAAAAAAAACJAZmZmZmZmIkBmZmZmZmYiQGZmZmZmZiFAzczMzMzMIUBmZmZmZmYiQDMzMzMzMyFAmpmZmZmZIUAzMzMzMzMiQAAAAAAAACJAZmZmZmZmIkAzMzMzMzMiQM3MzMzMzCFAAAAAAAAAIUCamZmZmZkhQM3MzMzMzCFAzczMzMzMIUCamZmZmZkhQAAAAAAAACJAmpmZmZmZIkAzMzMzMzMjQJqZmZmZmSNAMzMzMzMzJEDNzMzMzMwjQAAAAAAAACRAAAAAAAAAJUCamZmZmZklQGZmZmZmZiNAzczMzMzMI0CamZmZmZkkQGZmZmZmZiRAAAAAAAAAJUAAAAAAAAAlQJqZmZmZmSRAAAAAAAAAJEAzMzMzMzMlQDMzMzMzMyZAMzMzMzMzI0DNzMzMzMwlQAAAAAAAAChAZmZmZmZmJUCamZmZmZkkQAAAAAAAACZAzczMzMzMJECamZmZmZkkQGZmZmZmZiRAMzMzMzMzJECamZmZmZkjQDMzMzMzMyRAMzMzMzMzIkAAAAAAAAAhQJqZmZmZmR9AZmZmZmZmIUCamZmZmZkkQM3MzMzMzCRAZmZmZmZmJUCamZmZmZkmQGZmZmZmZiRAZmZmZmZmJUAzMzMzMzMoQGZmZmZmZilAMzMzMzMzKkAAAAAAAAAnQAAAAAAAACVAAAAAAAAAJ0AzMzMzMzMwQJqZmZmZmStAzczMzMzMKEAzMzMzMzMlQAAAAAAAACZAmpmZmZmZJECamZmZmZkjQGZmZmZmZiNAZmZmZmZmIkCamZmZmZkiQM3MzMzMzCJAzczMzMzMIUCamZmZmZkgQM3MzMzMzCBAzczMzMzMIEDNzMzMzMwgQAAAAAAAACFAZmZmZmZmIUAAAAAAAAAiQJqZmZmZmSJAzczMzMzMIkBmZmZmZmYjQJqZmZmZmSRAMzMzMzMzJUBmZmZmZmYlQAAAAAAAACVAzczMzMzMJUCamZmZmZklQAAAAAAAACVAAAAAAAAAJEDNzMzMzMwjQM3MzMzMzCNAmpmZmZmZJEDNzMzMzMwkQDMzMzMzMyVAMzMzMzMzJUAAAAAAAAD4fwAAAAAAAPh/AAAAAAAAJUAzMzMzMzMkQAAAAAAAACRAzczMzMzMI0BmZmZmZmYjQGZmZmZmZiNAmpmZmZmZI0DNzMzMzMwiQJqZmZmZmSJAAAAAAAAAIkAzMzMzMzMiQAAAAAAAAPh/AAAAAAAA+H9mZmZmZmYhQDMzMzMzMyBAzczMzMzMIEBmZmZmZmYgQGZmZmZmZiBAAAAAAAAAIEDNzMzMzMweQDMzMzMzMx9AZmZmZmZmHkAzMzMzMzMdQDMzMzMzMx1AZmZmZmZmHEAzMzMzMzMbQDMzMzMzMxtAMzMzMzMzG0A=\",\"dtype\":\"float64\",\"shape\":[145]},\"Population\":[36970000,37885000,38870000,39905000,41010000,42066000,43225000,44429000,45492000,46459000,47400000,48319000,49264000,50262000,51466000,52893000,54435000,55826000,57128000,58258000,59357000,60614000,61893000,63056000,64432000,65920000,67470000,68910000,70076000,71188000,72441000,73600000,74793000,76094000,77584000,79163000,80632000,82166000,83822000,85450000,87008000,88710000,90490000,92407000,93863000,95335000,97225000,99111000,100546000,101961000,103414000,104550000,105063000,106461000,108538000,110049000,111947000,114109000,115829000,117397000,119035000,120509000,121878000,123188000,124149000,124949000,125690000,126485000,127362000,128181000,128961000,129969000,131028000,132122000,133402000,134860000,136739000,138397000,139928000,141389000,144126000,146631000,149188000,151684000,154287000,156954000,159565000,162391000,165275000,168221000,171274000,174141000,177130000,180760000,183742000,186590000,189300000,191927000,194347000,196599000,198752000,200745000,202736000,205089000,207692000,209924000,211939000,213898000,215981000,218086000,220289000,222629000,225106000,227726000,230008000,232218000,234333000,236394000,238506000,240683000,242843000,245061000,247387000,250181000,253530000,256922000,260282000,263455000,266588000,269714000,272958000,276154000,279328000,282398000,285225000,287955000,290626000,293262000,295993000,298818000,301696000,304543000,307240000,309776000,312034000],\"Year\":[1867,1868,1869,1870,1871,1872,1873,1874,1875,1876,1877,1878,1879,1880,1881,1882,1883,1884,1885,1886,1887,1888,1889,1890,1891,1892,1893,1894,1895,1896,1897,1898,1899,1900,1901,1902,1903,1904,1905,1906,1907,1908,1909,1910,1911,1912,1913,1914,1915,1916,1917,1918,1919,1920,1921,1922,1923,1924,1925,1926,1927,1928,1929,1930,1931,1932,1933,1934,1935,1936,1937,1938,1939,1940,1941,1942,1943,1944,1945,1946,1947,1948,1949,1950,1951,1952,1953,1954,1955,1956,1957,1958,1959,1960,1961,1962,1963,1964,1965,1966,1967,1968,1969,1970,1971,1972,1973,1974,1975,1976,1977,1978,1979,1980,1981,1982,1983,1984,1985,1986,1987,1988,1989,1990,1991,1992,1993,1994,1995,1996,1997,1998,1999,2000,2001,2002,2003,2004,2005,2006,2007,2008,2009,2010,2011],\"index\":[0,1,2,3,4,5,6,7,8,9,10,11,12,13,14,15,16,17,18,19,20,21,22,23,24,25,26,27,28,29,30,31,32,33,34,35,36,37,38,39,40,41,42,43,44,45,46,47,48,49,50,51,52,53,54,55,56,57,58,59,60,61,62,63,64,65,66,67,68,69,70,71,72,73,74,75,76,77,78,79,80,81,82,83,84,85,86,87,88,89,90,91,92,93,94,95,96,97,98,99,100,101,102,103,104,105,106,107,108,109,110,111,112,113,114,115,116,117,118,119,120,121,122,123,124,125,126,127,128,129,130,131,132,133,134,135,136,137,138,139,140,141,142,143,144]},\"selected\":{\"id\":\"ae88c0f0-6382-4095-a616-36bfb939d2e5\",\"type\":\"Selection\"},\"selection_policy\":{\"id\":\"4fd22822-1a65-4c3c-8243-3e2c3b24d0fb\",\"type\":\"UnionRenderers\"}},\"id\":\"a10f4483-bb6d-4b81-aa75-c1704eda06ea\",\"type\":\"ColumnDataSource\"},{\"attributes\":{\"source\":{\"id\":\"a10f4483-bb6d-4b81-aa75-c1704eda06ea\",\"type\":\"ColumnDataSource\"}},\"id\":\"8300f8b7-37b6-4947-abcd-aee5bbce5f1f\",\"type\":\"CDSView\"},{\"attributes\":{},\"id\":\"ae88c0f0-6382-4095-a616-36bfb939d2e5\",\"type\":\"Selection\"},{\"attributes\":{\"fill_alpha\":{\"value\":0.1},\"fill_color\":{\"value\":\"#1f77b4\"},\"line_alpha\":{\"value\":0.1},\"line_color\":{\"value\":\"#1f77b4\"},\"x\":{\"field\":\"Year\"},\"y\":{\"field\":\"Marriages\"}},\"id\":\"c899ba66-55fa-479b-96f4-e5bfd24d2a57\",\"type\":\"Circle\"},{\"attributes\":{},\"id\":\"4fd22822-1a65-4c3c-8243-3e2c3b24d0fb\",\"type\":\"UnionRenderers\"},{\"attributes\":{\"label\":{\"value\":\"Divorce\"},\"renderers\":[{\"id\":\"4140f870-9fa4-4e07-8c06-5bdff139a113\",\"type\":\"GlyphRenderer\"}]},\"id\":\"18c16308-bd7e-49dd-92d7-79b0af8b695d\",\"type\":\"LegendItem\"},{\"attributes\":{\"callback\":null},\"id\":\"fe981ab6-b4d4-41cd-80de-7307f156c1a0\",\"type\":\"DataRange1d\"},{\"attributes\":{\"plot\":null,\"text\":\"Mariages vs Year and Divorces vs Year\"},\"id\":\"77f680b7-7409-4d44-bbb1-6f8181258e7c\",\"type\":\"Title\"},{\"attributes\":{\"items\":[{\"id\":\"578942cd-3214-48ed-8bcb-5d0c4ed2eb11\",\"type\":\"LegendItem\"},{\"id\":\"18c16308-bd7e-49dd-92d7-79b0af8b695d\",\"type\":\"LegendItem\"}],\"plot\":{\"id\":\"4e06c6df-f00e-412e-805e-a3f03c59105a\",\"subtype\":\"Figure\",\"type\":\"Plot\"}},\"id\":\"3434ca61-0a8b-4f98-af8e-a344a28cf73a\",\"type\":\"Legend\"},{\"attributes\":{},\"id\":\"5805ded8-ed65-4a7a-9730-590f0dccabe8\",\"type\":\"LinearScale\"},{\"attributes\":{},\"id\":\"b81f20be-59d6-46e3-b909-5d68af257590\",\"type\":\"LinearScale\"},{\"attributes\":{\"label\":{\"value\":\"Marriage\"},\"renderers\":[{\"id\":\"ed3e3303-55e3-4c76-894c-22d1c9fa3607\",\"type\":\"GlyphRenderer\"}]},\"id\":\"578942cd-3214-48ed-8bcb-5d0c4ed2eb11\",\"type\":\"LegendItem\"},{\"attributes\":{\"active_drag\":\"auto\",\"active_inspect\":\"auto\",\"active_multi\":null,\"active_scroll\":\"auto\",\"active_tap\":\"auto\",\"tools\":[{\"id\":\"d1f98d5d-b42a-47ac-82d6-615e57442d43\",\"type\":\"PanTool\"},{\"id\":\"5c5a3e82-82af-41fe-957d-4492175220ab\",\"type\":\"WheelZoomTool\"},{\"id\":\"dbee67d1-4b86-47ca-8eee-d1885c1ff419\",\"type\":\"BoxZoomTool\"},{\"id\":\"23ecfc2e-29c9-49bb-bc62-41f13ba1b5b4\",\"type\":\"SaveTool\"},{\"id\":\"5c91eb78-1aeb-44cc-be56-e72f1a59f0a2\",\"type\":\"ResetTool\"},{\"id\":\"7af82d92-744d-4eca-a77d-0c01f4ef44f3\",\"type\":\"HelpTool\"}]},\"id\":\"12675c42-765d-44bb-9c83-c4f1c327ada4\",\"type\":\"Toolbar\"},{\"attributes\":{\"callback\":null},\"id\":\"3ccfaee9-866a-47d6-a56c-b8a33141c8d5\",\"type\":\"DataRange1d\"},{\"attributes\":{},\"id\":\"d391817f-ac4e-44af-b4c2-8631337d6b39\",\"type\":\"BasicTickFormatter\"},{\"attributes\":{\"plot\":{\"id\":\"4e06c6df-f00e-412e-805e-a3f03c59105a\",\"subtype\":\"Figure\",\"type\":\"Plot\"},\"ticker\":{\"id\":\"e0575c91-6905-4768-8949-4724fda0ecdf\",\"type\":\"BasicTicker\"}},\"id\":\"71ab382d-92fc-4fec-9731-f4903463e7f3\",\"type\":\"Grid\"}],\"root_ids\":[\"4e06c6df-f00e-412e-805e-a3f03c59105a\"]},\"title\":\"Bokeh Application\",\"version\":\"0.13.0\"}};\n",
       "  var render_items = [{\"docid\":\"2acbae2a-4dc4-4c06-9483-c413ec624b8b\",\"roots\":{\"4e06c6df-f00e-412e-805e-a3f03c59105a\":\"914d9fc8-040f-49e3-b081-a2b0926cb954\"}}];\n",
       "  root.Bokeh.embed.embed_items_notebook(docs_json, render_items);\n",
       "\n",
       "  }\n",
       "  if (root.Bokeh !== undefined) {\n",
       "    embed_document(root);\n",
       "  } else {\n",
       "    var attempts = 0;\n",
       "    var timer = setInterval(function(root) {\n",
       "      if (root.Bokeh !== undefined) {\n",
       "        embed_document(root);\n",
       "        clearInterval(timer);\n",
       "      }\n",
       "      attempts++;\n",
       "      if (attempts > 100) {\n",
       "        console.log(\"Bokeh: ERROR: Unable to run BokehJS code because BokehJS library is missing\")\n",
       "        clearInterval(timer);\n",
       "      }\n",
       "    }, 10, root)\n",
       "  }\n",
       "})(window);"
      ],
      "application/vnd.bokehjs_exec.v0+json": ""
     },
     "metadata": {
      "application/vnd.bokehjs_exec.v0+json": {
       "id": "4e06c6df-f00e-412e-805e-a3f03c59105a"
      }
     },
     "output_type": "display_data"
    }
   ],
   "source": [
    "from bokeh.plotting import show, figure, output_notebook\n",
    "from bokeh.models import ColumnDataSource\n",
    "output_notebook()\n",
    "source = ColumnDataSource(df)\n",
    "\n",
    "p = figure(title = 'Mariages vs Year and Divorces vs Year')\n",
    "p.circle(x = 'Year', y = 'Marriages',\n",
    "         legend = 'Marriage',\n",
    "         source = source)\n",
    "p.circle(x = 'Year', y = 'Divorces', source = source, color = 'red',\n",
    "        legend = 'Divorce',)\n",
    "\n",
    "show(p)"
   ]
  },
  {
   "cell_type": "markdown",
   "metadata": {},
   "source": [
    "# Plot Mariages per 100 vs Year and Divorces per 1000 vs Year"
   ]
  },
  {
   "cell_type": "code",
   "execution_count": 83,
   "metadata": {},
   "outputs": [
    {
     "data": {
      "text/html": [
       "\n",
       "\n",
       "\n",
       "\n",
       "\n",
       "\n",
       "  <div class=\"bk-root\" id=\"9d2e5735-c436-4ab5-b299-f878216a5ad7\"></div>\n"
      ]
     },
     "metadata": {},
     "output_type": "display_data"
    },
    {
     "data": {
      "application/javascript": [
       "(function(root) {\n",
       "  function embed_document(root) {\n",
       "    \n",
       "  var docs_json = {\"844dedfd-6e0c-4470-b6f8-66a52accbe8c\":{\"roots\":{\"references\":[{\"attributes\":{\"items\":[{\"id\":\"6dee2391-183c-4a8b-97c0-1e37eb96684f\",\"type\":\"LegendItem\"},{\"id\":\"da58e45a-fcbd-47b6-bdd9-08a253757eeb\",\"type\":\"LegendItem\"}],\"plot\":{\"id\":\"e47acd67-813e-4c08-a500-356056b2c779\",\"subtype\":\"Figure\",\"type\":\"Plot\"}},\"id\":\"0bff6210-79a7-4abd-98b2-1221963ea2a8\",\"type\":\"Legend\"},{\"attributes\":{},\"id\":\"3b19444b-197c-48e7-9cbd-70a53c57bc08\",\"type\":\"SaveTool\"},{\"attributes\":{},\"id\":\"aefc58c4-19ec-498e-a5d9-5059ff603d63\",\"type\":\"ResetTool\"},{\"attributes\":{},\"id\":\"5fefb026-a4c6-4887-8aed-5cffd96df22a\",\"type\":\"HelpTool\"},{\"attributes\":{\"bottom_units\":\"screen\",\"fill_alpha\":{\"value\":0.5},\"fill_color\":{\"value\":\"lightgrey\"},\"left_units\":\"screen\",\"level\":\"overlay\",\"line_alpha\":{\"value\":1.0},\"line_color\":{\"value\":\"black\"},\"line_dash\":[4,4],\"line_width\":{\"value\":2},\"plot\":null,\"render_mode\":\"css\",\"right_units\":\"screen\",\"top_units\":\"screen\"},\"id\":\"8140a0ce-b12d-4c63-a61f-abc56a0c0be7\",\"type\":\"BoxAnnotation\"},{\"attributes\":{},\"id\":\"e22d301a-e034-4860-b9e7-a5e504b0ffef\",\"type\":\"LinearScale\"},{\"attributes\":{},\"id\":\"b457fc16-cb3c-43ae-bf9b-445e897762a1\",\"type\":\"BasicTickFormatter\"},{\"attributes\":{\"callback\":null},\"id\":\"bb9bbf10-3b94-4a85-9484-a7ff7a0d65cc\",\"type\":\"DataRange1d\"},{\"attributes\":{\"fill_color\":{\"value\":\"#1f77b4\"},\"line_color\":{\"value\":\"#1f77b4\"},\"x\":{\"field\":\"Year\"},\"y\":{\"field\":\"Marriages_per_1000\"}},\"id\":\"67220baf-340a-4e20-aa81-cd5989047ecf\",\"type\":\"Circle\"},{\"attributes\":{},\"id\":\"347a24db-360e-4086-95ba-75a731d3b39b\",\"type\":\"BasicTickFormatter\"},{\"attributes\":{\"label\":{\"value\":\"Marriage_per_1000\"},\"renderers\":[{\"id\":\"5eb5f60b-afda-4325-b991-51221d85432e\",\"type\":\"GlyphRenderer\"}]},\"id\":\"6dee2391-183c-4a8b-97c0-1e37eb96684f\",\"type\":\"LegendItem\"},{\"attributes\":{\"fill_alpha\":{\"value\":0.1},\"fill_color\":{\"value\":\"#1f77b4\"},\"line_alpha\":{\"value\":0.1},\"line_color\":{\"value\":\"#1f77b4\"},\"x\":{\"field\":\"Year\"},\"y\":{\"field\":\"Divorces_per_1000\"}},\"id\":\"1272c600-7602-45ae-aec2-e3b114a0a538\",\"type\":\"Circle\"},{\"attributes\":{\"below\":[{\"id\":\"9fa727a4-8b0e-41de-b523-719c5303eb94\",\"type\":\"LinearAxis\"}],\"left\":[{\"id\":\"d667707d-fb1b-47c6-af89-e38b870224db\",\"type\":\"LinearAxis\"}],\"renderers\":[{\"id\":\"9fa727a4-8b0e-41de-b523-719c5303eb94\",\"type\":\"LinearAxis\"},{\"id\":\"3a1bc675-3ec1-4a5f-bb0b-93d196904345\",\"type\":\"Grid\"},{\"id\":\"d667707d-fb1b-47c6-af89-e38b870224db\",\"type\":\"LinearAxis\"},{\"id\":\"cca14c5f-82fb-447a-a9e5-2dc1bc3a4225\",\"type\":\"Grid\"},{\"id\":\"8140a0ce-b12d-4c63-a61f-abc56a0c0be7\",\"type\":\"BoxAnnotation\"},{\"id\":\"0bff6210-79a7-4abd-98b2-1221963ea2a8\",\"type\":\"Legend\"},{\"id\":\"5eb5f60b-afda-4325-b991-51221d85432e\",\"type\":\"GlyphRenderer\"},{\"id\":\"b76f7459-e3e3-48d1-a5a8-6581eec5e553\",\"type\":\"GlyphRenderer\"}],\"title\":{\"id\":\"3d9ea380-3758-4c14-8f94-90531e1cdb6e\",\"type\":\"Title\"},\"toolbar\":{\"id\":\"9d811de6-afaf-4e1c-8fbf-e4d3670869fd\",\"type\":\"Toolbar\"},\"x_range\":{\"id\":\"4a9579fb-f068-4941-a71c-2fe7ae586c89\",\"type\":\"DataRange1d\"},\"x_scale\":{\"id\":\"e22d301a-e034-4860-b9e7-a5e504b0ffef\",\"type\":\"LinearScale\"},\"y_range\":{\"id\":\"bb9bbf10-3b94-4a85-9484-a7ff7a0d65cc\",\"type\":\"DataRange1d\"},\"y_scale\":{\"id\":\"fcdbedf1-cfa7-4686-95b0-cff575f983d0\",\"type\":\"LinearScale\"}},\"id\":\"e47acd67-813e-4c08-a500-356056b2c779\",\"subtype\":\"Figure\",\"type\":\"Plot\"},{\"attributes\":{\"data_source\":{\"id\":\"a10f4483-bb6d-4b81-aa75-c1704eda06ea\",\"type\":\"ColumnDataSource\"},\"glyph\":{\"id\":\"19726894-b95c-495a-969c-80ea8d4691c3\",\"type\":\"Circle\"},\"hover_glyph\":null,\"muted_glyph\":null,\"nonselection_glyph\":{\"id\":\"1272c600-7602-45ae-aec2-e3b114a0a538\",\"type\":\"Circle\"},\"selection_glyph\":null,\"view\":{\"id\":\"67c55683-6e1b-4f1e-b2e3-499ac0f3ae8c\",\"type\":\"CDSView\"}},\"id\":\"b76f7459-e3e3-48d1-a5a8-6581eec5e553\",\"type\":\"GlyphRenderer\"},{\"attributes\":{\"fill_alpha\":{\"value\":0.1},\"fill_color\":{\"value\":\"#1f77b4\"},\"line_alpha\":{\"value\":0.1},\"line_color\":{\"value\":\"#1f77b4\"},\"x\":{\"field\":\"Year\"},\"y\":{\"field\":\"Marriages_per_1000\"}},\"id\":\"3d89c235-8ebf-4648-bb58-f7a740ef8515\",\"type\":\"Circle\"},{\"attributes\":{\"plot\":null,\"text\":\"Mariages per 100 vs Year and Divorces per 1000 vs Year\"},\"id\":\"3d9ea380-3758-4c14-8f94-90531e1cdb6e\",\"type\":\"Title\"},{\"attributes\":{\"callback\":null},\"id\":\"4a9579fb-f068-4941-a71c-2fe7ae586c89\",\"type\":\"DataRange1d\"},{\"attributes\":{\"source\":{\"id\":\"a10f4483-bb6d-4b81-aa75-c1704eda06ea\",\"type\":\"ColumnDataSource\"}},\"id\":\"67c55683-6e1b-4f1e-b2e3-499ac0f3ae8c\",\"type\":\"CDSView\"},{\"attributes\":{\"active_drag\":\"auto\",\"active_inspect\":\"auto\",\"active_multi\":null,\"active_scroll\":\"auto\",\"active_tap\":\"auto\",\"tools\":[{\"id\":\"0359570f-7a71-41cf-8e3d-8915026cf941\",\"type\":\"PanTool\"},{\"id\":\"04cd3acd-4874-4f29-8313-c7af6e18728f\",\"type\":\"WheelZoomTool\"},{\"id\":\"5f25a69e-0330-49cf-931b-3d805046a73e\",\"type\":\"BoxZoomTool\"},{\"id\":\"3b19444b-197c-48e7-9cbd-70a53c57bc08\",\"type\":\"SaveTool\"},{\"id\":\"aefc58c4-19ec-498e-a5d9-5059ff603d63\",\"type\":\"ResetTool\"},{\"id\":\"5fefb026-a4c6-4887-8aed-5cffd96df22a\",\"type\":\"HelpTool\"}]},\"id\":\"9d811de6-afaf-4e1c-8fbf-e4d3670869fd\",\"type\":\"Toolbar\"},{\"attributes\":{\"source\":{\"id\":\"a10f4483-bb6d-4b81-aa75-c1704eda06ea\",\"type\":\"ColumnDataSource\"}},\"id\":\"826b86af-0dff-4ef8-bbad-ea1cb51bcfe4\",\"type\":\"CDSView\"},{\"attributes\":{},\"id\":\"fcdbedf1-cfa7-4686-95b0-cff575f983d0\",\"type\":\"LinearScale\"},{\"attributes\":{\"plot\":{\"id\":\"e47acd67-813e-4c08-a500-356056b2c779\",\"subtype\":\"Figure\",\"type\":\"Plot\"},\"ticker\":{\"id\":\"d727bd17-abe4-4a95-b154-52e8f0fe356f\",\"type\":\"BasicTicker\"}},\"id\":\"3a1bc675-3ec1-4a5f-bb0b-93d196904345\",\"type\":\"Grid\"},{\"attributes\":{},\"id\":\"d727bd17-abe4-4a95-b154-52e8f0fe356f\",\"type\":\"BasicTicker\"},{\"attributes\":{\"formatter\":{\"id\":\"347a24db-360e-4086-95ba-75a731d3b39b\",\"type\":\"BasicTickFormatter\"},\"plot\":{\"id\":\"e47acd67-813e-4c08-a500-356056b2c779\",\"subtype\":\"Figure\",\"type\":\"Plot\"},\"ticker\":{\"id\":\"d727bd17-abe4-4a95-b154-52e8f0fe356f\",\"type\":\"BasicTicker\"}},\"id\":\"9fa727a4-8b0e-41de-b523-719c5303eb94\",\"type\":\"LinearAxis\"},{\"attributes\":{},\"id\":\"6f6712af-a631-4b9e-ba0f-64c4de83c958\",\"type\":\"BasicTicker\"},{\"attributes\":{\"callback\":null,\"data\":{\"Divorces\":{\"__ndarray__\":\"AAAAAACIw0AAAAAAAIjDQAAAAAAAfMVAAAAAAAB8xUAAAAAAAHDHQAAAAAAAcMdAAAAAAABkyUAAAAAAAFjLQAAAAAAAWMtAAAAAAABMzUAAAAAAAEDPQAAAAAAAQM9AAAAAAACa0EAAAAAAAIjTQAAAAAAAgtRAAAAAAAB81UAAAAAAAHbWQAAAAAAAdtZAAAAAAAB21kAAAAAAAGTZQAAAAAAAWNtAAAAAAABS3EAAAAAAAEDfQAAAAAAAHeBAAAAAAACU4UAAAAAAABHiQAAAAAAAEeJAAAAAAACO4kAAAAAAAIjjQAAAAAAA/+RAAAAAAAD55UAAAAAAAHDnQAAAAAAA5+hAAAAAAABY60AAAAAAAMntQAAAAAAAye1AAAAAAAC970AAAAAAAB3wQAAAAAAAmvBAAAAAAACU8UAAAAAAgMzyQAAAAACAzPJAAAAAAACI80AAAAAAgEP0QAAAAACAuvVAAAAAAADz9kAAAAAAgDf2QAAAAACAqPhAAAAAAABk+UAAAAAAANX7QAAAAAAAyf1AAAAAAABS/EAAAAAAgFUBQQAAAADA3wRBAAAAAACIA0EAAAAAQDACQQAAAABAJARBAAAAAMDfBEEAAAAAwFwFQQAAAABAlQZBAAAAAADtB0EAAAAAAGoIQQAAAACAJQlBAAAAAADtB0EAAAAAAPMGQQAAAAAABQRBAAAAAEAkBEEAAAAAAOcIQQAAAACAnApBAAAAAADPDEEAAAAAQGUOQQAAAAAAyQ1BAAAAAMCjDkEAAAAAAB0QQQAAAAAg4hFBAAAAAKCXE0EAAAAAYOkVQQAAAAAAahhBAAAAACCaHUEAAAAAoJ0iQQAAAADgeh1BAAAAAADnGEEAAAAAIDsYQQAAAACgfxdBAAAAACBBF0EAAAAAAO0XQQAAAADAzRdBAAAAAOAhF0EAAAAAoAIXQQAAAADAUBdBAAAAACBBF0EAAAAAAHYWQQAAAADgGxhBAAAAAKD8F0EAAAAAwEQZQQAAAAAgNRlBAAAAAIAfGkEAAAAAQHcbQQAAAABgPB1BAAAAAOB0HkEAAAAA4OsfQQAAAACA0iFBAAAAADCAI0EAAAAAQJslQQAAAAAQlydBAAAAAJDJKUEAAAAAcOwrQQAAAAD2Bi5BAAAAAEqjL0EAAAAAfqMwQQAAAACFzjBBAAAAADBTMUEAAAAAZjQyQQAAAACvETJBAAAAAOKZMkEAAAAAAAD4fwAAAAAAAPh/AAAAABIJMkEAAAAAUjIyQQAAAADT/jFBAAAAAE7JMUEAAAAAK5MxQQAAAADfvTFBAAAAACvxMUEAAAAApy4yQQAAAABK0TJBAAAAAPFEMkEAAAAA9X0yQQAAAAAAAPh/AAAAAAAA+H8AAAAA+L4xQQAAAACYUTFBAAAAAJ15MUEAAAAAAM8sQQAAAADAryxBAAAAAPAkLUEAAAAAMEosQQAAAAAw0ypBAAAAADDZKUEAAAAAgJwqQQAAAACAHypBAAAAAMDBKUEAAAAAgKIpQQAAAACAnCpBAAAAAJDDKkE=\",\"dtype\":\"float64\",\"shape\":[145]},\"Divorces_per_1000\":{\"__ndarray__\":\"MzMzMzMz0z8zMzMzMzPTPzMzMzMzM9M/MzMzMzMz0z8zMzMzMzPTPzMzMzMzM9M/MzMzMzMz0z8zMzMzMzPTPzMzMzMzM9M/MzMzMzMz0z8zMzMzMzPTPzMzMzMzM9M/MzMzMzMz0z+amZmZmZnZP5qZmZmZmdk/mpmZmZmZ2T+amZmZmZnZP5qZmZmZmdk/mpmZmZmZ2T+amZmZmZnZPwAAAAAAAOA/AAAAAAAA4D8AAAAAAADgPwAAAAAAAOA/MzMzMzMz4z8zMzMzMzPjPwAAAAAAAOA/MzMzMzMz4z8zMzMzMzPjPzMzMzMzM+M/MzMzMzMz4z9mZmZmZmbmP2ZmZmZmZuY/ZmZmZmZm5j+amZmZmZnpP5qZmZmZmek/mpmZmZmZ6T+amZmZmZnpP5qZmZmZmek/mpmZmZmZ6T/NzMzMzMzsP83MzMzMzOw/zczMzMzM7D/NzMzMzMzsP83MzMzMzOw/AAAAAAAA8D/NzMzMzMzsPwAAAAAAAPA/AAAAAAAA8D+amZmZmZnxPzMzMzMzM/M/mpmZmZmZ8T9mZmZmZmb2P5qZmZmZmfk/AAAAAAAA+D9mZmZmZmb2PwAAAAAAAPg/AAAAAAAA+D8AAAAAAAD4P5qZmZmZmfk/mpmZmZmZ+T8zMzMzMzP7PzMzMzMzM/s/mpmZmZmZ+T8AAAAAAAD4P83MzMzMzPQ/zczMzMzM9D+amZmZmZn5PzMzMzMzM/s/zczMzMzM/D9mZmZmZmb+P2ZmZmZmZv4/ZmZmZmZm/j8AAAAAAAAAQJqZmZmZmQFAMzMzMzMzA0DNzMzMzMwEQDMzMzMzMwdAAAAAAAAADEAzMzMzMzMRQDMzMzMzMwtAZmZmZmZmBkCamZmZmZkFQAAAAAAAAARAAAAAAAAABEAAAAAAAAAEQDMzMzMzMwNAZmZmZmZmAkBmZmZmZmYCQGZmZmZmZgJAmpmZmZmZAUDNzMzMzMwAQJqZmZmZmQFAmpmZmZmZAUBmZmZmZmYCQJqZmZmZmQFAZmZmZmZmAkBmZmZmZmYCQAAAAAAAAARAAAAAAAAABEDNzMzMzMwEQDMzMzMzMwdAmpmZmZmZCUAAAAAAAAAMQJqZmZmZmQ1AAAAAAAAAEEAzMzMzMzMRQGZmZmZmZhJAMzMzMzMzE0AAAAAAAAAUQAAAAAAAABRAZmZmZmZmFEAzMzMzMzMVQM3MzMzMzBRAMzMzMzMzFUAAAAAAAAD4fwAAAAAAAPh/AAAAAAAAFEAAAAAAAAAUQJqZmZmZmRNAMzMzMzMzE0DNzMzMzMwSQM3MzMzMzBJAzczMzMzMEkDNzMzMzMwSQDMzMzMzMxNAZmZmZmZmEkBmZmZmZmYSQAAAAAAAAPh/AAAAAAAA+H8zMzMzMzMRQGZmZmZmZhBAZmZmZmZmEEBmZmZmZmYKQGZmZmZmZgpAZmZmZmZmCkCamZmZmZkJQAAAAAAAAAhAMzMzMzMzB0AzMzMzMzMHQGZmZmZmZgZAZmZmZmZmBkCamZmZmZkFQGZmZmZmZgZAZmZmZmZmBkA=\",\"dtype\":\"float64\",\"shape\":[145]},\"Marriages\":{\"__ndarray__\":\"AAAAACDKFUEAAAAAoA4VQQAAAACAPRVBAAAAAAB8FUEAAAAAYOkVQQAAAABAEhdBAAAAAECPF0EAAAAAoH8XQQAAAACg9hhBAAAAACC4GEEAAAAA4BUZQQAAAABg0RlBAAAAAMC7GkEAAAAAIKYbQQAAAAAAUhxBAAAAAICKHUEAAAAAIJQeQQAAAAAgmh1BAAAAAODxHkEAAAAA4EsgQQAAAACgTx9BAAAAALBTIEEAAAAAcC4hQQAAAAAgZSFBAAAAAAARIkEAAAAAUFciQQAAAABQVyJBAAAAAMDxIUEAAAAAwOsiQQAAAADwYCNBAAAAAHCfI0EAAAAAsL4jQQAAAADQiSRBAAAAABCjJUEAAAAA4KQmQQAAAACAridBAAAAAKD2KEEAAAAAMN8oQQAAAAAgsilBAAAAADBQK0EAAAAAUJgsQQAAAABQJypBAAAAANBfK0EAAAAAQO4sQQAAAADwJC1BAAAAAJCrLkEAAAAAkCgvQQAAAADQRy9BAAAAAADDLkEAAAAAIGswQQAAAADAdDFBAAAAAICELkEAAAAAMIwxQQAAAACQcDNBAAAAAODCMUEAAAAAsE0xQQAAAACwxDJBAAAAAOgUMkEAAAAAoCAyQQAAAAA4WzJBAAAAAGhTMkEAAAAAMAkyQQAAAABo0DJBAAAAAFgyMUEAAAAAiDAwQQAAAADg9y1BAAAAABDBMEEAAAAA8N0zQQAAAACYPzRBAAAAAKjjNEEAAAAA+CM2QQAAAAA4TzRBAAAAAGBsNUEAAAAAYFo4QQAAAAAA4TlBAAAAAOAJO0EAAAAAKBA4QQAAAADgJzZBAAAAAMicOEEAAAAAnHpBQQAAAABAZT5BAAAAADiiO0EAAAAA4Bs4QQAAAAC4bzlBAAAAAHhWOEEAAAAAuHs3QQAAAAAQlzdBAAAAAFC8NkEAAAAAeFw3QQAAAABoLzhBAAAAALApN0EAAAAA+CM2QQAAAADwyzZBAAAAADg9N0EAAAAA4J43QQAAAAAoEDhBAAAAAPA8OUEAAAAASFI6QQAAAABAdztBAAAAAOhVPEEAAAAAWGc9QQAAAAAIkj9BAAAAAHRdQEEAAAAAJa1AQQAAAIBItkBBAAAAAFVpQUEAAAAAJm1BQQAAAICUIkFBAAAAAGF6QEEAAACA5XhAQQAAAIB+o0BBAAAAgKt+QUEAAAAAd9xBQQAAAACkakJBAAAAgOKZQkEAAAAAAAD4fwAAAAAAAPh/AAAAgOzvQkEAAACA52BCQQAAAADXXEJBAAAAAJlXQkEAAAAAwiJCQQAAAADTTkJBAAAAAJ+0QkEAAAAApy5CQQAAAIC/OkJBAAAAAEXfQUEAAACAgEpCQQAAAAAAAPh/AAAAAAAA+H8AAAAAQDBCQQAAAADQHkFBAAAAAHj9QUEAAAAAfKlBQQAAAAD4vkFBAAAAAKh4QUEAAAAAxCBBQQAAAAAsY0FBAAAAAJQoQUEAAAAANLtAQQAAAAAEw0BBAAAAAOR0QEEAAAAAAL0/QQAAAACA+z9BAAAAALgoQEE=\",\"dtype\":\"float64\",\"shape\":[145]},\"Marriages_per_1000\":{\"__ndarray__\":\"ZmZmZmZmI0AzMzMzMzMiQAAAAAAAACJAmpmZmZmZIUCamZmZmZkhQAAAAAAAACJAzczMzMzMIUBmZmZmZmYhQAAAAAAAACJAZmZmZmZmIUBmZmZmZmYhQJqZmZmZmSFAzczMzMzMIUAAAAAAAAAiQAAAAAAAACJAZmZmZmZmIkBmZmZmZmYiQGZmZmZmZiFAzczMzMzMIUBmZmZmZmYiQDMzMzMzMyFAmpmZmZmZIUAzMzMzMzMiQAAAAAAAACJAZmZmZmZmIkAzMzMzMzMiQM3MzMzMzCFAAAAAAAAAIUCamZmZmZkhQM3MzMzMzCFAzczMzMzMIUCamZmZmZkhQAAAAAAAACJAmpmZmZmZIkAzMzMzMzMjQJqZmZmZmSNAMzMzMzMzJEDNzMzMzMwjQAAAAAAAACRAAAAAAAAAJUCamZmZmZklQGZmZmZmZiNAzczMzMzMI0CamZmZmZkkQGZmZmZmZiRAAAAAAAAAJUAAAAAAAAAlQJqZmZmZmSRAAAAAAAAAJEAzMzMzMzMlQDMzMzMzMyZAMzMzMzMzI0DNzMzMzMwlQAAAAAAAAChAZmZmZmZmJUCamZmZmZkkQAAAAAAAACZAzczMzMzMJECamZmZmZkkQGZmZmZmZiRAMzMzMzMzJECamZmZmZkjQDMzMzMzMyRAMzMzMzMzIkAAAAAAAAAhQJqZmZmZmR9AZmZmZmZmIUCamZmZmZkkQM3MzMzMzCRAZmZmZmZmJUCamZmZmZkmQGZmZmZmZiRAZmZmZmZmJUAzMzMzMzMoQGZmZmZmZilAMzMzMzMzKkAAAAAAAAAnQAAAAAAAACVAAAAAAAAAJ0AzMzMzMzMwQJqZmZmZmStAzczMzMzMKEAzMzMzMzMlQAAAAAAAACZAmpmZmZmZJECamZmZmZkjQGZmZmZmZiNAZmZmZmZmIkCamZmZmZkiQM3MzMzMzCJAzczMzMzMIUCamZmZmZkgQM3MzMzMzCBAzczMzMzMIEDNzMzMzMwgQAAAAAAAACFAZmZmZmZmIUAAAAAAAAAiQJqZmZmZmSJAzczMzMzMIkBmZmZmZmYjQJqZmZmZmSRAMzMzMzMzJUBmZmZmZmYlQAAAAAAAACVAzczMzMzMJUCamZmZmZklQAAAAAAAACVAAAAAAAAAJEDNzMzMzMwjQM3MzMzMzCNAmpmZmZmZJEDNzMzMzMwkQDMzMzMzMyVAMzMzMzMzJUAAAAAAAAD4fwAAAAAAAPh/AAAAAAAAJUAzMzMzMzMkQAAAAAAAACRAzczMzMzMI0BmZmZmZmYjQGZmZmZmZiNAmpmZmZmZI0DNzMzMzMwiQJqZmZmZmSJAAAAAAAAAIkAzMzMzMzMiQAAAAAAAAPh/AAAAAAAA+H9mZmZmZmYhQDMzMzMzMyBAzczMzMzMIEBmZmZmZmYgQGZmZmZmZiBAAAAAAAAAIEDNzMzMzMweQDMzMzMzMx9AZmZmZmZmHkAzMzMzMzMdQDMzMzMzMx1AZmZmZmZmHEAzMzMzMzMbQDMzMzMzMxtAMzMzMzMzG0A=\",\"dtype\":\"float64\",\"shape\":[145]},\"Population\":[36970000,37885000,38870000,39905000,41010000,42066000,43225000,44429000,45492000,46459000,47400000,48319000,49264000,50262000,51466000,52893000,54435000,55826000,57128000,58258000,59357000,60614000,61893000,63056000,64432000,65920000,67470000,68910000,70076000,71188000,72441000,73600000,74793000,76094000,77584000,79163000,80632000,82166000,83822000,85450000,87008000,88710000,90490000,92407000,93863000,95335000,97225000,99111000,100546000,101961000,103414000,104550000,105063000,106461000,108538000,110049000,111947000,114109000,115829000,117397000,119035000,120509000,121878000,123188000,124149000,124949000,125690000,126485000,127362000,128181000,128961000,129969000,131028000,132122000,133402000,134860000,136739000,138397000,139928000,141389000,144126000,146631000,149188000,151684000,154287000,156954000,159565000,162391000,165275000,168221000,171274000,174141000,177130000,180760000,183742000,186590000,189300000,191927000,194347000,196599000,198752000,200745000,202736000,205089000,207692000,209924000,211939000,213898000,215981000,218086000,220289000,222629000,225106000,227726000,230008000,232218000,234333000,236394000,238506000,240683000,242843000,245061000,247387000,250181000,253530000,256922000,260282000,263455000,266588000,269714000,272958000,276154000,279328000,282398000,285225000,287955000,290626000,293262000,295993000,298818000,301696000,304543000,307240000,309776000,312034000],\"Year\":[1867,1868,1869,1870,1871,1872,1873,1874,1875,1876,1877,1878,1879,1880,1881,1882,1883,1884,1885,1886,1887,1888,1889,1890,1891,1892,1893,1894,1895,1896,1897,1898,1899,1900,1901,1902,1903,1904,1905,1906,1907,1908,1909,1910,1911,1912,1913,1914,1915,1916,1917,1918,1919,1920,1921,1922,1923,1924,1925,1926,1927,1928,1929,1930,1931,1932,1933,1934,1935,1936,1937,1938,1939,1940,1941,1942,1943,1944,1945,1946,1947,1948,1949,1950,1951,1952,1953,1954,1955,1956,1957,1958,1959,1960,1961,1962,1963,1964,1965,1966,1967,1968,1969,1970,1971,1972,1973,1974,1975,1976,1977,1978,1979,1980,1981,1982,1983,1984,1985,1986,1987,1988,1989,1990,1991,1992,1993,1994,1995,1996,1997,1998,1999,2000,2001,2002,2003,2004,2005,2006,2007,2008,2009,2010,2011],\"index\":[0,1,2,3,4,5,6,7,8,9,10,11,12,13,14,15,16,17,18,19,20,21,22,23,24,25,26,27,28,29,30,31,32,33,34,35,36,37,38,39,40,41,42,43,44,45,46,47,48,49,50,51,52,53,54,55,56,57,58,59,60,61,62,63,64,65,66,67,68,69,70,71,72,73,74,75,76,77,78,79,80,81,82,83,84,85,86,87,88,89,90,91,92,93,94,95,96,97,98,99,100,101,102,103,104,105,106,107,108,109,110,111,112,113,114,115,116,117,118,119,120,121,122,123,124,125,126,127,128,129,130,131,132,133,134,135,136,137,138,139,140,141,142,143,144]},\"selected\":{\"id\":\"ae88c0f0-6382-4095-a616-36bfb939d2e5\",\"type\":\"Selection\"},\"selection_policy\":{\"id\":\"4fd22822-1a65-4c3c-8243-3e2c3b24d0fb\",\"type\":\"UnionRenderers\"}},\"id\":\"a10f4483-bb6d-4b81-aa75-c1704eda06ea\",\"type\":\"ColumnDataSource\"},{\"attributes\":{\"dimension\":1,\"plot\":{\"id\":\"e47acd67-813e-4c08-a500-356056b2c779\",\"subtype\":\"Figure\",\"type\":\"Plot\"},\"ticker\":{\"id\":\"6f6712af-a631-4b9e-ba0f-64c4de83c958\",\"type\":\"BasicTicker\"}},\"id\":\"cca14c5f-82fb-447a-a9e5-2dc1bc3a4225\",\"type\":\"Grid\"},{\"attributes\":{},\"id\":\"ae88c0f0-6382-4095-a616-36bfb939d2e5\",\"type\":\"Selection\"},{\"attributes\":{},\"id\":\"4fd22822-1a65-4c3c-8243-3e2c3b24d0fb\",\"type\":\"UnionRenderers\"},{\"attributes\":{\"formatter\":{\"id\":\"b457fc16-cb3c-43ae-bf9b-445e897762a1\",\"type\":\"BasicTickFormatter\"},\"plot\":{\"id\":\"e47acd67-813e-4c08-a500-356056b2c779\",\"subtype\":\"Figure\",\"type\":\"Plot\"},\"ticker\":{\"id\":\"6f6712af-a631-4b9e-ba0f-64c4de83c958\",\"type\":\"BasicTicker\"}},\"id\":\"d667707d-fb1b-47c6-af89-e38b870224db\",\"type\":\"LinearAxis\"},{\"attributes\":{\"overlay\":{\"id\":\"8140a0ce-b12d-4c63-a61f-abc56a0c0be7\",\"type\":\"BoxAnnotation\"}},\"id\":\"5f25a69e-0330-49cf-931b-3d805046a73e\",\"type\":\"BoxZoomTool\"},{\"attributes\":{},\"id\":\"04cd3acd-4874-4f29-8313-c7af6e18728f\",\"type\":\"WheelZoomTool\"},{\"attributes\":{\"data_source\":{\"id\":\"a10f4483-bb6d-4b81-aa75-c1704eda06ea\",\"type\":\"ColumnDataSource\"},\"glyph\":{\"id\":\"67220baf-340a-4e20-aa81-cd5989047ecf\",\"type\":\"Circle\"},\"hover_glyph\":null,\"muted_glyph\":null,\"nonselection_glyph\":{\"id\":\"3d89c235-8ebf-4648-bb58-f7a740ef8515\",\"type\":\"Circle\"},\"selection_glyph\":null,\"view\":{\"id\":\"826b86af-0dff-4ef8-bbad-ea1cb51bcfe4\",\"type\":\"CDSView\"}},\"id\":\"5eb5f60b-afda-4325-b991-51221d85432e\",\"type\":\"GlyphRenderer\"},{\"attributes\":{},\"id\":\"0359570f-7a71-41cf-8e3d-8915026cf941\",\"type\":\"PanTool\"},{\"attributes\":{\"label\":{\"value\":\"Divorce_per_1000\"},\"renderers\":[{\"id\":\"b76f7459-e3e3-48d1-a5a8-6581eec5e553\",\"type\":\"GlyphRenderer\"}]},\"id\":\"da58e45a-fcbd-47b6-bdd9-08a253757eeb\",\"type\":\"LegendItem\"},{\"attributes\":{\"fill_color\":{\"value\":\"red\"},\"line_color\":{\"value\":\"red\"},\"x\":{\"field\":\"Year\"},\"y\":{\"field\":\"Divorces_per_1000\"}},\"id\":\"19726894-b95c-495a-969c-80ea8d4691c3\",\"type\":\"Circle\"}],\"root_ids\":[\"e47acd67-813e-4c08-a500-356056b2c779\"]},\"title\":\"Bokeh Application\",\"version\":\"0.13.0\"}};\n",
       "  var render_items = [{\"docid\":\"844dedfd-6e0c-4470-b6f8-66a52accbe8c\",\"roots\":{\"e47acd67-813e-4c08-a500-356056b2c779\":\"9d2e5735-c436-4ab5-b299-f878216a5ad7\"}}];\n",
       "  root.Bokeh.embed.embed_items_notebook(docs_json, render_items);\n",
       "\n",
       "  }\n",
       "  if (root.Bokeh !== undefined) {\n",
       "    embed_document(root);\n",
       "  } else {\n",
       "    var attempts = 0;\n",
       "    var timer = setInterval(function(root) {\n",
       "      if (root.Bokeh !== undefined) {\n",
       "        embed_document(root);\n",
       "        clearInterval(timer);\n",
       "      }\n",
       "      attempts++;\n",
       "      if (attempts > 100) {\n",
       "        console.log(\"Bokeh: ERROR: Unable to run BokehJS code because BokehJS library is missing\")\n",
       "        clearInterval(timer);\n",
       "      }\n",
       "    }, 10, root)\n",
       "  }\n",
       "})(window);"
      ],
      "application/vnd.bokehjs_exec.v0+json": ""
     },
     "metadata": {
      "application/vnd.bokehjs_exec.v0+json": {
       "id": "e47acd67-813e-4c08-a500-356056b2c779"
      }
     },
     "output_type": "display_data"
    }
   ],
   "source": [
    "p = figure(title = 'Mariages per 100 vs Year and Divorces per 1000 vs Year')\n",
    "p.circle(x = 'Year', y = 'Marriages_per_1000',\n",
    "         legend = 'Marriage_per_1000',\n",
    "         source = source)\n",
    "p.circle(x = 'Year', y = 'Divorces_per_1000', source = source, color = 'red',\n",
    "        legend = 'Divorce_per_1000',)\n",
    "\n",
    "show(p)"
   ]
  },
  {
   "cell_type": "markdown",
   "metadata": {},
   "source": [
    "# Index"
   ]
  },
  {
   "cell_type": "code",
   "execution_count": 84,
   "metadata": {},
   "outputs": [
    {
     "data": {
      "text/plain": [
       "RangeIndex(start=0, stop=145, step=1)"
      ]
     },
     "execution_count": 84,
     "metadata": {},
     "output_type": "execute_result"
    }
   ],
   "source": [
    "df.index"
   ]
  },
  {
   "cell_type": "code",
   "execution_count": 85,
   "metadata": {},
   "outputs": [
    {
     "data": {
      "text/html": [
       "<div>\n",
       "<style scoped>\n",
       "    .dataframe tbody tr th:only-of-type {\n",
       "        vertical-align: middle;\n",
       "    }\n",
       "\n",
       "    .dataframe tbody tr th {\n",
       "        vertical-align: top;\n",
       "    }\n",
       "\n",
       "    .dataframe thead th {\n",
       "        text-align: right;\n",
       "    }\n",
       "</style>\n",
       "<table border=\"1\" class=\"dataframe\">\n",
       "  <thead>\n",
       "    <tr style=\"text-align: right;\">\n",
       "      <th></th>\n",
       "      <th>Year</th>\n",
       "      <th>Marriages</th>\n",
       "      <th>Divorces</th>\n",
       "      <th>Population</th>\n",
       "      <th>Marriages_per_1000</th>\n",
       "      <th>Divorces_per_1000</th>\n",
       "    </tr>\n",
       "  </thead>\n",
       "  <tbody>\n",
       "    <tr>\n",
       "      <th>0</th>\n",
       "      <td>1867</td>\n",
       "      <td>357000.0</td>\n",
       "      <td>10000.0</td>\n",
       "      <td>36970000</td>\n",
       "      <td>9.7</td>\n",
       "      <td>0.3</td>\n",
       "    </tr>\n",
       "    <tr>\n",
       "      <th>1</th>\n",
       "      <td>1868</td>\n",
       "      <td>345000.0</td>\n",
       "      <td>10000.0</td>\n",
       "      <td>37885000</td>\n",
       "      <td>9.1</td>\n",
       "      <td>0.3</td>\n",
       "    </tr>\n",
       "    <tr>\n",
       "      <th>2</th>\n",
       "      <td>1869</td>\n",
       "      <td>348000.0</td>\n",
       "      <td>11000.0</td>\n",
       "      <td>38870000</td>\n",
       "      <td>9.0</td>\n",
       "      <td>0.3</td>\n",
       "    </tr>\n",
       "    <tr>\n",
       "      <th>3</th>\n",
       "      <td>1870</td>\n",
       "      <td>352000.0</td>\n",
       "      <td>11000.0</td>\n",
       "      <td>39905000</td>\n",
       "      <td>8.8</td>\n",
       "      <td>0.3</td>\n",
       "    </tr>\n",
       "    <tr>\n",
       "      <th>4</th>\n",
       "      <td>1871</td>\n",
       "      <td>359000.0</td>\n",
       "      <td>12000.0</td>\n",
       "      <td>41010000</td>\n",
       "      <td>8.8</td>\n",
       "      <td>0.3</td>\n",
       "    </tr>\n",
       "  </tbody>\n",
       "</table>\n",
       "</div>"
      ],
      "text/plain": [
       "   Year  Marriages  Divorces  Population  Marriages_per_1000  \\\n",
       "0  1867   357000.0   10000.0    36970000                 9.7   \n",
       "1  1868   345000.0   10000.0    37885000                 9.1   \n",
       "2  1869   348000.0   11000.0    38870000                 9.0   \n",
       "3  1870   352000.0   11000.0    39905000                 8.8   \n",
       "4  1871   359000.0   12000.0    41010000                 8.8   \n",
       "\n",
       "   Divorces_per_1000  \n",
       "0                0.3  \n",
       "1                0.3  \n",
       "2                0.3  \n",
       "3                0.3  \n",
       "4                0.3  "
      ]
     },
     "execution_count": 85,
     "metadata": {},
     "output_type": "execute_result"
    }
   ],
   "source": [
    "df.head()"
   ]
  },
  {
   "cell_type": "markdown",
   "metadata": {},
   "source": [
    "# Rename index"
   ]
  },
  {
   "cell_type": "code",
   "execution_count": 87,
   "metadata": {},
   "outputs": [],
   "source": [
    "df.set_index('Year', inplace=True)"
   ]
  },
  {
   "cell_type": "code",
   "execution_count": 88,
   "metadata": {},
   "outputs": [
    {
     "data": {
      "text/html": [
       "<div>\n",
       "<style scoped>\n",
       "    .dataframe tbody tr th:only-of-type {\n",
       "        vertical-align: middle;\n",
       "    }\n",
       "\n",
       "    .dataframe tbody tr th {\n",
       "        vertical-align: top;\n",
       "    }\n",
       "\n",
       "    .dataframe thead th {\n",
       "        text-align: right;\n",
       "    }\n",
       "</style>\n",
       "<table border=\"1\" class=\"dataframe\">\n",
       "  <thead>\n",
       "    <tr style=\"text-align: right;\">\n",
       "      <th></th>\n",
       "      <th>Marriages</th>\n",
       "      <th>Divorces</th>\n",
       "      <th>Population</th>\n",
       "      <th>Marriages_per_1000</th>\n",
       "      <th>Divorces_per_1000</th>\n",
       "    </tr>\n",
       "    <tr>\n",
       "      <th>Year</th>\n",
       "      <th></th>\n",
       "      <th></th>\n",
       "      <th></th>\n",
       "      <th></th>\n",
       "      <th></th>\n",
       "    </tr>\n",
       "  </thead>\n",
       "  <tbody>\n",
       "    <tr>\n",
       "      <th>1867</th>\n",
       "      <td>357000.0</td>\n",
       "      <td>10000.0</td>\n",
       "      <td>36970000</td>\n",
       "      <td>9.7</td>\n",
       "      <td>0.3</td>\n",
       "    </tr>\n",
       "    <tr>\n",
       "      <th>1868</th>\n",
       "      <td>345000.0</td>\n",
       "      <td>10000.0</td>\n",
       "      <td>37885000</td>\n",
       "      <td>9.1</td>\n",
       "      <td>0.3</td>\n",
       "    </tr>\n",
       "    <tr>\n",
       "      <th>1869</th>\n",
       "      <td>348000.0</td>\n",
       "      <td>11000.0</td>\n",
       "      <td>38870000</td>\n",
       "      <td>9.0</td>\n",
       "      <td>0.3</td>\n",
       "    </tr>\n",
       "    <tr>\n",
       "      <th>1870</th>\n",
       "      <td>352000.0</td>\n",
       "      <td>11000.0</td>\n",
       "      <td>39905000</td>\n",
       "      <td>8.8</td>\n",
       "      <td>0.3</td>\n",
       "    </tr>\n",
       "    <tr>\n",
       "      <th>1871</th>\n",
       "      <td>359000.0</td>\n",
       "      <td>12000.0</td>\n",
       "      <td>41010000</td>\n",
       "      <td>8.8</td>\n",
       "      <td>0.3</td>\n",
       "    </tr>\n",
       "  </tbody>\n",
       "</table>\n",
       "</div>"
      ],
      "text/plain": [
       "      Marriages  Divorces  Population  Marriages_per_1000  Divorces_per_1000\n",
       "Year                                                                        \n",
       "1867   357000.0   10000.0    36970000                 9.7                0.3\n",
       "1868   345000.0   10000.0    37885000                 9.1                0.3\n",
       "1869   348000.0   11000.0    38870000                 9.0                0.3\n",
       "1870   352000.0   11000.0    39905000                 8.8                0.3\n",
       "1871   359000.0   12000.0    41010000                 8.8                0.3"
      ]
     },
     "execution_count": 88,
     "metadata": {},
     "output_type": "execute_result"
    }
   ],
   "source": [
    "df.head()"
   ]
  },
  {
   "cell_type": "code",
   "execution_count": 90,
   "metadata": {},
   "outputs": [
    {
     "data": {
      "text/plain": [
       "Marriages               357000.0\n",
       "Divorces                 10000.0\n",
       "Population            36970000.0\n",
       "Marriages_per_1000           9.7\n",
       "Divorces_per_1000            0.3\n",
       "Name: 1867, dtype: float64"
      ]
     },
     "execution_count": 90,
     "metadata": {},
     "output_type": "execute_result"
    }
   ],
   "source": [
    "df.loc[1867]"
   ]
  },
  {
   "cell_type": "code",
   "execution_count": 92,
   "metadata": {},
   "outputs": [],
   "source": [
    "df.reset_index(inplace=True)"
   ]
  },
  {
   "cell_type": "code",
   "execution_count": 94,
   "metadata": {},
   "outputs": [
    {
     "data": {
      "text/html": [
       "<div>\n",
       "<style scoped>\n",
       "    .dataframe tbody tr th:only-of-type {\n",
       "        vertical-align: middle;\n",
       "    }\n",
       "\n",
       "    .dataframe tbody tr th {\n",
       "        vertical-align: top;\n",
       "    }\n",
       "\n",
       "    .dataframe thead th {\n",
       "        text-align: right;\n",
       "    }\n",
       "</style>\n",
       "<table border=\"1\" class=\"dataframe\">\n",
       "  <thead>\n",
       "    <tr style=\"text-align: right;\">\n",
       "      <th></th>\n",
       "      <th>index</th>\n",
       "      <th>Year</th>\n",
       "      <th>Marriages</th>\n",
       "      <th>Divorces</th>\n",
       "      <th>Population</th>\n",
       "      <th>Marriages_per_1000</th>\n",
       "      <th>Divorces_per_1000</th>\n",
       "    </tr>\n",
       "  </thead>\n",
       "  <tbody>\n",
       "    <tr>\n",
       "      <th>0</th>\n",
       "      <td>0</td>\n",
       "      <td>1867</td>\n",
       "      <td>357000.0</td>\n",
       "      <td>10000.0</td>\n",
       "      <td>36970000</td>\n",
       "      <td>9.7</td>\n",
       "      <td>0.3</td>\n",
       "    </tr>\n",
       "    <tr>\n",
       "      <th>1</th>\n",
       "      <td>1</td>\n",
       "      <td>1868</td>\n",
       "      <td>345000.0</td>\n",
       "      <td>10000.0</td>\n",
       "      <td>37885000</td>\n",
       "      <td>9.1</td>\n",
       "      <td>0.3</td>\n",
       "    </tr>\n",
       "    <tr>\n",
       "      <th>2</th>\n",
       "      <td>2</td>\n",
       "      <td>1869</td>\n",
       "      <td>348000.0</td>\n",
       "      <td>11000.0</td>\n",
       "      <td>38870000</td>\n",
       "      <td>9.0</td>\n",
       "      <td>0.3</td>\n",
       "    </tr>\n",
       "    <tr>\n",
       "      <th>3</th>\n",
       "      <td>3</td>\n",
       "      <td>1870</td>\n",
       "      <td>352000.0</td>\n",
       "      <td>11000.0</td>\n",
       "      <td>39905000</td>\n",
       "      <td>8.8</td>\n",
       "      <td>0.3</td>\n",
       "    </tr>\n",
       "    <tr>\n",
       "      <th>4</th>\n",
       "      <td>4</td>\n",
       "      <td>1871</td>\n",
       "      <td>359000.0</td>\n",
       "      <td>12000.0</td>\n",
       "      <td>41010000</td>\n",
       "      <td>8.8</td>\n",
       "      <td>0.3</td>\n",
       "    </tr>\n",
       "  </tbody>\n",
       "</table>\n",
       "</div>"
      ],
      "text/plain": [
       "   index  Year  Marriages  Divorces  Population  Marriages_per_1000  \\\n",
       "0      0  1867   357000.0   10000.0    36970000                 9.7   \n",
       "1      1  1868   345000.0   10000.0    37885000                 9.1   \n",
       "2      2  1869   348000.0   11000.0    38870000                 9.0   \n",
       "3      3  1870   352000.0   11000.0    39905000                 8.8   \n",
       "4      4  1871   359000.0   12000.0    41010000                 8.8   \n",
       "\n",
       "   Divorces_per_1000  \n",
       "0                0.3  \n",
       "1                0.3  \n",
       "2                0.3  \n",
       "3                0.3  \n",
       "4                0.3  "
      ]
     },
     "execution_count": 94,
     "metadata": {},
     "output_type": "execute_result"
    }
   ],
   "source": [
    "df.head()"
   ]
  },
  {
   "cell_type": "code",
   "execution_count": 100,
   "metadata": {},
   "outputs": [],
   "source": [
    "df.set_index('Marriages', inplace=True)"
   ]
  },
  {
   "cell_type": "code",
   "execution_count": 111,
   "metadata": {},
   "outputs": [
    {
     "data": {
      "text/plain": [
       "Marriages\n",
       "2341102.0    1979\n",
       "2438085.0    1981\n",
       "Name: Year, dtype: int64"
      ]
     },
     "execution_count": 111,
     "metadata": {},
     "output_type": "execute_result"
    }
   ],
   "source": [
    "df.Year[df['Divorces_per_1000'] == df.Divorces_per_1000.max()]"
   ]
  },
  {
   "cell_type": "code",
   "execution_count": 114,
   "metadata": {},
   "outputs": [
    {
     "data": {
      "text/plain": [
       "index                        0.0\n",
       "Year                      1867.0\n",
       "Population            36970000.0\n",
       "Marriages_per_1000           9.7\n",
       "Divorces_per_1000            0.3\n",
       "Name: 357000.0, dtype: float64"
      ]
     },
     "execution_count": 114,
     "metadata": {},
     "output_type": "execute_result"
    }
   ],
   "source": [
    "df.loc[357000]"
   ]
  }
 ],
 "metadata": {
  "kernelspec": {
   "display_name": "Python 3",
   "language": "python",
   "name": "python3"
  },
  "language_info": {
   "codemirror_mode": {
    "name": "ipython",
    "version": 3
   },
   "file_extension": ".py",
   "mimetype": "text/x-python",
   "name": "python",
   "nbconvert_exporter": "python",
   "pygments_lexer": "ipython3",
   "version": "3.7.0"
  }
 },
 "nbformat": 4,
 "nbformat_minor": 2
}
