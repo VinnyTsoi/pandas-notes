{
 "cells": [
  {
   "cell_type": "markdown",
   "metadata": {},
   "source": [
    "# Load csv"
   ]
  },
  {
   "cell_type": "code",
   "execution_count": 2,
   "metadata": {},
   "outputs": [],
   "source": [
    "import csv\n",
    "import pandas as pd\n",
    "\n",
    "file_name = 'us_marriages_divorces.csv'\n",
    "df = pd.read_csv(file_name, encoding='latin-1')"
   ]
  },
  {
   "cell_type": "markdown",
   "metadata": {},
   "source": [
    "# How many rows and columns in total"
   ]
  },
  {
   "cell_type": "code",
   "execution_count": 3,
   "metadata": {},
   "outputs": [
    {
     "data": {
      "text/plain": [
       "(145, 6)"
      ]
     },
     "execution_count": 3,
     "metadata": {},
     "output_type": "execute_result"
    }
   ],
   "source": [
    "df.shape"
   ]
  },
  {
   "cell_type": "markdown",
   "metadata": {},
   "source": [
    "# Print head of DataFrame"
   ]
  },
  {
   "cell_type": "code",
   "execution_count": 4,
   "metadata": {},
   "outputs": [
    {
     "data": {
      "text/html": [
       "<div>\n",
       "<style scoped>\n",
       "    .dataframe tbody tr th:only-of-type {\n",
       "        vertical-align: middle;\n",
       "    }\n",
       "\n",
       "    .dataframe tbody tr th {\n",
       "        vertical-align: top;\n",
       "    }\n",
       "\n",
       "    .dataframe thead th {\n",
       "        text-align: right;\n",
       "    }\n",
       "</style>\n",
       "<table border=\"1\" class=\"dataframe\">\n",
       "  <thead>\n",
       "    <tr style=\"text-align: right;\">\n",
       "      <th></th>\n",
       "      <th>Year</th>\n",
       "      <th>Marriages</th>\n",
       "      <th>Divorces</th>\n",
       "      <th>Population</th>\n",
       "      <th>Marriages_per_1000</th>\n",
       "      <th>Divorces_per_1000</th>\n",
       "    </tr>\n",
       "  </thead>\n",
       "  <tbody>\n",
       "    <tr>\n",
       "      <th>0</th>\n",
       "      <td>1867</td>\n",
       "      <td>357000.0</td>\n",
       "      <td>10000.0</td>\n",
       "      <td>36970000</td>\n",
       "      <td>9.7</td>\n",
       "      <td>0.3</td>\n",
       "    </tr>\n",
       "    <tr>\n",
       "      <th>1</th>\n",
       "      <td>1868</td>\n",
       "      <td>345000.0</td>\n",
       "      <td>10000.0</td>\n",
       "      <td>37885000</td>\n",
       "      <td>9.1</td>\n",
       "      <td>0.3</td>\n",
       "    </tr>\n",
       "    <tr>\n",
       "      <th>2</th>\n",
       "      <td>1869</td>\n",
       "      <td>348000.0</td>\n",
       "      <td>11000.0</td>\n",
       "      <td>38870000</td>\n",
       "      <td>9.0</td>\n",
       "      <td>0.3</td>\n",
       "    </tr>\n",
       "    <tr>\n",
       "      <th>3</th>\n",
       "      <td>1870</td>\n",
       "      <td>352000.0</td>\n",
       "      <td>11000.0</td>\n",
       "      <td>39905000</td>\n",
       "      <td>8.8</td>\n",
       "      <td>0.3</td>\n",
       "    </tr>\n",
       "    <tr>\n",
       "      <th>4</th>\n",
       "      <td>1871</td>\n",
       "      <td>359000.0</td>\n",
       "      <td>12000.0</td>\n",
       "      <td>41010000</td>\n",
       "      <td>8.8</td>\n",
       "      <td>0.3</td>\n",
       "    </tr>\n",
       "  </tbody>\n",
       "</table>\n",
       "</div>"
      ],
      "text/plain": [
       "   Year  Marriages  Divorces  Population  Marriages_per_1000  \\\n",
       "0  1867   357000.0   10000.0    36970000                 9.7   \n",
       "1  1868   345000.0   10000.0    37885000                 9.1   \n",
       "2  1869   348000.0   11000.0    38870000                 9.0   \n",
       "3  1870   352000.0   11000.0    39905000                 8.8   \n",
       "4  1871   359000.0   12000.0    41010000                 8.8   \n",
       "\n",
       "   Divorces_per_1000  \n",
       "0                0.3  \n",
       "1                0.3  \n",
       "2                0.3  \n",
       "3                0.3  \n",
       "4                0.3  "
      ]
     },
     "execution_count": 4,
     "metadata": {},
     "output_type": "execute_result"
    }
   ],
   "source": [
    "df.head()"
   ]
  },
  {
   "cell_type": "markdown",
   "metadata": {},
   "source": [
    "# Print columns in DF"
   ]
  },
  {
   "cell_type": "code",
   "execution_count": 5,
   "metadata": {},
   "outputs": [
    {
     "data": {
      "text/plain": [
       "Index(['Year', 'Marriages', 'Divorces', 'Population', 'Marriages_per_1000',\n",
       "       'Divorces_per_1000'],\n",
       "      dtype='object')"
      ]
     },
     "execution_count": 5,
     "metadata": {},
     "output_type": "execute_result"
    }
   ],
   "source": [
    "df.columns"
   ]
  },
  {
   "cell_type": "markdown",
   "metadata": {},
   "source": [
    "# Slice 'Year' column"
   ]
  },
  {
   "cell_type": "code",
   "execution_count": 6,
   "metadata": {},
   "outputs": [
    {
     "data": {
      "text/plain": [
       "0    1867\n",
       "1    1868\n",
       "2    1869\n",
       "Name: Year, dtype: int64"
      ]
     },
     "execution_count": 6,
     "metadata": {},
     "output_type": "execute_result"
    }
   ],
   "source": [
    "df.Year[0:3]"
   ]
  },
  {
   "cell_type": "code",
   "execution_count": 7,
   "metadata": {},
   "outputs": [
    {
     "data": {
      "text/plain": [
       "0    1867\n",
       "1    1868\n",
       "2    1869\n",
       "Name: Year, dtype: int64"
      ]
     },
     "execution_count": 7,
     "metadata": {},
     "output_type": "execute_result"
    }
   ],
   "source": [
    "df['Year'][0:3]"
   ]
  },
  {
   "cell_type": "markdown",
   "metadata": {},
   "source": [
    "# Data Type"
   ]
  },
  {
   "cell_type": "code",
   "execution_count": 8,
   "metadata": {},
   "outputs": [
    {
     "data": {
      "text/plain": [
       "pandas.core.series.Series"
      ]
     },
     "execution_count": 8,
     "metadata": {},
     "output_type": "execute_result"
    }
   ],
   "source": [
    "type(df.Year)"
   ]
  },
  {
   "cell_type": "code",
   "execution_count": 14,
   "metadata": {},
   "outputs": [
    {
     "data": {
      "text/html": [
       "<div>\n",
       "<style scoped>\n",
       "    .dataframe tbody tr th:only-of-type {\n",
       "        vertical-align: middle;\n",
       "    }\n",
       "\n",
       "    .dataframe tbody tr th {\n",
       "        vertical-align: top;\n",
       "    }\n",
       "\n",
       "    .dataframe thead th {\n",
       "        text-align: right;\n",
       "    }\n",
       "</style>\n",
       "<table border=\"1\" class=\"dataframe\">\n",
       "  <thead>\n",
       "    <tr style=\"text-align: right;\">\n",
       "      <th></th>\n",
       "      <th>Year</th>\n",
       "      <th>Marriages</th>\n",
       "    </tr>\n",
       "  </thead>\n",
       "  <tbody>\n",
       "    <tr>\n",
       "      <th>0</th>\n",
       "      <td>1867</td>\n",
       "      <td>357000.0</td>\n",
       "    </tr>\n",
       "    <tr>\n",
       "      <th>1</th>\n",
       "      <td>1868</td>\n",
       "      <td>345000.0</td>\n",
       "    </tr>\n",
       "    <tr>\n",
       "      <th>2</th>\n",
       "      <td>1869</td>\n",
       "      <td>348000.0</td>\n",
       "    </tr>\n",
       "    <tr>\n",
       "      <th>3</th>\n",
       "      <td>1870</td>\n",
       "      <td>352000.0</td>\n",
       "    </tr>\n",
       "  </tbody>\n",
       "</table>\n",
       "</div>"
      ],
      "text/plain": [
       "   Year  Marriages\n",
       "0  1867   357000.0\n",
       "1  1868   345000.0\n",
       "2  1869   348000.0\n",
       "3  1870   352000.0"
      ]
     },
     "execution_count": 14,
     "metadata": {},
     "output_type": "execute_result"
    }
   ],
   "source": [
    "df[['Year','Marriages']][:4]"
   ]
  },
  {
   "cell_type": "markdown",
   "metadata": {},
   "source": [
    "# Plot Mariages vs Year and Divorces vs Year"
   ]
  },
  {
   "cell_type": "code",
   "execution_count": 9,
   "metadata": {},
   "outputs": [
    {
     "data": {
      "text/html": [
       "\n",
       "    <div class=\"bk-root\">\n",
       "        <a href=\"https://bokeh.pydata.org\" target=\"_blank\" class=\"bk-logo bk-logo-small bk-logo-notebook\"></a>\n",
       "        <span id=\"427da199-9ca3-4f00-bc06-f36ef1a4abca\">Loading BokehJS ...</span>\n",
       "    </div>"
      ]
     },
     "metadata": {},
     "output_type": "display_data"
    },
    {
     "data": {
      "application/javascript": [
       "\n",
       "(function(root) {\n",
       "  function now() {\n",
       "    return new Date();\n",
       "  }\n",
       "\n",
       "  var force = true;\n",
       "\n",
       "  if (typeof (root._bokeh_onload_callbacks) === \"undefined\" || force === true) {\n",
       "    root._bokeh_onload_callbacks = [];\n",
       "    root._bokeh_is_loading = undefined;\n",
       "  }\n",
       "\n",
       "  var JS_MIME_TYPE = 'application/javascript';\n",
       "  var HTML_MIME_TYPE = 'text/html';\n",
       "  var EXEC_MIME_TYPE = 'application/vnd.bokehjs_exec.v0+json';\n",
       "  var CLASS_NAME = 'output_bokeh rendered_html';\n",
       "\n",
       "  /**\n",
       "   * Render data to the DOM node\n",
       "   */\n",
       "  function render(props, node) {\n",
       "    var script = document.createElement(\"script\");\n",
       "    node.appendChild(script);\n",
       "  }\n",
       "\n",
       "  /**\n",
       "   * Handle when an output is cleared or removed\n",
       "   */\n",
       "  function handleClearOutput(event, handle) {\n",
       "    var cell = handle.cell;\n",
       "\n",
       "    var id = cell.output_area._bokeh_element_id;\n",
       "    var server_id = cell.output_area._bokeh_server_id;\n",
       "    // Clean up Bokeh references\n",
       "    if (id != null && id in Bokeh.index) {\n",
       "      Bokeh.index[id].model.document.clear();\n",
       "      delete Bokeh.index[id];\n",
       "    }\n",
       "\n",
       "    if (server_id !== undefined) {\n",
       "      // Clean up Bokeh references\n",
       "      var cmd = \"from bokeh.io.state import curstate; print(curstate().uuid_to_server['\" + server_id + \"'].get_sessions()[0].document.roots[0]._id)\";\n",
       "      cell.notebook.kernel.execute(cmd, {\n",
       "        iopub: {\n",
       "          output: function(msg) {\n",
       "            var id = msg.content.text.trim();\n",
       "            if (id in Bokeh.index) {\n",
       "              Bokeh.index[id].model.document.clear();\n",
       "              delete Bokeh.index[id];\n",
       "            }\n",
       "          }\n",
       "        }\n",
       "      });\n",
       "      // Destroy server and session\n",
       "      var cmd = \"import bokeh.io.notebook as ion; ion.destroy_server('\" + server_id + \"')\";\n",
       "      cell.notebook.kernel.execute(cmd);\n",
       "    }\n",
       "  }\n",
       "\n",
       "  /**\n",
       "   * Handle when a new output is added\n",
       "   */\n",
       "  function handleAddOutput(event, handle) {\n",
       "    var output_area = handle.output_area;\n",
       "    var output = handle.output;\n",
       "\n",
       "    // limit handleAddOutput to display_data with EXEC_MIME_TYPE content only\n",
       "    if ((output.output_type != \"display_data\") || (!output.data.hasOwnProperty(EXEC_MIME_TYPE))) {\n",
       "      return\n",
       "    }\n",
       "\n",
       "    var toinsert = output_area.element.find(\".\" + CLASS_NAME.split(' ')[0]);\n",
       "\n",
       "    if (output.metadata[EXEC_MIME_TYPE][\"id\"] !== undefined) {\n",
       "      toinsert[toinsert.length - 1].firstChild.textContent = output.data[JS_MIME_TYPE];\n",
       "      // store reference to embed id on output_area\n",
       "      output_area._bokeh_element_id = output.metadata[EXEC_MIME_TYPE][\"id\"];\n",
       "    }\n",
       "    if (output.metadata[EXEC_MIME_TYPE][\"server_id\"] !== undefined) {\n",
       "      var bk_div = document.createElement(\"div\");\n",
       "      bk_div.innerHTML = output.data[HTML_MIME_TYPE];\n",
       "      var script_attrs = bk_div.children[0].attributes;\n",
       "      for (var i = 0; i < script_attrs.length; i++) {\n",
       "        toinsert[toinsert.length - 1].firstChild.setAttribute(script_attrs[i].name, script_attrs[i].value);\n",
       "      }\n",
       "      // store reference to server id on output_area\n",
       "      output_area._bokeh_server_id = output.metadata[EXEC_MIME_TYPE][\"server_id\"];\n",
       "    }\n",
       "  }\n",
       "\n",
       "  function register_renderer(events, OutputArea) {\n",
       "\n",
       "    function append_mime(data, metadata, element) {\n",
       "      // create a DOM node to render to\n",
       "      var toinsert = this.create_output_subarea(\n",
       "        metadata,\n",
       "        CLASS_NAME,\n",
       "        EXEC_MIME_TYPE\n",
       "      );\n",
       "      this.keyboard_manager.register_events(toinsert);\n",
       "      // Render to node\n",
       "      var props = {data: data, metadata: metadata[EXEC_MIME_TYPE]};\n",
       "      render(props, toinsert[toinsert.length - 1]);\n",
       "      element.append(toinsert);\n",
       "      return toinsert\n",
       "    }\n",
       "\n",
       "    /* Handle when an output is cleared or removed */\n",
       "    events.on('clear_output.CodeCell', handleClearOutput);\n",
       "    events.on('delete.Cell', handleClearOutput);\n",
       "\n",
       "    /* Handle when a new output is added */\n",
       "    events.on('output_added.OutputArea', handleAddOutput);\n",
       "\n",
       "    /**\n",
       "     * Register the mime type and append_mime function with output_area\n",
       "     */\n",
       "    OutputArea.prototype.register_mime_type(EXEC_MIME_TYPE, append_mime, {\n",
       "      /* Is output safe? */\n",
       "      safe: true,\n",
       "      /* Index of renderer in `output_area.display_order` */\n",
       "      index: 0\n",
       "    });\n",
       "  }\n",
       "\n",
       "  // register the mime type if in Jupyter Notebook environment and previously unregistered\n",
       "  if (root.Jupyter !== undefined) {\n",
       "    var events = require('base/js/events');\n",
       "    var OutputArea = require('notebook/js/outputarea').OutputArea;\n",
       "\n",
       "    if (OutputArea.prototype.mime_types().indexOf(EXEC_MIME_TYPE) == -1) {\n",
       "      register_renderer(events, OutputArea);\n",
       "    }\n",
       "  }\n",
       "\n",
       "  \n",
       "  if (typeof (root._bokeh_timeout) === \"undefined\" || force === true) {\n",
       "    root._bokeh_timeout = Date.now() + 5000;\n",
       "    root._bokeh_failed_load = false;\n",
       "  }\n",
       "\n",
       "  var NB_LOAD_WARNING = {'data': {'text/html':\n",
       "     \"<div style='background-color: #fdd'>\\n\"+\n",
       "     \"<p>\\n\"+\n",
       "     \"BokehJS does not appear to have successfully loaded. If loading BokehJS from CDN, this \\n\"+\n",
       "     \"may be due to a slow or bad network connection. Possible fixes:\\n\"+\n",
       "     \"</p>\\n\"+\n",
       "     \"<ul>\\n\"+\n",
       "     \"<li>re-rerun `output_notebook()` to attempt to load from CDN again, or</li>\\n\"+\n",
       "     \"<li>use INLINE resources instead, as so:</li>\\n\"+\n",
       "     \"</ul>\\n\"+\n",
       "     \"<code>\\n\"+\n",
       "     \"from bokeh.resources import INLINE\\n\"+\n",
       "     \"output_notebook(resources=INLINE)\\n\"+\n",
       "     \"</code>\\n\"+\n",
       "     \"</div>\"}};\n",
       "\n",
       "  function display_loaded() {\n",
       "    var el = document.getElementById(\"427da199-9ca3-4f00-bc06-f36ef1a4abca\");\n",
       "    if (el != null) {\n",
       "      el.textContent = \"BokehJS is loading...\";\n",
       "    }\n",
       "    if (root.Bokeh !== undefined) {\n",
       "      if (el != null) {\n",
       "        el.textContent = \"BokehJS \" + root.Bokeh.version + \" successfully loaded.\";\n",
       "      }\n",
       "    } else if (Date.now() < root._bokeh_timeout) {\n",
       "      setTimeout(display_loaded, 100)\n",
       "    }\n",
       "  }\n",
       "\n",
       "\n",
       "  function run_callbacks() {\n",
       "    try {\n",
       "      root._bokeh_onload_callbacks.forEach(function(callback) { callback() });\n",
       "    }\n",
       "    finally {\n",
       "      delete root._bokeh_onload_callbacks\n",
       "    }\n",
       "    console.info(\"Bokeh: all callbacks have finished\");\n",
       "  }\n",
       "\n",
       "  function load_libs(js_urls, callback) {\n",
       "    root._bokeh_onload_callbacks.push(callback);\n",
       "    if (root._bokeh_is_loading > 0) {\n",
       "      console.log(\"Bokeh: BokehJS is being loaded, scheduling callback at\", now());\n",
       "      return null;\n",
       "    }\n",
       "    if (js_urls == null || js_urls.length === 0) {\n",
       "      run_callbacks();\n",
       "      return null;\n",
       "    }\n",
       "    console.log(\"Bokeh: BokehJS not loaded, scheduling load and callback at\", now());\n",
       "    root._bokeh_is_loading = js_urls.length;\n",
       "    for (var i = 0; i < js_urls.length; i++) {\n",
       "      var url = js_urls[i];\n",
       "      var s = document.createElement('script');\n",
       "      s.src = url;\n",
       "      s.async = false;\n",
       "      s.onreadystatechange = s.onload = function() {\n",
       "        root._bokeh_is_loading--;\n",
       "        if (root._bokeh_is_loading === 0) {\n",
       "          console.log(\"Bokeh: all BokehJS libraries loaded\");\n",
       "          run_callbacks()\n",
       "        }\n",
       "      };\n",
       "      s.onerror = function() {\n",
       "        console.warn(\"failed to load library \" + url);\n",
       "      };\n",
       "      console.log(\"Bokeh: injecting script tag for BokehJS library: \", url);\n",
       "      document.getElementsByTagName(\"head\")[0].appendChild(s);\n",
       "    }\n",
       "  };var element = document.getElementById(\"427da199-9ca3-4f00-bc06-f36ef1a4abca\");\n",
       "  if (element == null) {\n",
       "    console.log(\"Bokeh: ERROR: autoload.js configured with elementid '427da199-9ca3-4f00-bc06-f36ef1a4abca' but no matching script tag was found. \")\n",
       "    return false;\n",
       "  }\n",
       "\n",
       "  var js_urls = [\"https://cdn.pydata.org/bokeh/release/bokeh-0.13.0.min.js\", \"https://cdn.pydata.org/bokeh/release/bokeh-widgets-0.13.0.min.js\", \"https://cdn.pydata.org/bokeh/release/bokeh-tables-0.13.0.min.js\", \"https://cdn.pydata.org/bokeh/release/bokeh-gl-0.13.0.min.js\"];\n",
       "\n",
       "  var inline_js = [\n",
       "    function(Bokeh) {\n",
       "      Bokeh.set_log_level(\"info\");\n",
       "    },\n",
       "    \n",
       "    function(Bokeh) {\n",
       "      \n",
       "    },\n",
       "    function(Bokeh) {\n",
       "      console.log(\"Bokeh: injecting CSS: https://cdn.pydata.org/bokeh/release/bokeh-0.13.0.min.css\");\n",
       "      Bokeh.embed.inject_css(\"https://cdn.pydata.org/bokeh/release/bokeh-0.13.0.min.css\");\n",
       "      console.log(\"Bokeh: injecting CSS: https://cdn.pydata.org/bokeh/release/bokeh-widgets-0.13.0.min.css\");\n",
       "      Bokeh.embed.inject_css(\"https://cdn.pydata.org/bokeh/release/bokeh-widgets-0.13.0.min.css\");\n",
       "      console.log(\"Bokeh: injecting CSS: https://cdn.pydata.org/bokeh/release/bokeh-tables-0.13.0.min.css\");\n",
       "      Bokeh.embed.inject_css(\"https://cdn.pydata.org/bokeh/release/bokeh-tables-0.13.0.min.css\");\n",
       "    }\n",
       "  ];\n",
       "\n",
       "  function run_inline_js() {\n",
       "    \n",
       "    if ((root.Bokeh !== undefined) || (force === true)) {\n",
       "      for (var i = 0; i < inline_js.length; i++) {\n",
       "        inline_js[i].call(root, root.Bokeh);\n",
       "      }if (force === true) {\n",
       "        display_loaded();\n",
       "      }} else if (Date.now() < root._bokeh_timeout) {\n",
       "      setTimeout(run_inline_js, 100);\n",
       "    } else if (!root._bokeh_failed_load) {\n",
       "      console.log(\"Bokeh: BokehJS failed to load within specified timeout.\");\n",
       "      root._bokeh_failed_load = true;\n",
       "    } else if (force !== true) {\n",
       "      var cell = $(document.getElementById(\"427da199-9ca3-4f00-bc06-f36ef1a4abca\")).parents('.cell').data().cell;\n",
       "      cell.output_area.append_execute_result(NB_LOAD_WARNING)\n",
       "    }\n",
       "\n",
       "  }\n",
       "\n",
       "  if (root._bokeh_is_loading === 0) {\n",
       "    console.log(\"Bokeh: BokehJS loaded, going straight to plotting\");\n",
       "    run_inline_js();\n",
       "  } else {\n",
       "    load_libs(js_urls, function() {\n",
       "      console.log(\"Bokeh: BokehJS plotting callback run at\", now());\n",
       "      run_inline_js();\n",
       "    });\n",
       "  }\n",
       "}(window));"
      ],
      "application/vnd.bokehjs_load.v0+json": "\n(function(root) {\n  function now() {\n    return new Date();\n  }\n\n  var force = true;\n\n  if (typeof (root._bokeh_onload_callbacks) === \"undefined\" || force === true) {\n    root._bokeh_onload_callbacks = [];\n    root._bokeh_is_loading = undefined;\n  }\n\n  \n\n  \n  if (typeof (root._bokeh_timeout) === \"undefined\" || force === true) {\n    root._bokeh_timeout = Date.now() + 5000;\n    root._bokeh_failed_load = false;\n  }\n\n  var NB_LOAD_WARNING = {'data': {'text/html':\n     \"<div style='background-color: #fdd'>\\n\"+\n     \"<p>\\n\"+\n     \"BokehJS does not appear to have successfully loaded. If loading BokehJS from CDN, this \\n\"+\n     \"may be due to a slow or bad network connection. Possible fixes:\\n\"+\n     \"</p>\\n\"+\n     \"<ul>\\n\"+\n     \"<li>re-rerun `output_notebook()` to attempt to load from CDN again, or</li>\\n\"+\n     \"<li>use INLINE resources instead, as so:</li>\\n\"+\n     \"</ul>\\n\"+\n     \"<code>\\n\"+\n     \"from bokeh.resources import INLINE\\n\"+\n     \"output_notebook(resources=INLINE)\\n\"+\n     \"</code>\\n\"+\n     \"</div>\"}};\n\n  function display_loaded() {\n    var el = document.getElementById(\"427da199-9ca3-4f00-bc06-f36ef1a4abca\");\n    if (el != null) {\n      el.textContent = \"BokehJS is loading...\";\n    }\n    if (root.Bokeh !== undefined) {\n      if (el != null) {\n        el.textContent = \"BokehJS \" + root.Bokeh.version + \" successfully loaded.\";\n      }\n    } else if (Date.now() < root._bokeh_timeout) {\n      setTimeout(display_loaded, 100)\n    }\n  }\n\n\n  function run_callbacks() {\n    try {\n      root._bokeh_onload_callbacks.forEach(function(callback) { callback() });\n    }\n    finally {\n      delete root._bokeh_onload_callbacks\n    }\n    console.info(\"Bokeh: all callbacks have finished\");\n  }\n\n  function load_libs(js_urls, callback) {\n    root._bokeh_onload_callbacks.push(callback);\n    if (root._bokeh_is_loading > 0) {\n      console.log(\"Bokeh: BokehJS is being loaded, scheduling callback at\", now());\n      return null;\n    }\n    if (js_urls == null || js_urls.length === 0) {\n      run_callbacks();\n      return null;\n    }\n    console.log(\"Bokeh: BokehJS not loaded, scheduling load and callback at\", now());\n    root._bokeh_is_loading = js_urls.length;\n    for (var i = 0; i < js_urls.length; i++) {\n      var url = js_urls[i];\n      var s = document.createElement('script');\n      s.src = url;\n      s.async = false;\n      s.onreadystatechange = s.onload = function() {\n        root._bokeh_is_loading--;\n        if (root._bokeh_is_loading === 0) {\n          console.log(\"Bokeh: all BokehJS libraries loaded\");\n          run_callbacks()\n        }\n      };\n      s.onerror = function() {\n        console.warn(\"failed to load library \" + url);\n      };\n      console.log(\"Bokeh: injecting script tag for BokehJS library: \", url);\n      document.getElementsByTagName(\"head\")[0].appendChild(s);\n    }\n  };var element = document.getElementById(\"427da199-9ca3-4f00-bc06-f36ef1a4abca\");\n  if (element == null) {\n    console.log(\"Bokeh: ERROR: autoload.js configured with elementid '427da199-9ca3-4f00-bc06-f36ef1a4abca' but no matching script tag was found. \")\n    return false;\n  }\n\n  var js_urls = [\"https://cdn.pydata.org/bokeh/release/bokeh-0.13.0.min.js\", \"https://cdn.pydata.org/bokeh/release/bokeh-widgets-0.13.0.min.js\", \"https://cdn.pydata.org/bokeh/release/bokeh-tables-0.13.0.min.js\", \"https://cdn.pydata.org/bokeh/release/bokeh-gl-0.13.0.min.js\"];\n\n  var inline_js = [\n    function(Bokeh) {\n      Bokeh.set_log_level(\"info\");\n    },\n    \n    function(Bokeh) {\n      \n    },\n    function(Bokeh) {\n      console.log(\"Bokeh: injecting CSS: https://cdn.pydata.org/bokeh/release/bokeh-0.13.0.min.css\");\n      Bokeh.embed.inject_css(\"https://cdn.pydata.org/bokeh/release/bokeh-0.13.0.min.css\");\n      console.log(\"Bokeh: injecting CSS: https://cdn.pydata.org/bokeh/release/bokeh-widgets-0.13.0.min.css\");\n      Bokeh.embed.inject_css(\"https://cdn.pydata.org/bokeh/release/bokeh-widgets-0.13.0.min.css\");\n      console.log(\"Bokeh: injecting CSS: https://cdn.pydata.org/bokeh/release/bokeh-tables-0.13.0.min.css\");\n      Bokeh.embed.inject_css(\"https://cdn.pydata.org/bokeh/release/bokeh-tables-0.13.0.min.css\");\n    }\n  ];\n\n  function run_inline_js() {\n    \n    if ((root.Bokeh !== undefined) || (force === true)) {\n      for (var i = 0; i < inline_js.length; i++) {\n        inline_js[i].call(root, root.Bokeh);\n      }if (force === true) {\n        display_loaded();\n      }} else if (Date.now() < root._bokeh_timeout) {\n      setTimeout(run_inline_js, 100);\n    } else if (!root._bokeh_failed_load) {\n      console.log(\"Bokeh: BokehJS failed to load within specified timeout.\");\n      root._bokeh_failed_load = true;\n    } else if (force !== true) {\n      var cell = $(document.getElementById(\"427da199-9ca3-4f00-bc06-f36ef1a4abca\")).parents('.cell').data().cell;\n      cell.output_area.append_execute_result(NB_LOAD_WARNING)\n    }\n\n  }\n\n  if (root._bokeh_is_loading === 0) {\n    console.log(\"Bokeh: BokehJS loaded, going straight to plotting\");\n    run_inline_js();\n  } else {\n    load_libs(js_urls, function() {\n      console.log(\"Bokeh: BokehJS plotting callback run at\", now());\n      run_inline_js();\n    });\n  }\n}(window));"
     },
     "metadata": {},
     "output_type": "display_data"
    },
    {
     "data": {
      "text/html": [
       "\n",
       "\n",
       "\n",
       "\n",
       "\n",
       "\n",
       "  <div class=\"bk-root\" id=\"98f8d620-0dfe-4a0c-888f-b9d2daf1b3cc\"></div>\n"
      ]
     },
     "metadata": {},
     "output_type": "display_data"
    },
    {
     "data": {
      "application/javascript": [
       "(function(root) {\n",
       "  function embed_document(root) {\n",
       "    \n",
       "  var docs_json = {\"842429c7-8849-418b-9136-62842ea2052a\":{\"roots\":{\"references\":[{\"attributes\":{},\"id\":\"f679b362-ecd4-4186-992e-8b033b10ffa7\",\"type\":\"Selection\"},{\"attributes\":{\"bottom_units\":\"screen\",\"fill_alpha\":{\"value\":0.5},\"fill_color\":{\"value\":\"lightgrey\"},\"left_units\":\"screen\",\"level\":\"overlay\",\"line_alpha\":{\"value\":1.0},\"line_color\":{\"value\":\"black\"},\"line_dash\":[4,4],\"line_width\":{\"value\":2},\"plot\":null,\"render_mode\":\"css\",\"right_units\":\"screen\",\"top_units\":\"screen\"},\"id\":\"32abf5e2-c077-4bf9-ad68-670b2c3a1862\",\"type\":\"BoxAnnotation\"},{\"attributes\":{},\"id\":\"5761a615-827c-43ea-8854-99bf5a55bdea\",\"type\":\"BasicTickFormatter\"},{\"attributes\":{},\"id\":\"0efd99ce-31c0-4616-8b68-a21cfd16c7c7\",\"type\":\"BasicTickFormatter\"},{\"attributes\":{\"items\":[{\"id\":\"8fc23185-ffd6-4158-aa9f-f2c931c98ae7\",\"type\":\"LegendItem\"},{\"id\":\"66286413-9276-42ca-99b3-7b48c47ae934\",\"type\":\"LegendItem\"}],\"plot\":{\"id\":\"a630278a-25bd-4d1b-af42-7a43f8a86002\",\"subtype\":\"Figure\",\"type\":\"Plot\"}},\"id\":\"09e9375a-5632-4994-8b97-d7c4a2695acd\",\"type\":\"Legend\"},{\"attributes\":{},\"id\":\"e9459352-81bd-4abd-82b9-29981de25dc4\",\"type\":\"HelpTool\"},{\"attributes\":{\"fill_alpha\":{\"value\":0.1},\"fill_color\":{\"value\":\"#1f77b4\"},\"line_alpha\":{\"value\":0.1},\"line_color\":{\"value\":\"#1f77b4\"},\"x\":{\"field\":\"Year\"},\"y\":{\"field\":\"Divorces\"}},\"id\":\"ecc18727-2c8e-4ba6-939a-d77eaea27e39\",\"type\":\"Circle\"},{\"attributes\":{\"plot\":null,\"text\":\"Mariages vs Year and Divorces vs Year\"},\"id\":\"28cc5e9d-0053-429f-b7b2-949fd9eafada\",\"type\":\"Title\"},{\"attributes\":{\"data_source\":{\"id\":\"d663d5b6-ddf7-44b3-b306-6f3d2349bb8a\",\"type\":\"ColumnDataSource\"},\"glyph\":{\"id\":\"c3927db2-1eef-4c9d-bf3d-1459aa0a1a22\",\"type\":\"Circle\"},\"hover_glyph\":null,\"muted_glyph\":null,\"nonselection_glyph\":{\"id\":\"ecc18727-2c8e-4ba6-939a-d77eaea27e39\",\"type\":\"Circle\"},\"selection_glyph\":null,\"view\":{\"id\":\"1d5f154d-6c44-4889-8514-07da824879b1\",\"type\":\"CDSView\"}},\"id\":\"8d94f0dd-8f7f-4c56-a5a7-5b1c68806b3b\",\"type\":\"GlyphRenderer\"},{\"attributes\":{\"source\":{\"id\":\"d663d5b6-ddf7-44b3-b306-6f3d2349bb8a\",\"type\":\"ColumnDataSource\"}},\"id\":\"1d5f154d-6c44-4889-8514-07da824879b1\",\"type\":\"CDSView\"},{\"attributes\":{},\"id\":\"26f40456-5849-4c74-8dad-4d3358a5337a\",\"type\":\"LinearScale\"},{\"attributes\":{},\"id\":\"23828783-6512-42c0-81c0-963af008ada0\",\"type\":\"UnionRenderers\"},{\"attributes\":{\"callback\":null},\"id\":\"29d3b0c9-4b18-420e-b610-cf3a882cec09\",\"type\":\"DataRange1d\"},{\"attributes\":{},\"id\":\"f0dda83c-68d4-4772-ade1-e9fb0954699b\",\"type\":\"LinearScale\"},{\"attributes\":{\"label\":{\"value\":\"Marriage\"},\"renderers\":[{\"id\":\"56e8ca15-a658-4f92-a32b-5291ed21ee06\",\"type\":\"GlyphRenderer\"}]},\"id\":\"8fc23185-ffd6-4158-aa9f-f2c931c98ae7\",\"type\":\"LegendItem\"},{\"attributes\":{\"active_drag\":\"auto\",\"active_inspect\":\"auto\",\"active_multi\":null,\"active_scroll\":\"auto\",\"active_tap\":\"auto\",\"tools\":[{\"id\":\"c2274c82-e070-4282-8cbd-d03935e046bd\",\"type\":\"PanTool\"},{\"id\":\"e8247d5b-e1f7-4809-8282-a39d4f6c4e43\",\"type\":\"WheelZoomTool\"},{\"id\":\"52c005ac-1c2c-49c5-b5f1-ec537d80a2cc\",\"type\":\"BoxZoomTool\"},{\"id\":\"b870fff4-9e7c-45c4-b7a9-35bf1f20c320\",\"type\":\"SaveTool\"},{\"id\":\"e4cbc48a-f662-4ac8-a35d-747ff0274abe\",\"type\":\"ResetTool\"},{\"id\":\"e9459352-81bd-4abd-82b9-29981de25dc4\",\"type\":\"HelpTool\"}]},\"id\":\"8473fe8d-983b-4d98-a368-b3c636fb8554\",\"type\":\"Toolbar\"},{\"attributes\":{\"callback\":null},\"id\":\"155711c9-6c95-4a95-b68e-8985bd7e7a51\",\"type\":\"DataRange1d\"},{\"attributes\":{\"fill_alpha\":{\"value\":0.1},\"fill_color\":{\"value\":\"#1f77b4\"},\"line_alpha\":{\"value\":0.1},\"line_color\":{\"value\":\"#1f77b4\"},\"x\":{\"field\":\"Year\"},\"y\":{\"field\":\"Marriages\"}},\"id\":\"3f282c0c-8d36-4047-ac15-24a450196095\",\"type\":\"Circle\"},{\"attributes\":{\"source\":{\"id\":\"d663d5b6-ddf7-44b3-b306-6f3d2349bb8a\",\"type\":\"ColumnDataSource\"}},\"id\":\"88230642-787e-4442-889c-0d01a4bf8f71\",\"type\":\"CDSView\"},{\"attributes\":{\"formatter\":{\"id\":\"0efd99ce-31c0-4616-8b68-a21cfd16c7c7\",\"type\":\"BasicTickFormatter\"},\"plot\":{\"id\":\"a630278a-25bd-4d1b-af42-7a43f8a86002\",\"subtype\":\"Figure\",\"type\":\"Plot\"},\"ticker\":{\"id\":\"9d5e1b68-20f5-4357-949f-c29c07745f7f\",\"type\":\"BasicTicker\"}},\"id\":\"d49038bc-9fdb-4f81-8955-6f4a621cabaa\",\"type\":\"LinearAxis\"},{\"attributes\":{},\"id\":\"9d5e1b68-20f5-4357-949f-c29c07745f7f\",\"type\":\"BasicTicker\"},{\"attributes\":{\"plot\":{\"id\":\"a630278a-25bd-4d1b-af42-7a43f8a86002\",\"subtype\":\"Figure\",\"type\":\"Plot\"},\"ticker\":{\"id\":\"9d5e1b68-20f5-4357-949f-c29c07745f7f\",\"type\":\"BasicTicker\"}},\"id\":\"794eb976-d8af-49ad-8d89-7ce621268fe9\",\"type\":\"Grid\"},{\"attributes\":{\"formatter\":{\"id\":\"5761a615-827c-43ea-8854-99bf5a55bdea\",\"type\":\"BasicTickFormatter\"},\"plot\":{\"id\":\"a630278a-25bd-4d1b-af42-7a43f8a86002\",\"subtype\":\"Figure\",\"type\":\"Plot\"},\"ticker\":{\"id\":\"f42896be-d86a-436e-9094-de8baf5300ec\",\"type\":\"BasicTicker\"}},\"id\":\"06045d58-ddc9-49b3-8b3a-8a1c795b2c46\",\"type\":\"LinearAxis\"},{\"attributes\":{\"callback\":null,\"data\":{\"Divorces\":{\"__ndarray__\":\"AAAAAACIw0AAAAAAAIjDQAAAAAAAfMVAAAAAAAB8xUAAAAAAAHDHQAAAAAAAcMdAAAAAAABkyUAAAAAAAFjLQAAAAAAAWMtAAAAAAABMzUAAAAAAAEDPQAAAAAAAQM9AAAAAAACa0EAAAAAAAIjTQAAAAAAAgtRAAAAAAAB81UAAAAAAAHbWQAAAAAAAdtZAAAAAAAB21kAAAAAAAGTZQAAAAAAAWNtAAAAAAABS3EAAAAAAAEDfQAAAAAAAHeBAAAAAAACU4UAAAAAAABHiQAAAAAAAEeJAAAAAAACO4kAAAAAAAIjjQAAAAAAA/+RAAAAAAAD55UAAAAAAAHDnQAAAAAAA5+hAAAAAAABY60AAAAAAAMntQAAAAAAAye1AAAAAAAC970AAAAAAAB3wQAAAAAAAmvBAAAAAAACU8UAAAAAAgMzyQAAAAACAzPJAAAAAAACI80AAAAAAgEP0QAAAAACAuvVAAAAAAADz9kAAAAAAgDf2QAAAAACAqPhAAAAAAABk+UAAAAAAANX7QAAAAAAAyf1AAAAAAABS/EAAAAAAgFUBQQAAAADA3wRBAAAAAACIA0EAAAAAQDACQQAAAABAJARBAAAAAMDfBEEAAAAAwFwFQQAAAABAlQZBAAAAAADtB0EAAAAAAGoIQQAAAACAJQlBAAAAAADtB0EAAAAAAPMGQQAAAAAABQRBAAAAAEAkBEEAAAAAAOcIQQAAAACAnApBAAAAAADPDEEAAAAAQGUOQQAAAAAAyQ1BAAAAAMCjDkEAAAAAAB0QQQAAAAAg4hFBAAAAAKCXE0EAAAAAYOkVQQAAAAAAahhBAAAAACCaHUEAAAAAoJ0iQQAAAADgeh1BAAAAAADnGEEAAAAAIDsYQQAAAACgfxdBAAAAACBBF0EAAAAAAO0XQQAAAADAzRdBAAAAAOAhF0EAAAAAoAIXQQAAAADAUBdBAAAAACBBF0EAAAAAAHYWQQAAAADgGxhBAAAAAKD8F0EAAAAAwEQZQQAAAAAgNRlBAAAAAIAfGkEAAAAAQHcbQQAAAABgPB1BAAAAAOB0HkEAAAAA4OsfQQAAAACA0iFBAAAAADCAI0EAAAAAQJslQQAAAAAQlydBAAAAAJDJKUEAAAAAcOwrQQAAAAD2Bi5BAAAAAEqjL0EAAAAAfqMwQQAAAACFzjBBAAAAADBTMUEAAAAAZjQyQQAAAACvETJBAAAAAOKZMkEAAAAAAAD4fwAAAAAAAPh/AAAAABIJMkEAAAAAUjIyQQAAAADT/jFBAAAAAE7JMUEAAAAAK5MxQQAAAADfvTFBAAAAACvxMUEAAAAApy4yQQAAAABK0TJBAAAAAPFEMkEAAAAA9X0yQQAAAAAAAPh/AAAAAAAA+H8AAAAA+L4xQQAAAACYUTFBAAAAAJ15MUEAAAAAAM8sQQAAAADAryxBAAAAAPAkLUEAAAAAMEosQQAAAAAw0ypBAAAAADDZKUEAAAAAgJwqQQAAAACAHypBAAAAAMDBKUEAAAAAgKIpQQAAAACAnCpBAAAAAJDDKkE=\",\"dtype\":\"float64\",\"shape\":[145]},\"Divorces_per_1000\":{\"__ndarray__\":\"MzMzMzMz0z8zMzMzMzPTPzMzMzMzM9M/MzMzMzMz0z8zMzMzMzPTPzMzMzMzM9M/MzMzMzMz0z8zMzMzMzPTPzMzMzMzM9M/MzMzMzMz0z8zMzMzMzPTPzMzMzMzM9M/MzMzMzMz0z+amZmZmZnZP5qZmZmZmdk/mpmZmZmZ2T+amZmZmZnZP5qZmZmZmdk/mpmZmZmZ2T+amZmZmZnZPwAAAAAAAOA/AAAAAAAA4D8AAAAAAADgPwAAAAAAAOA/MzMzMzMz4z8zMzMzMzPjPwAAAAAAAOA/MzMzMzMz4z8zMzMzMzPjPzMzMzMzM+M/MzMzMzMz4z9mZmZmZmbmP2ZmZmZmZuY/ZmZmZmZm5j+amZmZmZnpP5qZmZmZmek/mpmZmZmZ6T+amZmZmZnpP5qZmZmZmek/mpmZmZmZ6T/NzMzMzMzsP83MzMzMzOw/zczMzMzM7D/NzMzMzMzsP83MzMzMzOw/AAAAAAAA8D/NzMzMzMzsPwAAAAAAAPA/AAAAAAAA8D+amZmZmZnxPzMzMzMzM/M/mpmZmZmZ8T9mZmZmZmb2P5qZmZmZmfk/AAAAAAAA+D9mZmZmZmb2PwAAAAAAAPg/AAAAAAAA+D8AAAAAAAD4P5qZmZmZmfk/mpmZmZmZ+T8zMzMzMzP7PzMzMzMzM/s/mpmZmZmZ+T8AAAAAAAD4P83MzMzMzPQ/zczMzMzM9D+amZmZmZn5PzMzMzMzM/s/zczMzMzM/D9mZmZmZmb+P2ZmZmZmZv4/ZmZmZmZm/j8AAAAAAAAAQJqZmZmZmQFAMzMzMzMzA0DNzMzMzMwEQDMzMzMzMwdAAAAAAAAADEAzMzMzMzMRQDMzMzMzMwtAZmZmZmZmBkCamZmZmZkFQAAAAAAAAARAAAAAAAAABEAAAAAAAAAEQDMzMzMzMwNAZmZmZmZmAkBmZmZmZmYCQGZmZmZmZgJAmpmZmZmZAUDNzMzMzMwAQJqZmZmZmQFAmpmZmZmZAUBmZmZmZmYCQJqZmZmZmQFAZmZmZmZmAkBmZmZmZmYCQAAAAAAAAARAAAAAAAAABEDNzMzMzMwEQDMzMzMzMwdAmpmZmZmZCUAAAAAAAAAMQJqZmZmZmQ1AAAAAAAAAEEAzMzMzMzMRQGZmZmZmZhJAMzMzMzMzE0AAAAAAAAAUQAAAAAAAABRAZmZmZmZmFEAzMzMzMzMVQM3MzMzMzBRAMzMzMzMzFUAAAAAAAAD4fwAAAAAAAPh/AAAAAAAAFEAAAAAAAAAUQJqZmZmZmRNAMzMzMzMzE0DNzMzMzMwSQM3MzMzMzBJAzczMzMzMEkDNzMzMzMwSQDMzMzMzMxNAZmZmZmZmEkBmZmZmZmYSQAAAAAAAAPh/AAAAAAAA+H8zMzMzMzMRQGZmZmZmZhBAZmZmZmZmEEBmZmZmZmYKQGZmZmZmZgpAZmZmZmZmCkCamZmZmZkJQAAAAAAAAAhAMzMzMzMzB0AzMzMzMzMHQGZmZmZmZgZAZmZmZmZmBkCamZmZmZkFQGZmZmZmZgZAZmZmZmZmBkA=\",\"dtype\":\"float64\",\"shape\":[145]},\"Marriages\":{\"__ndarray__\":\"AAAAACDKFUEAAAAAoA4VQQAAAACAPRVBAAAAAAB8FUEAAAAAYOkVQQAAAABAEhdBAAAAAECPF0EAAAAAoH8XQQAAAACg9hhBAAAAACC4GEEAAAAA4BUZQQAAAABg0RlBAAAAAMC7GkEAAAAAIKYbQQAAAAAAUhxBAAAAAICKHUEAAAAAIJQeQQAAAAAgmh1BAAAAAODxHkEAAAAA4EsgQQAAAACgTx9BAAAAALBTIEEAAAAAcC4hQQAAAAAgZSFBAAAAAAARIkEAAAAAUFciQQAAAABQVyJBAAAAAMDxIUEAAAAAwOsiQQAAAADwYCNBAAAAAHCfI0EAAAAAsL4jQQAAAADQiSRBAAAAABCjJUEAAAAA4KQmQQAAAACAridBAAAAAKD2KEEAAAAAMN8oQQAAAAAgsilBAAAAADBQK0EAAAAAUJgsQQAAAABQJypBAAAAANBfK0EAAAAAQO4sQQAAAADwJC1BAAAAAJCrLkEAAAAAkCgvQQAAAADQRy9BAAAAAADDLkEAAAAAIGswQQAAAADAdDFBAAAAAICELkEAAAAAMIwxQQAAAACQcDNBAAAAAODCMUEAAAAAsE0xQQAAAACwxDJBAAAAAOgUMkEAAAAAoCAyQQAAAAA4WzJBAAAAAGhTMkEAAAAAMAkyQQAAAABo0DJBAAAAAFgyMUEAAAAAiDAwQQAAAADg9y1BAAAAABDBMEEAAAAA8N0zQQAAAACYPzRBAAAAAKjjNEEAAAAA+CM2QQAAAAA4TzRBAAAAAGBsNUEAAAAAYFo4QQAAAAAA4TlBAAAAAOAJO0EAAAAAKBA4QQAAAADgJzZBAAAAAMicOEEAAAAAnHpBQQAAAABAZT5BAAAAADiiO0EAAAAA4Bs4QQAAAAC4bzlBAAAAAHhWOEEAAAAAuHs3QQAAAAAQlzdBAAAAAFC8NkEAAAAAeFw3QQAAAABoLzhBAAAAALApN0EAAAAA+CM2QQAAAADwyzZBAAAAADg9N0EAAAAA4J43QQAAAAAoEDhBAAAAAPA8OUEAAAAASFI6QQAAAABAdztBAAAAAOhVPEEAAAAAWGc9QQAAAAAIkj9BAAAAAHRdQEEAAAAAJa1AQQAAAIBItkBBAAAAAFVpQUEAAAAAJm1BQQAAAICUIkFBAAAAAGF6QEEAAACA5XhAQQAAAIB+o0BBAAAAgKt+QUEAAAAAd9xBQQAAAACkakJBAAAAgOKZQkEAAAAAAAD4fwAAAAAAAPh/AAAAgOzvQkEAAACA52BCQQAAAADXXEJBAAAAAJlXQkEAAAAAwiJCQQAAAADTTkJBAAAAAJ+0QkEAAAAApy5CQQAAAIC/OkJBAAAAAEXfQUEAAACAgEpCQQAAAAAAAPh/AAAAAAAA+H8AAAAAQDBCQQAAAADQHkFBAAAAAHj9QUEAAAAAfKlBQQAAAAD4vkFBAAAAAKh4QUEAAAAAxCBBQQAAAAAsY0FBAAAAAJQoQUEAAAAANLtAQQAAAAAEw0BBAAAAAOR0QEEAAAAAAL0/QQAAAACA+z9BAAAAALgoQEE=\",\"dtype\":\"float64\",\"shape\":[145]},\"Marriages_per_1000\":{\"__ndarray__\":\"ZmZmZmZmI0AzMzMzMzMiQAAAAAAAACJAmpmZmZmZIUCamZmZmZkhQAAAAAAAACJAzczMzMzMIUBmZmZmZmYhQAAAAAAAACJAZmZmZmZmIUBmZmZmZmYhQJqZmZmZmSFAzczMzMzMIUAAAAAAAAAiQAAAAAAAACJAZmZmZmZmIkBmZmZmZmYiQGZmZmZmZiFAzczMzMzMIUBmZmZmZmYiQDMzMzMzMyFAmpmZmZmZIUAzMzMzMzMiQAAAAAAAACJAZmZmZmZmIkAzMzMzMzMiQM3MzMzMzCFAAAAAAAAAIUCamZmZmZkhQM3MzMzMzCFAzczMzMzMIUCamZmZmZkhQAAAAAAAACJAmpmZmZmZIkAzMzMzMzMjQJqZmZmZmSNAMzMzMzMzJEDNzMzMzMwjQAAAAAAAACRAAAAAAAAAJUCamZmZmZklQGZmZmZmZiNAzczMzMzMI0CamZmZmZkkQGZmZmZmZiRAAAAAAAAAJUAAAAAAAAAlQJqZmZmZmSRAAAAAAAAAJEAzMzMzMzMlQDMzMzMzMyZAMzMzMzMzI0DNzMzMzMwlQAAAAAAAAChAZmZmZmZmJUCamZmZmZkkQAAAAAAAACZAzczMzMzMJECamZmZmZkkQGZmZmZmZiRAMzMzMzMzJECamZmZmZkjQDMzMzMzMyRAMzMzMzMzIkAAAAAAAAAhQJqZmZmZmR9AZmZmZmZmIUCamZmZmZkkQM3MzMzMzCRAZmZmZmZmJUCamZmZmZkmQGZmZmZmZiRAZmZmZmZmJUAzMzMzMzMoQGZmZmZmZilAMzMzMzMzKkAAAAAAAAAnQAAAAAAAACVAAAAAAAAAJ0AzMzMzMzMwQJqZmZmZmStAzczMzMzMKEAzMzMzMzMlQAAAAAAAACZAmpmZmZmZJECamZmZmZkjQGZmZmZmZiNAZmZmZmZmIkCamZmZmZkiQM3MzMzMzCJAzczMzMzMIUCamZmZmZkgQM3MzMzMzCBAzczMzMzMIEDNzMzMzMwgQAAAAAAAACFAZmZmZmZmIUAAAAAAAAAiQJqZmZmZmSJAzczMzMzMIkBmZmZmZmYjQJqZmZmZmSRAMzMzMzMzJUBmZmZmZmYlQAAAAAAAACVAzczMzMzMJUCamZmZmZklQAAAAAAAACVAAAAAAAAAJEDNzMzMzMwjQM3MzMzMzCNAmpmZmZmZJEDNzMzMzMwkQDMzMzMzMyVAMzMzMzMzJUAAAAAAAAD4fwAAAAAAAPh/AAAAAAAAJUAzMzMzMzMkQAAAAAAAACRAzczMzMzMI0BmZmZmZmYjQGZmZmZmZiNAmpmZmZmZI0DNzMzMzMwiQJqZmZmZmSJAAAAAAAAAIkAzMzMzMzMiQAAAAAAAAPh/AAAAAAAA+H9mZmZmZmYhQDMzMzMzMyBAzczMzMzMIEBmZmZmZmYgQGZmZmZmZiBAAAAAAAAAIEDNzMzMzMweQDMzMzMzMx9AZmZmZmZmHkAzMzMzMzMdQDMzMzMzMx1AZmZmZmZmHEAzMzMzMzMbQDMzMzMzMxtAMzMzMzMzG0A=\",\"dtype\":\"float64\",\"shape\":[145]},\"Population\":[36970000,37885000,38870000,39905000,41010000,42066000,43225000,44429000,45492000,46459000,47400000,48319000,49264000,50262000,51466000,52893000,54435000,55826000,57128000,58258000,59357000,60614000,61893000,63056000,64432000,65920000,67470000,68910000,70076000,71188000,72441000,73600000,74793000,76094000,77584000,79163000,80632000,82166000,83822000,85450000,87008000,88710000,90490000,92407000,93863000,95335000,97225000,99111000,100546000,101961000,103414000,104550000,105063000,106461000,108538000,110049000,111947000,114109000,115829000,117397000,119035000,120509000,121878000,123188000,124149000,124949000,125690000,126485000,127362000,128181000,128961000,129969000,131028000,132122000,133402000,134860000,136739000,138397000,139928000,141389000,144126000,146631000,149188000,151684000,154287000,156954000,159565000,162391000,165275000,168221000,171274000,174141000,177130000,180760000,183742000,186590000,189300000,191927000,194347000,196599000,198752000,200745000,202736000,205089000,207692000,209924000,211939000,213898000,215981000,218086000,220289000,222629000,225106000,227726000,230008000,232218000,234333000,236394000,238506000,240683000,242843000,245061000,247387000,250181000,253530000,256922000,260282000,263455000,266588000,269714000,272958000,276154000,279328000,282398000,285225000,287955000,290626000,293262000,295993000,298818000,301696000,304543000,307240000,309776000,312034000],\"Year\":[1867,1868,1869,1870,1871,1872,1873,1874,1875,1876,1877,1878,1879,1880,1881,1882,1883,1884,1885,1886,1887,1888,1889,1890,1891,1892,1893,1894,1895,1896,1897,1898,1899,1900,1901,1902,1903,1904,1905,1906,1907,1908,1909,1910,1911,1912,1913,1914,1915,1916,1917,1918,1919,1920,1921,1922,1923,1924,1925,1926,1927,1928,1929,1930,1931,1932,1933,1934,1935,1936,1937,1938,1939,1940,1941,1942,1943,1944,1945,1946,1947,1948,1949,1950,1951,1952,1953,1954,1955,1956,1957,1958,1959,1960,1961,1962,1963,1964,1965,1966,1967,1968,1969,1970,1971,1972,1973,1974,1975,1976,1977,1978,1979,1980,1981,1982,1983,1984,1985,1986,1987,1988,1989,1990,1991,1992,1993,1994,1995,1996,1997,1998,1999,2000,2001,2002,2003,2004,2005,2006,2007,2008,2009,2010,2011],\"index\":[0,1,2,3,4,5,6,7,8,9,10,11,12,13,14,15,16,17,18,19,20,21,22,23,24,25,26,27,28,29,30,31,32,33,34,35,36,37,38,39,40,41,42,43,44,45,46,47,48,49,50,51,52,53,54,55,56,57,58,59,60,61,62,63,64,65,66,67,68,69,70,71,72,73,74,75,76,77,78,79,80,81,82,83,84,85,86,87,88,89,90,91,92,93,94,95,96,97,98,99,100,101,102,103,104,105,106,107,108,109,110,111,112,113,114,115,116,117,118,119,120,121,122,123,124,125,126,127,128,129,130,131,132,133,134,135,136,137,138,139,140,141,142,143,144]},\"selected\":{\"id\":\"f679b362-ecd4-4186-992e-8b033b10ffa7\",\"type\":\"Selection\"},\"selection_policy\":{\"id\":\"23828783-6512-42c0-81c0-963af008ada0\",\"type\":\"UnionRenderers\"}},\"id\":\"d663d5b6-ddf7-44b3-b306-6f3d2349bb8a\",\"type\":\"ColumnDataSource\"},{\"attributes\":{},\"id\":\"f42896be-d86a-436e-9094-de8baf5300ec\",\"type\":\"BasicTicker\"},{\"attributes\":{\"dimension\":1,\"plot\":{\"id\":\"a630278a-25bd-4d1b-af42-7a43f8a86002\",\"subtype\":\"Figure\",\"type\":\"Plot\"},\"ticker\":{\"id\":\"f42896be-d86a-436e-9094-de8baf5300ec\",\"type\":\"BasicTicker\"}},\"id\":\"470e9a26-4651-4002-b4ba-bf967bf3fdbf\",\"type\":\"Grid\"},{\"attributes\":{\"data_source\":{\"id\":\"d663d5b6-ddf7-44b3-b306-6f3d2349bb8a\",\"type\":\"ColumnDataSource\"},\"glyph\":{\"id\":\"1746c8c3-205d-4edf-94c0-217784837055\",\"type\":\"Circle\"},\"hover_glyph\":null,\"muted_glyph\":null,\"nonselection_glyph\":{\"id\":\"3f282c0c-8d36-4047-ac15-24a450196095\",\"type\":\"Circle\"},\"selection_glyph\":null,\"view\":{\"id\":\"88230642-787e-4442-889c-0d01a4bf8f71\",\"type\":\"CDSView\"}},\"id\":\"56e8ca15-a658-4f92-a32b-5291ed21ee06\",\"type\":\"GlyphRenderer\"},{\"attributes\":{\"below\":[{\"id\":\"d49038bc-9fdb-4f81-8955-6f4a621cabaa\",\"type\":\"LinearAxis\"}],\"left\":[{\"id\":\"06045d58-ddc9-49b3-8b3a-8a1c795b2c46\",\"type\":\"LinearAxis\"}],\"renderers\":[{\"id\":\"d49038bc-9fdb-4f81-8955-6f4a621cabaa\",\"type\":\"LinearAxis\"},{\"id\":\"794eb976-d8af-49ad-8d89-7ce621268fe9\",\"type\":\"Grid\"},{\"id\":\"06045d58-ddc9-49b3-8b3a-8a1c795b2c46\",\"type\":\"LinearAxis\"},{\"id\":\"470e9a26-4651-4002-b4ba-bf967bf3fdbf\",\"type\":\"Grid\"},{\"id\":\"32abf5e2-c077-4bf9-ad68-670b2c3a1862\",\"type\":\"BoxAnnotation\"},{\"id\":\"09e9375a-5632-4994-8b97-d7c4a2695acd\",\"type\":\"Legend\"},{\"id\":\"56e8ca15-a658-4f92-a32b-5291ed21ee06\",\"type\":\"GlyphRenderer\"},{\"id\":\"8d94f0dd-8f7f-4c56-a5a7-5b1c68806b3b\",\"type\":\"GlyphRenderer\"}],\"title\":{\"id\":\"28cc5e9d-0053-429f-b7b2-949fd9eafada\",\"type\":\"Title\"},\"toolbar\":{\"id\":\"8473fe8d-983b-4d98-a368-b3c636fb8554\",\"type\":\"Toolbar\"},\"x_range\":{\"id\":\"155711c9-6c95-4a95-b68e-8985bd7e7a51\",\"type\":\"DataRange1d\"},\"x_scale\":{\"id\":\"f0dda83c-68d4-4772-ade1-e9fb0954699b\",\"type\":\"LinearScale\"},\"y_range\":{\"id\":\"29d3b0c9-4b18-420e-b610-cf3a882cec09\",\"type\":\"DataRange1d\"},\"y_scale\":{\"id\":\"26f40456-5849-4c74-8dad-4d3358a5337a\",\"type\":\"LinearScale\"}},\"id\":\"a630278a-25bd-4d1b-af42-7a43f8a86002\",\"subtype\":\"Figure\",\"type\":\"Plot\"},{\"attributes\":{\"label\":{\"value\":\"Divorce\"},\"renderers\":[{\"id\":\"8d94f0dd-8f7f-4c56-a5a7-5b1c68806b3b\",\"type\":\"GlyphRenderer\"}]},\"id\":\"66286413-9276-42ca-99b3-7b48c47ae934\",\"type\":\"LegendItem\"},{\"attributes\":{\"fill_color\":{\"value\":\"#1f77b4\"},\"line_color\":{\"value\":\"#1f77b4\"},\"x\":{\"field\":\"Year\"},\"y\":{\"field\":\"Marriages\"}},\"id\":\"1746c8c3-205d-4edf-94c0-217784837055\",\"type\":\"Circle\"},{\"attributes\":{\"fill_color\":{\"value\":\"red\"},\"line_color\":{\"value\":\"red\"},\"x\":{\"field\":\"Year\"},\"y\":{\"field\":\"Divorces\"}},\"id\":\"c3927db2-1eef-4c9d-bf3d-1459aa0a1a22\",\"type\":\"Circle\"},{\"attributes\":{},\"id\":\"c2274c82-e070-4282-8cbd-d03935e046bd\",\"type\":\"PanTool\"},{\"attributes\":{\"overlay\":{\"id\":\"32abf5e2-c077-4bf9-ad68-670b2c3a1862\",\"type\":\"BoxAnnotation\"}},\"id\":\"52c005ac-1c2c-49c5-b5f1-ec537d80a2cc\",\"type\":\"BoxZoomTool\"},{\"attributes\":{},\"id\":\"e8247d5b-e1f7-4809-8282-a39d4f6c4e43\",\"type\":\"WheelZoomTool\"},{\"attributes\":{},\"id\":\"b870fff4-9e7c-45c4-b7a9-35bf1f20c320\",\"type\":\"SaveTool\"},{\"attributes\":{},\"id\":\"e4cbc48a-f662-4ac8-a35d-747ff0274abe\",\"type\":\"ResetTool\"}],\"root_ids\":[\"a630278a-25bd-4d1b-af42-7a43f8a86002\"]},\"title\":\"Bokeh Application\",\"version\":\"0.13.0\"}};\n",
       "  var render_items = [{\"docid\":\"842429c7-8849-418b-9136-62842ea2052a\",\"roots\":{\"a630278a-25bd-4d1b-af42-7a43f8a86002\":\"98f8d620-0dfe-4a0c-888f-b9d2daf1b3cc\"}}];\n",
       "  root.Bokeh.embed.embed_items_notebook(docs_json, render_items);\n",
       "\n",
       "  }\n",
       "  if (root.Bokeh !== undefined) {\n",
       "    embed_document(root);\n",
       "  } else {\n",
       "    var attempts = 0;\n",
       "    var timer = setInterval(function(root) {\n",
       "      if (root.Bokeh !== undefined) {\n",
       "        embed_document(root);\n",
       "        clearInterval(timer);\n",
       "      }\n",
       "      attempts++;\n",
       "      if (attempts > 100) {\n",
       "        console.log(\"Bokeh: ERROR: Unable to run BokehJS code because BokehJS library is missing\")\n",
       "        clearInterval(timer);\n",
       "      }\n",
       "    }, 10, root)\n",
       "  }\n",
       "})(window);"
      ],
      "application/vnd.bokehjs_exec.v0+json": ""
     },
     "metadata": {
      "application/vnd.bokehjs_exec.v0+json": {
       "id": "a630278a-25bd-4d1b-af42-7a43f8a86002"
      }
     },
     "output_type": "display_data"
    }
   ],
   "source": [
    "from bokeh.plotting import show, figure, output_notebook\n",
    "from bokeh.models import ColumnDataSource\n",
    "output_notebook()\n",
    "source = ColumnDataSource(df)\n",
    "\n",
    "p = figure(title = 'Mariages vs Year and Divorces vs Year')\n",
    "p.circle(x = 'Year', y = 'Marriages',\n",
    "         legend = 'Marriage',\n",
    "         source = source)\n",
    "p.circle(x = 'Year', y = 'Divorces', source = source, color = 'red',\n",
    "        legend = 'Divorce',)\n",
    "\n",
    "show(p)"
   ]
  },
  {
   "cell_type": "markdown",
   "metadata": {},
   "source": [
    "# Plot Mariages per 100 vs Year and Divorces per 1000 vs Year"
   ]
  },
  {
   "cell_type": "code",
   "execution_count": 10,
   "metadata": {},
   "outputs": [
    {
     "data": {
      "text/html": [
       "\n",
       "\n",
       "\n",
       "\n",
       "\n",
       "\n",
       "  <div class=\"bk-root\" id=\"253a2720-7afe-497a-bea3-665b95d2b319\"></div>\n"
      ]
     },
     "metadata": {},
     "output_type": "display_data"
    },
    {
     "data": {
      "application/javascript": [
       "(function(root) {\n",
       "  function embed_document(root) {\n",
       "    \n",
       "  var docs_json = {\"fe8c1053-ef06-4f96-a4bb-41f2ef0fc63c\":{\"roots\":{\"references\":[{\"attributes\":{},\"id\":\"f679b362-ecd4-4186-992e-8b033b10ffa7\",\"type\":\"Selection\"},{\"attributes\":{\"active_drag\":\"auto\",\"active_inspect\":\"auto\",\"active_multi\":null,\"active_scroll\":\"auto\",\"active_tap\":\"auto\",\"tools\":[{\"id\":\"0a7a19f5-7c90-4f94-aef6-5efec2da2f5f\",\"type\":\"PanTool\"},{\"id\":\"dbf22561-00ba-405c-875f-c86a6443f8b5\",\"type\":\"WheelZoomTool\"},{\"id\":\"4602ad79-c829-4ebf-a626-dd8698f3fd89\",\"type\":\"BoxZoomTool\"},{\"id\":\"bdc25ed2-43a4-46bd-8e0c-7fba18e6e5f4\",\"type\":\"SaveTool\"},{\"id\":\"34f0c9ac-7731-4a9d-88aa-dba317577813\",\"type\":\"ResetTool\"},{\"id\":\"482fc2bc-7b62-49f9-be5e-b91535972f93\",\"type\":\"HelpTool\"}]},\"id\":\"e7cc6534-bcde-4543-9ef4-e14128397fb0\",\"type\":\"Toolbar\"},{\"attributes\":{},\"id\":\"8de33aac-d711-4356-95a5-f2bcdd7731f5\",\"type\":\"BasicTickFormatter\"},{\"attributes\":{\"callback\":null},\"id\":\"2fc29625-d966-4f65-af72-4fbf5775f147\",\"type\":\"DataRange1d\"},{\"attributes\":{\"plot\":null,\"text\":\"Mariages per 100 vs Year and Divorces per 1000 vs Year\"},\"id\":\"628d09fb-f4f1-4189-b16d-9111e177ff20\",\"type\":\"Title\"},{\"attributes\":{\"below\":[{\"id\":\"4dfce8cf-521a-48cf-8d2c-69186416705b\",\"type\":\"LinearAxis\"}],\"left\":[{\"id\":\"57a1e76a-99ec-4aba-bcfd-9454f0dac60d\",\"type\":\"LinearAxis\"}],\"renderers\":[{\"id\":\"4dfce8cf-521a-48cf-8d2c-69186416705b\",\"type\":\"LinearAxis\"},{\"id\":\"8d856d95-ba8a-41ee-956c-485b1df249d9\",\"type\":\"Grid\"},{\"id\":\"57a1e76a-99ec-4aba-bcfd-9454f0dac60d\",\"type\":\"LinearAxis\"},{\"id\":\"9a60c285-aeed-493e-9a13-ce4cc5f42e91\",\"type\":\"Grid\"},{\"id\":\"079af32d-cb52-46c6-a675-ac6a0e235eb7\",\"type\":\"BoxAnnotation\"},{\"id\":\"8bc03e7a-e8e4-4f9c-8e78-214cce013c25\",\"type\":\"Legend\"},{\"id\":\"ae28d3bb-4c73-487a-89e7-bdc47995afe8\",\"type\":\"GlyphRenderer\"},{\"id\":\"0afa2440-d714-4229-95ff-a700be45db94\",\"type\":\"GlyphRenderer\"}],\"title\":{\"id\":\"628d09fb-f4f1-4189-b16d-9111e177ff20\",\"type\":\"Title\"},\"toolbar\":{\"id\":\"e7cc6534-bcde-4543-9ef4-e14128397fb0\",\"type\":\"Toolbar\"},\"x_range\":{\"id\":\"2fc29625-d966-4f65-af72-4fbf5775f147\",\"type\":\"DataRange1d\"},\"x_scale\":{\"id\":\"4cf118be-b7f3-4a4b-93c5-7df2f19abc75\",\"type\":\"LinearScale\"},\"y_range\":{\"id\":\"65a6cdd9-a5f3-4918-9333-aabb77175803\",\"type\":\"DataRange1d\"},\"y_scale\":{\"id\":\"9586381f-a6dc-432b-b1e1-57c4ea863e0e\",\"type\":\"LinearScale\"}},\"id\":\"1808c3ac-d2b1-4884-9ddc-1584cfb85c6e\",\"subtype\":\"Figure\",\"type\":\"Plot\"},{\"attributes\":{},\"id\":\"4cf118be-b7f3-4a4b-93c5-7df2f19abc75\",\"type\":\"LinearScale\"},{\"attributes\":{\"plot\":{\"id\":\"1808c3ac-d2b1-4884-9ddc-1584cfb85c6e\",\"subtype\":\"Figure\",\"type\":\"Plot\"},\"ticker\":{\"id\":\"ab4eda8f-4084-4600-92d9-ec1af83042a2\",\"type\":\"BasicTicker\"}},\"id\":\"8d856d95-ba8a-41ee-956c-485b1df249d9\",\"type\":\"Grid\"},{\"attributes\":{},\"id\":\"9586381f-a6dc-432b-b1e1-57c4ea863e0e\",\"type\":\"LinearScale\"},{\"attributes\":{\"callback\":null},\"id\":\"65a6cdd9-a5f3-4918-9333-aabb77175803\",\"type\":\"DataRange1d\"},{\"attributes\":{},\"id\":\"ab4eda8f-4084-4600-92d9-ec1af83042a2\",\"type\":\"BasicTicker\"},{\"attributes\":{\"formatter\":{\"id\":\"8de33aac-d711-4356-95a5-f2bcdd7731f5\",\"type\":\"BasicTickFormatter\"},\"plot\":{\"id\":\"1808c3ac-d2b1-4884-9ddc-1584cfb85c6e\",\"subtype\":\"Figure\",\"type\":\"Plot\"},\"ticker\":{\"id\":\"ab4eda8f-4084-4600-92d9-ec1af83042a2\",\"type\":\"BasicTicker\"}},\"id\":\"4dfce8cf-521a-48cf-8d2c-69186416705b\",\"type\":\"LinearAxis\"},{\"attributes\":{\"dimension\":1,\"plot\":{\"id\":\"1808c3ac-d2b1-4884-9ddc-1584cfb85c6e\",\"subtype\":\"Figure\",\"type\":\"Plot\"},\"ticker\":{\"id\":\"01b97105-3485-4e98-806b-1d26e915d608\",\"type\":\"BasicTicker\"}},\"id\":\"9a60c285-aeed-493e-9a13-ce4cc5f42e91\",\"type\":\"Grid\"},{\"attributes\":{},\"id\":\"23828783-6512-42c0-81c0-963af008ada0\",\"type\":\"UnionRenderers\"},{\"attributes\":{},\"id\":\"0a7a19f5-7c90-4f94-aef6-5efec2da2f5f\",\"type\":\"PanTool\"},{\"attributes\":{},\"id\":\"01b97105-3485-4e98-806b-1d26e915d608\",\"type\":\"BasicTicker\"},{\"attributes\":{},\"id\":\"bdc25ed2-43a4-46bd-8e0c-7fba18e6e5f4\",\"type\":\"SaveTool\"},{\"attributes\":{\"formatter\":{\"id\":\"95eac060-77eb-4836-929a-b8d96ec2383d\",\"type\":\"BasicTickFormatter\"},\"plot\":{\"id\":\"1808c3ac-d2b1-4884-9ddc-1584cfb85c6e\",\"subtype\":\"Figure\",\"type\":\"Plot\"},\"ticker\":{\"id\":\"01b97105-3485-4e98-806b-1d26e915d608\",\"type\":\"BasicTicker\"}},\"id\":\"57a1e76a-99ec-4aba-bcfd-9454f0dac60d\",\"type\":\"LinearAxis\"},{\"attributes\":{\"label\":{\"value\":\"Marriage_per_1000\"},\"renderers\":[{\"id\":\"ae28d3bb-4c73-487a-89e7-bdc47995afe8\",\"type\":\"GlyphRenderer\"}]},\"id\":\"1872d771-bcec-4f54-848d-8721480e4471\",\"type\":\"LegendItem\"},{\"attributes\":{\"fill_color\":{\"value\":\"#1f77b4\"},\"line_color\":{\"value\":\"#1f77b4\"},\"x\":{\"field\":\"Year\"},\"y\":{\"field\":\"Marriages_per_1000\"}},\"id\":\"1bdb9e84-221d-45d9-a1c8-6c068ab23e18\",\"type\":\"Circle\"},{\"attributes\":{\"source\":{\"id\":\"d663d5b6-ddf7-44b3-b306-6f3d2349bb8a\",\"type\":\"ColumnDataSource\"}},\"id\":\"b1363a3e-ffec-41ed-b29f-e04bfbf7b248\",\"type\":\"CDSView\"},{\"attributes\":{\"overlay\":{\"id\":\"079af32d-cb52-46c6-a675-ac6a0e235eb7\",\"type\":\"BoxAnnotation\"}},\"id\":\"4602ad79-c829-4ebf-a626-dd8698f3fd89\",\"type\":\"BoxZoomTool\"},{\"attributes\":{},\"id\":\"dbf22561-00ba-405c-875f-c86a6443f8b5\",\"type\":\"WheelZoomTool\"},{\"attributes\":{\"data_source\":{\"id\":\"d663d5b6-ddf7-44b3-b306-6f3d2349bb8a\",\"type\":\"ColumnDataSource\"},\"glyph\":{\"id\":\"1bdb9e84-221d-45d9-a1c8-6c068ab23e18\",\"type\":\"Circle\"},\"hover_glyph\":null,\"muted_glyph\":null,\"nonselection_glyph\":{\"id\":\"13717a97-48e0-4f44-b8a9-967be498a02f\",\"type\":\"Circle\"},\"selection_glyph\":null,\"view\":{\"id\":\"b1363a3e-ffec-41ed-b29f-e04bfbf7b248\",\"type\":\"CDSView\"}},\"id\":\"ae28d3bb-4c73-487a-89e7-bdc47995afe8\",\"type\":\"GlyphRenderer\"},{\"attributes\":{\"callback\":null,\"data\":{\"Divorces\":{\"__ndarray__\":\"AAAAAACIw0AAAAAAAIjDQAAAAAAAfMVAAAAAAAB8xUAAAAAAAHDHQAAAAAAAcMdAAAAAAABkyUAAAAAAAFjLQAAAAAAAWMtAAAAAAABMzUAAAAAAAEDPQAAAAAAAQM9AAAAAAACa0EAAAAAAAIjTQAAAAAAAgtRAAAAAAAB81UAAAAAAAHbWQAAAAAAAdtZAAAAAAAB21kAAAAAAAGTZQAAAAAAAWNtAAAAAAABS3EAAAAAAAEDfQAAAAAAAHeBAAAAAAACU4UAAAAAAABHiQAAAAAAAEeJAAAAAAACO4kAAAAAAAIjjQAAAAAAA/+RAAAAAAAD55UAAAAAAAHDnQAAAAAAA5+hAAAAAAABY60AAAAAAAMntQAAAAAAAye1AAAAAAAC970AAAAAAAB3wQAAAAAAAmvBAAAAAAACU8UAAAAAAgMzyQAAAAACAzPJAAAAAAACI80AAAAAAgEP0QAAAAACAuvVAAAAAAADz9kAAAAAAgDf2QAAAAACAqPhAAAAAAABk+UAAAAAAANX7QAAAAAAAyf1AAAAAAABS/EAAAAAAgFUBQQAAAADA3wRBAAAAAACIA0EAAAAAQDACQQAAAABAJARBAAAAAMDfBEEAAAAAwFwFQQAAAABAlQZBAAAAAADtB0EAAAAAAGoIQQAAAACAJQlBAAAAAADtB0EAAAAAAPMGQQAAAAAABQRBAAAAAEAkBEEAAAAAAOcIQQAAAACAnApBAAAAAADPDEEAAAAAQGUOQQAAAAAAyQ1BAAAAAMCjDkEAAAAAAB0QQQAAAAAg4hFBAAAAAKCXE0EAAAAAYOkVQQAAAAAAahhBAAAAACCaHUEAAAAAoJ0iQQAAAADgeh1BAAAAAADnGEEAAAAAIDsYQQAAAACgfxdBAAAAACBBF0EAAAAAAO0XQQAAAADAzRdBAAAAAOAhF0EAAAAAoAIXQQAAAADAUBdBAAAAACBBF0EAAAAAAHYWQQAAAADgGxhBAAAAAKD8F0EAAAAAwEQZQQAAAAAgNRlBAAAAAIAfGkEAAAAAQHcbQQAAAABgPB1BAAAAAOB0HkEAAAAA4OsfQQAAAACA0iFBAAAAADCAI0EAAAAAQJslQQAAAAAQlydBAAAAAJDJKUEAAAAAcOwrQQAAAAD2Bi5BAAAAAEqjL0EAAAAAfqMwQQAAAACFzjBBAAAAADBTMUEAAAAAZjQyQQAAAACvETJBAAAAAOKZMkEAAAAAAAD4fwAAAAAAAPh/AAAAABIJMkEAAAAAUjIyQQAAAADT/jFBAAAAAE7JMUEAAAAAK5MxQQAAAADfvTFBAAAAACvxMUEAAAAApy4yQQAAAABK0TJBAAAAAPFEMkEAAAAA9X0yQQAAAAAAAPh/AAAAAAAA+H8AAAAA+L4xQQAAAACYUTFBAAAAAJ15MUEAAAAAAM8sQQAAAADAryxBAAAAAPAkLUEAAAAAMEosQQAAAAAw0ypBAAAAADDZKUEAAAAAgJwqQQAAAACAHypBAAAAAMDBKUEAAAAAgKIpQQAAAACAnCpBAAAAAJDDKkE=\",\"dtype\":\"float64\",\"shape\":[145]},\"Divorces_per_1000\":{\"__ndarray__\":\"MzMzMzMz0z8zMzMzMzPTPzMzMzMzM9M/MzMzMzMz0z8zMzMzMzPTPzMzMzMzM9M/MzMzMzMz0z8zMzMzMzPTPzMzMzMzM9M/MzMzMzMz0z8zMzMzMzPTPzMzMzMzM9M/MzMzMzMz0z+amZmZmZnZP5qZmZmZmdk/mpmZmZmZ2T+amZmZmZnZP5qZmZmZmdk/mpmZmZmZ2T+amZmZmZnZPwAAAAAAAOA/AAAAAAAA4D8AAAAAAADgPwAAAAAAAOA/MzMzMzMz4z8zMzMzMzPjPwAAAAAAAOA/MzMzMzMz4z8zMzMzMzPjPzMzMzMzM+M/MzMzMzMz4z9mZmZmZmbmP2ZmZmZmZuY/ZmZmZmZm5j+amZmZmZnpP5qZmZmZmek/mpmZmZmZ6T+amZmZmZnpP5qZmZmZmek/mpmZmZmZ6T/NzMzMzMzsP83MzMzMzOw/zczMzMzM7D/NzMzMzMzsP83MzMzMzOw/AAAAAAAA8D/NzMzMzMzsPwAAAAAAAPA/AAAAAAAA8D+amZmZmZnxPzMzMzMzM/M/mpmZmZmZ8T9mZmZmZmb2P5qZmZmZmfk/AAAAAAAA+D9mZmZmZmb2PwAAAAAAAPg/AAAAAAAA+D8AAAAAAAD4P5qZmZmZmfk/mpmZmZmZ+T8zMzMzMzP7PzMzMzMzM/s/mpmZmZmZ+T8AAAAAAAD4P83MzMzMzPQ/zczMzMzM9D+amZmZmZn5PzMzMzMzM/s/zczMzMzM/D9mZmZmZmb+P2ZmZmZmZv4/ZmZmZmZm/j8AAAAAAAAAQJqZmZmZmQFAMzMzMzMzA0DNzMzMzMwEQDMzMzMzMwdAAAAAAAAADEAzMzMzMzMRQDMzMzMzMwtAZmZmZmZmBkCamZmZmZkFQAAAAAAAAARAAAAAAAAABEAAAAAAAAAEQDMzMzMzMwNAZmZmZmZmAkBmZmZmZmYCQGZmZmZmZgJAmpmZmZmZAUDNzMzMzMwAQJqZmZmZmQFAmpmZmZmZAUBmZmZmZmYCQJqZmZmZmQFAZmZmZmZmAkBmZmZmZmYCQAAAAAAAAARAAAAAAAAABEDNzMzMzMwEQDMzMzMzMwdAmpmZmZmZCUAAAAAAAAAMQJqZmZmZmQ1AAAAAAAAAEEAzMzMzMzMRQGZmZmZmZhJAMzMzMzMzE0AAAAAAAAAUQAAAAAAAABRAZmZmZmZmFEAzMzMzMzMVQM3MzMzMzBRAMzMzMzMzFUAAAAAAAAD4fwAAAAAAAPh/AAAAAAAAFEAAAAAAAAAUQJqZmZmZmRNAMzMzMzMzE0DNzMzMzMwSQM3MzMzMzBJAzczMzMzMEkDNzMzMzMwSQDMzMzMzMxNAZmZmZmZmEkBmZmZmZmYSQAAAAAAAAPh/AAAAAAAA+H8zMzMzMzMRQGZmZmZmZhBAZmZmZmZmEEBmZmZmZmYKQGZmZmZmZgpAZmZmZmZmCkCamZmZmZkJQAAAAAAAAAhAMzMzMzMzB0AzMzMzMzMHQGZmZmZmZgZAZmZmZmZmBkCamZmZmZkFQGZmZmZmZgZAZmZmZmZmBkA=\",\"dtype\":\"float64\",\"shape\":[145]},\"Marriages\":{\"__ndarray__\":\"AAAAACDKFUEAAAAAoA4VQQAAAACAPRVBAAAAAAB8FUEAAAAAYOkVQQAAAABAEhdBAAAAAECPF0EAAAAAoH8XQQAAAACg9hhBAAAAACC4GEEAAAAA4BUZQQAAAABg0RlBAAAAAMC7GkEAAAAAIKYbQQAAAAAAUhxBAAAAAICKHUEAAAAAIJQeQQAAAAAgmh1BAAAAAODxHkEAAAAA4EsgQQAAAACgTx9BAAAAALBTIEEAAAAAcC4hQQAAAAAgZSFBAAAAAAARIkEAAAAAUFciQQAAAABQVyJBAAAAAMDxIUEAAAAAwOsiQQAAAADwYCNBAAAAAHCfI0EAAAAAsL4jQQAAAADQiSRBAAAAABCjJUEAAAAA4KQmQQAAAACAridBAAAAAKD2KEEAAAAAMN8oQQAAAAAgsilBAAAAADBQK0EAAAAAUJgsQQAAAABQJypBAAAAANBfK0EAAAAAQO4sQQAAAADwJC1BAAAAAJCrLkEAAAAAkCgvQQAAAADQRy9BAAAAAADDLkEAAAAAIGswQQAAAADAdDFBAAAAAICELkEAAAAAMIwxQQAAAACQcDNBAAAAAODCMUEAAAAAsE0xQQAAAACwxDJBAAAAAOgUMkEAAAAAoCAyQQAAAAA4WzJBAAAAAGhTMkEAAAAAMAkyQQAAAABo0DJBAAAAAFgyMUEAAAAAiDAwQQAAAADg9y1BAAAAABDBMEEAAAAA8N0zQQAAAACYPzRBAAAAAKjjNEEAAAAA+CM2QQAAAAA4TzRBAAAAAGBsNUEAAAAAYFo4QQAAAAAA4TlBAAAAAOAJO0EAAAAAKBA4QQAAAADgJzZBAAAAAMicOEEAAAAAnHpBQQAAAABAZT5BAAAAADiiO0EAAAAA4Bs4QQAAAAC4bzlBAAAAAHhWOEEAAAAAuHs3QQAAAAAQlzdBAAAAAFC8NkEAAAAAeFw3QQAAAABoLzhBAAAAALApN0EAAAAA+CM2QQAAAADwyzZBAAAAADg9N0EAAAAA4J43QQAAAAAoEDhBAAAAAPA8OUEAAAAASFI6QQAAAABAdztBAAAAAOhVPEEAAAAAWGc9QQAAAAAIkj9BAAAAAHRdQEEAAAAAJa1AQQAAAIBItkBBAAAAAFVpQUEAAAAAJm1BQQAAAICUIkFBAAAAAGF6QEEAAACA5XhAQQAAAIB+o0BBAAAAgKt+QUEAAAAAd9xBQQAAAACkakJBAAAAgOKZQkEAAAAAAAD4fwAAAAAAAPh/AAAAgOzvQkEAAACA52BCQQAAAADXXEJBAAAAAJlXQkEAAAAAwiJCQQAAAADTTkJBAAAAAJ+0QkEAAAAApy5CQQAAAIC/OkJBAAAAAEXfQUEAAACAgEpCQQAAAAAAAPh/AAAAAAAA+H8AAAAAQDBCQQAAAADQHkFBAAAAAHj9QUEAAAAAfKlBQQAAAAD4vkFBAAAAAKh4QUEAAAAAxCBBQQAAAAAsY0FBAAAAAJQoQUEAAAAANLtAQQAAAAAEw0BBAAAAAOR0QEEAAAAAAL0/QQAAAACA+z9BAAAAALgoQEE=\",\"dtype\":\"float64\",\"shape\":[145]},\"Marriages_per_1000\":{\"__ndarray__\":\"ZmZmZmZmI0AzMzMzMzMiQAAAAAAAACJAmpmZmZmZIUCamZmZmZkhQAAAAAAAACJAzczMzMzMIUBmZmZmZmYhQAAAAAAAACJAZmZmZmZmIUBmZmZmZmYhQJqZmZmZmSFAzczMzMzMIUAAAAAAAAAiQAAAAAAAACJAZmZmZmZmIkBmZmZmZmYiQGZmZmZmZiFAzczMzMzMIUBmZmZmZmYiQDMzMzMzMyFAmpmZmZmZIUAzMzMzMzMiQAAAAAAAACJAZmZmZmZmIkAzMzMzMzMiQM3MzMzMzCFAAAAAAAAAIUCamZmZmZkhQM3MzMzMzCFAzczMzMzMIUCamZmZmZkhQAAAAAAAACJAmpmZmZmZIkAzMzMzMzMjQJqZmZmZmSNAMzMzMzMzJEDNzMzMzMwjQAAAAAAAACRAAAAAAAAAJUCamZmZmZklQGZmZmZmZiNAzczMzMzMI0CamZmZmZkkQGZmZmZmZiRAAAAAAAAAJUAAAAAAAAAlQJqZmZmZmSRAAAAAAAAAJEAzMzMzMzMlQDMzMzMzMyZAMzMzMzMzI0DNzMzMzMwlQAAAAAAAAChAZmZmZmZmJUCamZmZmZkkQAAAAAAAACZAzczMzMzMJECamZmZmZkkQGZmZmZmZiRAMzMzMzMzJECamZmZmZkjQDMzMzMzMyRAMzMzMzMzIkAAAAAAAAAhQJqZmZmZmR9AZmZmZmZmIUCamZmZmZkkQM3MzMzMzCRAZmZmZmZmJUCamZmZmZkmQGZmZmZmZiRAZmZmZmZmJUAzMzMzMzMoQGZmZmZmZilAMzMzMzMzKkAAAAAAAAAnQAAAAAAAACVAAAAAAAAAJ0AzMzMzMzMwQJqZmZmZmStAzczMzMzMKEAzMzMzMzMlQAAAAAAAACZAmpmZmZmZJECamZmZmZkjQGZmZmZmZiNAZmZmZmZmIkCamZmZmZkiQM3MzMzMzCJAzczMzMzMIUCamZmZmZkgQM3MzMzMzCBAzczMzMzMIEDNzMzMzMwgQAAAAAAAACFAZmZmZmZmIUAAAAAAAAAiQJqZmZmZmSJAzczMzMzMIkBmZmZmZmYjQJqZmZmZmSRAMzMzMzMzJUBmZmZmZmYlQAAAAAAAACVAzczMzMzMJUCamZmZmZklQAAAAAAAACVAAAAAAAAAJEDNzMzMzMwjQM3MzMzMzCNAmpmZmZmZJEDNzMzMzMwkQDMzMzMzMyVAMzMzMzMzJUAAAAAAAAD4fwAAAAAAAPh/AAAAAAAAJUAzMzMzMzMkQAAAAAAAACRAzczMzMzMI0BmZmZmZmYjQGZmZmZmZiNAmpmZmZmZI0DNzMzMzMwiQJqZmZmZmSJAAAAAAAAAIkAzMzMzMzMiQAAAAAAAAPh/AAAAAAAA+H9mZmZmZmYhQDMzMzMzMyBAzczMzMzMIEBmZmZmZmYgQGZmZmZmZiBAAAAAAAAAIEDNzMzMzMweQDMzMzMzMx9AZmZmZmZmHkAzMzMzMzMdQDMzMzMzMx1AZmZmZmZmHEAzMzMzMzMbQDMzMzMzMxtAMzMzMzMzG0A=\",\"dtype\":\"float64\",\"shape\":[145]},\"Population\":[36970000,37885000,38870000,39905000,41010000,42066000,43225000,44429000,45492000,46459000,47400000,48319000,49264000,50262000,51466000,52893000,54435000,55826000,57128000,58258000,59357000,60614000,61893000,63056000,64432000,65920000,67470000,68910000,70076000,71188000,72441000,73600000,74793000,76094000,77584000,79163000,80632000,82166000,83822000,85450000,87008000,88710000,90490000,92407000,93863000,95335000,97225000,99111000,100546000,101961000,103414000,104550000,105063000,106461000,108538000,110049000,111947000,114109000,115829000,117397000,119035000,120509000,121878000,123188000,124149000,124949000,125690000,126485000,127362000,128181000,128961000,129969000,131028000,132122000,133402000,134860000,136739000,138397000,139928000,141389000,144126000,146631000,149188000,151684000,154287000,156954000,159565000,162391000,165275000,168221000,171274000,174141000,177130000,180760000,183742000,186590000,189300000,191927000,194347000,196599000,198752000,200745000,202736000,205089000,207692000,209924000,211939000,213898000,215981000,218086000,220289000,222629000,225106000,227726000,230008000,232218000,234333000,236394000,238506000,240683000,242843000,245061000,247387000,250181000,253530000,256922000,260282000,263455000,266588000,269714000,272958000,276154000,279328000,282398000,285225000,287955000,290626000,293262000,295993000,298818000,301696000,304543000,307240000,309776000,312034000],\"Year\":[1867,1868,1869,1870,1871,1872,1873,1874,1875,1876,1877,1878,1879,1880,1881,1882,1883,1884,1885,1886,1887,1888,1889,1890,1891,1892,1893,1894,1895,1896,1897,1898,1899,1900,1901,1902,1903,1904,1905,1906,1907,1908,1909,1910,1911,1912,1913,1914,1915,1916,1917,1918,1919,1920,1921,1922,1923,1924,1925,1926,1927,1928,1929,1930,1931,1932,1933,1934,1935,1936,1937,1938,1939,1940,1941,1942,1943,1944,1945,1946,1947,1948,1949,1950,1951,1952,1953,1954,1955,1956,1957,1958,1959,1960,1961,1962,1963,1964,1965,1966,1967,1968,1969,1970,1971,1972,1973,1974,1975,1976,1977,1978,1979,1980,1981,1982,1983,1984,1985,1986,1987,1988,1989,1990,1991,1992,1993,1994,1995,1996,1997,1998,1999,2000,2001,2002,2003,2004,2005,2006,2007,2008,2009,2010,2011],\"index\":[0,1,2,3,4,5,6,7,8,9,10,11,12,13,14,15,16,17,18,19,20,21,22,23,24,25,26,27,28,29,30,31,32,33,34,35,36,37,38,39,40,41,42,43,44,45,46,47,48,49,50,51,52,53,54,55,56,57,58,59,60,61,62,63,64,65,66,67,68,69,70,71,72,73,74,75,76,77,78,79,80,81,82,83,84,85,86,87,88,89,90,91,92,93,94,95,96,97,98,99,100,101,102,103,104,105,106,107,108,109,110,111,112,113,114,115,116,117,118,119,120,121,122,123,124,125,126,127,128,129,130,131,132,133,134,135,136,137,138,139,140,141,142,143,144]},\"selected\":{\"id\":\"f679b362-ecd4-4186-992e-8b033b10ffa7\",\"type\":\"Selection\"},\"selection_policy\":{\"id\":\"23828783-6512-42c0-81c0-963af008ada0\",\"type\":\"UnionRenderers\"}},\"id\":\"d663d5b6-ddf7-44b3-b306-6f3d2349bb8a\",\"type\":\"ColumnDataSource\"},{\"attributes\":{\"items\":[{\"id\":\"1872d771-bcec-4f54-848d-8721480e4471\",\"type\":\"LegendItem\"},{\"id\":\"b97b4fb7-8d4e-4ca8-9c29-64df04da9f6c\",\"type\":\"LegendItem\"}],\"plot\":{\"id\":\"1808c3ac-d2b1-4884-9ddc-1584cfb85c6e\",\"subtype\":\"Figure\",\"type\":\"Plot\"}},\"id\":\"8bc03e7a-e8e4-4f9c-8e78-214cce013c25\",\"type\":\"Legend\"},{\"attributes\":{\"data_source\":{\"id\":\"d663d5b6-ddf7-44b3-b306-6f3d2349bb8a\",\"type\":\"ColumnDataSource\"},\"glyph\":{\"id\":\"45630ac4-dea5-4374-a249-f9bb1557454d\",\"type\":\"Circle\"},\"hover_glyph\":null,\"muted_glyph\":null,\"nonselection_glyph\":{\"id\":\"49281058-6807-4f7f-b037-dab8b1c8dfef\",\"type\":\"Circle\"},\"selection_glyph\":null,\"view\":{\"id\":\"2eaab768-ef26-4933-852e-7922e8af0802\",\"type\":\"CDSView\"}},\"id\":\"0afa2440-d714-4229-95ff-a700be45db94\",\"type\":\"GlyphRenderer\"},{\"attributes\":{\"source\":{\"id\":\"d663d5b6-ddf7-44b3-b306-6f3d2349bb8a\",\"type\":\"ColumnDataSource\"}},\"id\":\"2eaab768-ef26-4933-852e-7922e8af0802\",\"type\":\"CDSView\"},{\"attributes\":{\"fill_color\":{\"value\":\"red\"},\"line_color\":{\"value\":\"red\"},\"x\":{\"field\":\"Year\"},\"y\":{\"field\":\"Divorces_per_1000\"}},\"id\":\"45630ac4-dea5-4374-a249-f9bb1557454d\",\"type\":\"Circle\"},{\"attributes\":{\"bottom_units\":\"screen\",\"fill_alpha\":{\"value\":0.5},\"fill_color\":{\"value\":\"lightgrey\"},\"left_units\":\"screen\",\"level\":\"overlay\",\"line_alpha\":{\"value\":1.0},\"line_color\":{\"value\":\"black\"},\"line_dash\":[4,4],\"line_width\":{\"value\":2},\"plot\":null,\"render_mode\":\"css\",\"right_units\":\"screen\",\"top_units\":\"screen\"},\"id\":\"079af32d-cb52-46c6-a675-ac6a0e235eb7\",\"type\":\"BoxAnnotation\"},{\"attributes\":{},\"id\":\"482fc2bc-7b62-49f9-be5e-b91535972f93\",\"type\":\"HelpTool\"},{\"attributes\":{},\"id\":\"34f0c9ac-7731-4a9d-88aa-dba317577813\",\"type\":\"ResetTool\"},{\"attributes\":{},\"id\":\"95eac060-77eb-4836-929a-b8d96ec2383d\",\"type\":\"BasicTickFormatter\"},{\"attributes\":{\"fill_alpha\":{\"value\":0.1},\"fill_color\":{\"value\":\"#1f77b4\"},\"line_alpha\":{\"value\":0.1},\"line_color\":{\"value\":\"#1f77b4\"},\"x\":{\"field\":\"Year\"},\"y\":{\"field\":\"Divorces_per_1000\"}},\"id\":\"49281058-6807-4f7f-b037-dab8b1c8dfef\",\"type\":\"Circle\"},{\"attributes\":{\"label\":{\"value\":\"Divorce_per_1000\"},\"renderers\":[{\"id\":\"0afa2440-d714-4229-95ff-a700be45db94\",\"type\":\"GlyphRenderer\"}]},\"id\":\"b97b4fb7-8d4e-4ca8-9c29-64df04da9f6c\",\"type\":\"LegendItem\"},{\"attributes\":{\"fill_alpha\":{\"value\":0.1},\"fill_color\":{\"value\":\"#1f77b4\"},\"line_alpha\":{\"value\":0.1},\"line_color\":{\"value\":\"#1f77b4\"},\"x\":{\"field\":\"Year\"},\"y\":{\"field\":\"Marriages_per_1000\"}},\"id\":\"13717a97-48e0-4f44-b8a9-967be498a02f\",\"type\":\"Circle\"}],\"root_ids\":[\"1808c3ac-d2b1-4884-9ddc-1584cfb85c6e\"]},\"title\":\"Bokeh Application\",\"version\":\"0.13.0\"}};\n",
       "  var render_items = [{\"docid\":\"fe8c1053-ef06-4f96-a4bb-41f2ef0fc63c\",\"roots\":{\"1808c3ac-d2b1-4884-9ddc-1584cfb85c6e\":\"253a2720-7afe-497a-bea3-665b95d2b319\"}}];\n",
       "  root.Bokeh.embed.embed_items_notebook(docs_json, render_items);\n",
       "\n",
       "  }\n",
       "  if (root.Bokeh !== undefined) {\n",
       "    embed_document(root);\n",
       "  } else {\n",
       "    var attempts = 0;\n",
       "    var timer = setInterval(function(root) {\n",
       "      if (root.Bokeh !== undefined) {\n",
       "        embed_document(root);\n",
       "        clearInterval(timer);\n",
       "      }\n",
       "      attempts++;\n",
       "      if (attempts > 100) {\n",
       "        console.log(\"Bokeh: ERROR: Unable to run BokehJS code because BokehJS library is missing\")\n",
       "        clearInterval(timer);\n",
       "      }\n",
       "    }, 10, root)\n",
       "  }\n",
       "})(window);"
      ],
      "application/vnd.bokehjs_exec.v0+json": ""
     },
     "metadata": {
      "application/vnd.bokehjs_exec.v0+json": {
       "id": "1808c3ac-d2b1-4884-9ddc-1584cfb85c6e"
      }
     },
     "output_type": "display_data"
    }
   ],
   "source": [
    "p = figure(title = 'Mariages per 100 vs Year and Divorces per 1000 vs Year')\n",
    "p.circle(x = 'Year', y = 'Marriages_per_1000',\n",
    "         legend = 'Marriage_per_1000',\n",
    "         source = source)\n",
    "p.circle(x = 'Year', y = 'Divorces_per_1000', source = source, color = 'red',\n",
    "        legend = 'Divorce_per_1000',)\n",
    "\n",
    "show(p)"
   ]
  },
  {
   "cell_type": "code",
   "execution_count": 11,
   "metadata": {},
   "outputs": [
    {
     "data": {
      "text/html": [
       "<div>\n",
       "<style scoped>\n",
       "    .dataframe tbody tr th:only-of-type {\n",
       "        vertical-align: middle;\n",
       "    }\n",
       "\n",
       "    .dataframe tbody tr th {\n",
       "        vertical-align: top;\n",
       "    }\n",
       "\n",
       "    .dataframe thead th {\n",
       "        text-align: right;\n",
       "    }\n",
       "</style>\n",
       "<table border=\"1\" class=\"dataframe\">\n",
       "  <thead>\n",
       "    <tr style=\"text-align: right;\">\n",
       "      <th></th>\n",
       "      <th>Year</th>\n",
       "      <th>Marriages</th>\n",
       "      <th>Divorces</th>\n",
       "      <th>Population</th>\n",
       "      <th>Marriages_per_1000</th>\n",
       "      <th>Divorces_per_1000</th>\n",
       "    </tr>\n",
       "  </thead>\n",
       "  <tbody>\n",
       "    <tr>\n",
       "      <th>0</th>\n",
       "      <td>1867</td>\n",
       "      <td>357000.0</td>\n",
       "      <td>10000.0</td>\n",
       "      <td>36970000</td>\n",
       "      <td>9.7</td>\n",
       "      <td>0.3</td>\n",
       "    </tr>\n",
       "    <tr>\n",
       "      <th>1</th>\n",
       "      <td>1868</td>\n",
       "      <td>345000.0</td>\n",
       "      <td>10000.0</td>\n",
       "      <td>37885000</td>\n",
       "      <td>9.1</td>\n",
       "      <td>0.3</td>\n",
       "    </tr>\n",
       "    <tr>\n",
       "      <th>2</th>\n",
       "      <td>1869</td>\n",
       "      <td>348000.0</td>\n",
       "      <td>11000.0</td>\n",
       "      <td>38870000</td>\n",
       "      <td>9.0</td>\n",
       "      <td>0.3</td>\n",
       "    </tr>\n",
       "    <tr>\n",
       "      <th>3</th>\n",
       "      <td>1870</td>\n",
       "      <td>352000.0</td>\n",
       "      <td>11000.0</td>\n",
       "      <td>39905000</td>\n",
       "      <td>8.8</td>\n",
       "      <td>0.3</td>\n",
       "    </tr>\n",
       "    <tr>\n",
       "      <th>4</th>\n",
       "      <td>1871</td>\n",
       "      <td>359000.0</td>\n",
       "      <td>12000.0</td>\n",
       "      <td>41010000</td>\n",
       "      <td>8.8</td>\n",
       "      <td>0.3</td>\n",
       "    </tr>\n",
       "  </tbody>\n",
       "</table>\n",
       "</div>"
      ],
      "text/plain": [
       "   Year  Marriages  Divorces  Population  Marriages_per_1000  \\\n",
       "0  1867   357000.0   10000.0    36970000                 9.7   \n",
       "1  1868   345000.0   10000.0    37885000                 9.1   \n",
       "2  1869   348000.0   11000.0    38870000                 9.0   \n",
       "3  1870   352000.0   11000.0    39905000                 8.8   \n",
       "4  1871   359000.0   12000.0    41010000                 8.8   \n",
       "\n",
       "   Divorces_per_1000  \n",
       "0                0.3  \n",
       "1                0.3  \n",
       "2                0.3  \n",
       "3                0.3  \n",
       "4                0.3  "
      ]
     },
     "execution_count": 11,
     "metadata": {},
     "output_type": "execute_result"
    }
   ],
   "source": [
    "df.head()"
   ]
  }
 ],
 "metadata": {
  "kernelspec": {
   "display_name": "Python 3",
   "language": "python",
   "name": "python3"
  },
  "language_info": {
   "codemirror_mode": {
    "name": "ipython",
    "version": 3
   },
   "file_extension": ".py",
   "mimetype": "text/x-python",
   "name": "python",
   "nbconvert_exporter": "python",
   "pygments_lexer": "ipython3",
   "version": "3.7.0"
  }
 },
 "nbformat": 4,
 "nbformat_minor": 2
}
